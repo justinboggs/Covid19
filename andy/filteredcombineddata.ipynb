{
 "cells": [
  {
   "cell_type": "code",
   "execution_count": 1,
   "metadata": {},
   "outputs": [],
   "source": [
    "#dependencies\n",
    "import pandas as pd\n",
    "\n",
    "#csv paths of original csv filtered by most recent year\n",
    "csv1 = \"filteredbyrecentyear/2016lifexp.csv\"\n",
    "csv2 = \"filteredbyrecentyear/2015medage.csv\"\n",
    "csv3 = \"filteredbyrecentyear/2017urbanaggper.csv\"\n",
    "csv4 = \"filteredbyrecentyear/2017urbanagg1m.csv\"\n",
    "csv5 = \"filteredbyrecentyear/2016urbangdp.csv\"\n",
    "csv6 = \"filteredbyrecentyear/2010urbanlandareacensus.csv\"\n",
    "\n",
    "#reading csvs\n",
    "life_exp = pd.read_csv(csv1)\n",
    "medianage = pd.read_csv(csv2)\n",
    "urbanagg1mperc = pd.read_csv(csv3)\n",
    "urbanaggmorethan1m = pd.read_csv(csv4)\n",
    "urbanvsgdp = pd.read_csv(csv5)\n",
    "urbanlandarea = pd.read_csv(csv6)"
   ]
  },
  {
   "cell_type": "code",
   "execution_count": 2,
   "metadata": {},
   "outputs": [],
   "source": [
    "#deleting the year column\n",
    "del life_exp['Year']\n",
    "del medianage['Year']\n",
    "del urbanagg1mperc['Year']\n",
    "del urbanaggmorethan1m['Year']\n",
    "del urbanvsgdp['Year']\n",
    "del urbanlandarea['Year']"
   ]
  },
  {
   "cell_type": "code",
   "execution_count": 3,
   "metadata": {},
   "outputs": [],
   "source": [
    "#merges on country code\n",
    "merged = pd.merge(life_exp,medianage,on='Code')"
   ]
  },
  {
   "cell_type": "code",
   "execution_count": 4,
   "metadata": {},
   "outputs": [],
   "source": [
    "#next several cells done separately to avoid memory error due to large datasets\n",
    "del merged['Entity_y']"
   ]
  },
  {
   "cell_type": "code",
   "execution_count": 5,
   "metadata": {},
   "outputs": [],
   "source": [
    "merged = pd.merge(merged,urbanagg1mperc,on='Code')"
   ]
  },
  {
   "cell_type": "code",
   "execution_count": 6,
   "metadata": {},
   "outputs": [],
   "source": [
    "del merged['Entity']"
   ]
  },
  {
   "cell_type": "code",
   "execution_count": 7,
   "metadata": {},
   "outputs": [],
   "source": [
    "merged = merged[merged['Code'].notna()]"
   ]
  },
  {
   "cell_type": "code",
   "execution_count": 8,
   "metadata": {},
   "outputs": [],
   "source": [
    "merged = pd.merge(merged,urbanaggmorethan1m,on='Code')"
   ]
  },
  {
   "cell_type": "code",
   "execution_count": 9,
   "metadata": {},
   "outputs": [],
   "source": [
    "del merged['Entity']"
   ]
  },
  {
   "cell_type": "code",
   "execution_count": 10,
   "metadata": {},
   "outputs": [],
   "source": [
    "merged = pd.merge(merged,urbanvsgdp,on='Code')"
   ]
  },
  {
   "cell_type": "code",
   "execution_count": 11,
   "metadata": {},
   "outputs": [],
   "source": [
    "del merged['Entity']"
   ]
  },
  {
   "cell_type": "code",
   "execution_count": 12,
   "metadata": {},
   "outputs": [],
   "source": [
    "merged = pd.merge(merged,urbanlandarea,on='Code')"
   ]
  },
  {
   "cell_type": "code",
   "execution_count": 13,
   "metadata": {},
   "outputs": [],
   "source": [
    "del merged['Entity']"
   ]
  },
  {
   "cell_type": "code",
   "execution_count": 14,
   "metadata": {},
   "outputs": [
    {
     "data": {
      "text/html": [
       "<div>\n",
       "<style scoped>\n",
       "    .dataframe tbody tr th:only-of-type {\n",
       "        vertical-align: middle;\n",
       "    }\n",
       "\n",
       "    .dataframe tbody tr th {\n",
       "        vertical-align: top;\n",
       "    }\n",
       "\n",
       "    .dataframe thead th {\n",
       "        text-align: right;\n",
       "    }\n",
       "</style>\n",
       "<table border=\"1\" class=\"dataframe\">\n",
       "  <thead>\n",
       "    <tr style=\"text-align: right;\">\n",
       "      <th></th>\n",
       "      <th>Entity_x</th>\n",
       "      <th>Code</th>\n",
       "      <th>Lifeexpectancyatbirthtotal(years)(years)</th>\n",
       "      <th>UNPopulationDivision(MedianAge)(2017)(years)</th>\n",
       "      <th>Populationinurbanagglomerationsofmorethan1million(%oftotalpopulation)(%oftotalpopulation)</th>\n",
       "      <th>Populationinurbanagglomerationsofmorethan1million(peoplelivinginurbanareasofmorethan1million)</th>\n",
       "      <th>Shareofpopulationlivinginurbanareas(%)</th>\n",
       "      <th>GDPpercapita(2011int-$)($)</th>\n",
       "      <th>Totalpopulation(Gapminder)</th>\n",
       "      <th>Urbanlandarea(sq.km)(squarekilometres)</th>\n",
       "    </tr>\n",
       "  </thead>\n",
       "  <tbody>\n",
       "    <tr>\n",
       "      <td>0</td>\n",
       "      <td>Algeria</td>\n",
       "      <td>DZA</td>\n",
       "      <td>76.078</td>\n",
       "      <td>27.500000</td>\n",
       "      <td>6.436332</td>\n",
       "      <td>2659373</td>\n",
       "      <td>71.459</td>\n",
       "      <td>13328.0</td>\n",
       "      <td>NaN</td>\n",
       "      <td>30195.796880</td>\n",
       "    </tr>\n",
       "    <tr>\n",
       "      <td>1</td>\n",
       "      <td>Angola</td>\n",
       "      <td>AGO</td>\n",
       "      <td>61.547</td>\n",
       "      <td>16.400000</td>\n",
       "      <td>25.232663</td>\n",
       "      <td>7515345</td>\n",
       "      <td>64.149</td>\n",
       "      <td>8397.0</td>\n",
       "      <td>NaN</td>\n",
       "      <td>1427.029541</td>\n",
       "    </tr>\n",
       "    <tr>\n",
       "      <td>2</td>\n",
       "      <td>Argentina</td>\n",
       "      <td>ARG</td>\n",
       "      <td>76.577</td>\n",
       "      <td>30.799999</td>\n",
       "      <td>42.907611</td>\n",
       "      <td>18995646</td>\n",
       "      <td>91.627</td>\n",
       "      <td>18695.0</td>\n",
       "      <td>NaN</td>\n",
       "      <td>55032.203130</td>\n",
       "    </tr>\n",
       "    <tr>\n",
       "      <td>3</td>\n",
       "      <td>Australia</td>\n",
       "      <td>AUS</td>\n",
       "      <td>82.500</td>\n",
       "      <td>37.400002</td>\n",
       "      <td>60.670343</td>\n",
       "      <td>14924257</td>\n",
       "      <td>85.800</td>\n",
       "      <td>44783.0</td>\n",
       "      <td>NaN</td>\n",
       "      <td>36745.703130</td>\n",
       "    </tr>\n",
       "    <tr>\n",
       "      <td>4</td>\n",
       "      <td>Bangladesh</td>\n",
       "      <td>BGD</td>\n",
       "      <td>72.489</td>\n",
       "      <td>25.600000</td>\n",
       "      <td>14.340787</td>\n",
       "      <td>23614938</td>\n",
       "      <td>35.083</td>\n",
       "      <td>3250.0</td>\n",
       "      <td>NaN</td>\n",
       "      <td>11125.391600</td>\n",
       "    </tr>\n",
       "  </tbody>\n",
       "</table>\n",
       "</div>"
      ],
      "text/plain": [
       "     Entity_x Code  Lifeexpectancyatbirthtotal(years)(years)  \\\n",
       "0     Algeria  DZA                                    76.078   \n",
       "1      Angola  AGO                                    61.547   \n",
       "2   Argentina  ARG                                    76.577   \n",
       "3   Australia  AUS                                    82.500   \n",
       "4  Bangladesh  BGD                                    72.489   \n",
       "\n",
       "   UNPopulationDivision(MedianAge)(2017)(years)  \\\n",
       "0                                     27.500000   \n",
       "1                                     16.400000   \n",
       "2                                     30.799999   \n",
       "3                                     37.400002   \n",
       "4                                     25.600000   \n",
       "\n",
       "   Populationinurbanagglomerationsofmorethan1million(%oftotalpopulation)(%oftotalpopulation)  \\\n",
       "0                                           6.436332                                           \n",
       "1                                          25.232663                                           \n",
       "2                                          42.907611                                           \n",
       "3                                          60.670343                                           \n",
       "4                                          14.340787                                           \n",
       "\n",
       "   Populationinurbanagglomerationsofmorethan1million(peoplelivinginurbanareasofmorethan1million)  \\\n",
       "0                                            2659373                                               \n",
       "1                                            7515345                                               \n",
       "2                                           18995646                                               \n",
       "3                                           14924257                                               \n",
       "4                                           23614938                                               \n",
       "\n",
       "   Shareofpopulationlivinginurbanareas(%)  GDPpercapita(2011int-$)($)  \\\n",
       "0                                  71.459                     13328.0   \n",
       "1                                  64.149                      8397.0   \n",
       "2                                  91.627                     18695.0   \n",
       "3                                  85.800                     44783.0   \n",
       "4                                  35.083                      3250.0   \n",
       "\n",
       "   Totalpopulation(Gapminder)  Urbanlandarea(sq.km)(squarekilometres)  \n",
       "0                         NaN                            30195.796880  \n",
       "1                         NaN                             1427.029541  \n",
       "2                         NaN                            55032.203130  \n",
       "3                         NaN                            36745.703130  \n",
       "4                         NaN                            11125.391600  "
      ]
     },
     "execution_count": 14,
     "metadata": {},
     "output_type": "execute_result"
    }
   ],
   "source": [
    "merged.head()"
   ]
  },
  {
   "cell_type": "code",
   "execution_count": 15,
   "metadata": {},
   "outputs": [],
   "source": [
    "#get rid of redundant column\n",
    "del merged['Totalpopulation(Gapminder)']"
   ]
  },
  {
   "cell_type": "code",
   "execution_count": 16,
   "metadata": {},
   "outputs": [],
   "source": [
    "#formatted columns\n",
    "renamedmerge = merged.rename(columns={'Entity_x':'Entity','Code':'Code','Lifeexpectancyatbirthtotal(years)(years)':'Life_Expectancy(2016)',\n",
    "                      'UNPopulationDivision(MedianAge)(2017)(years)':'Median_age(2017)',\n",
    "                      'Populationinurbanagglomerationsofmorethan1million(%oftotalpopulation)(%oftotalpopulation)':'%_total_population_in_urban_agglomerations>million(2017)',\n",
    "                      'Populationinurbanagglomerationsofmorethan1million(peoplelivinginurbanareasofmorethan1million)':'Population_in_urban_areas>million(2017)',\n",
    "                      'Shareofpopulationlivinginurbanareas(%)':'%_population_in_urban_areas(2016)',\n",
    "                      'Urbanlandarea(sq.km)(squarekilometres)':'Urban_Land_area(sq.km)(2010)'})\n",
    "                               "
   ]
  },
  {
   "cell_type": "code",
   "execution_count": 17,
   "metadata": {},
   "outputs": [],
   "source": [
    "# Exported CSV\n",
    "renamedmerge.to_csv('combinedData.csv')"
   ]
  }
 ],
 "metadata": {
  "kernelspec": {
   "display_name": "Python 3",
   "language": "python",
   "name": "python3"
  },
  "language_info": {
   "codemirror_mode": {
    "name": "ipython",
    "version": 3
   },
   "file_extension": ".py",
   "mimetype": "text/x-python",
   "name": "python",
   "nbconvert_exporter": "python",
   "pygments_lexer": "ipython3",
   "version": "3.7.3"
  }
 },
 "nbformat": 4,
 "nbformat_minor": 2
}
