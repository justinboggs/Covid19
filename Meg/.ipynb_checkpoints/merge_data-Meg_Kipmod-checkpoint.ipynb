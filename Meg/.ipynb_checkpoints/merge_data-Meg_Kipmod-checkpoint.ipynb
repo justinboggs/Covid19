{
 "cells": [
  {
   "cell_type": "code",
   "execution_count": 13,
   "metadata": {},
   "outputs": [],
   "source": [
    "# Dependencies and Setup\n",
    "import pandas as pd\n",
    "\n",
    "# File to Load \n",
    "file1 = \"project-data/is-your-country-more-blue-or-less-green-densely-populated-than-earths-average-population-density.csv\"\n",
    "file2 = \"project-data/population-density.csv\"\n",
    "file3 = \"project-data/population-density-vs-prosperity.csv\"\n",
    "file4 = \"project-data/urban-and-rural-population.csv\"\n",
    "file5 = \"project-data/urban-pop-in-out-of-slums.csv\"\n",
    "file6 = \"project-data/urban-vs-rural-majority.csv\"\n",
    "\n",
    "# Read File and store into Pandas data frame\n",
    "population_density = pd.read_csv(file2)\n",
    "earths_population_density = pd.read_csv(file1)\n",
    "density_vs_prosperity = pd.read_csv(file3)\n",
    "urban_rural_population = pd.read_csv(file4)\n",
    "urban_rural_percent = pd.read_csv(file5)\n",
    "urban_population_in_slums = pd.read_csv(file6)"
   ]
  },
  {
   "cell_type": "code",
   "execution_count": 14,
   "metadata": {},
   "outputs": [
    {
     "data": {
      "text/plain": [
       "(14600, 4)"
      ]
     },
     "execution_count": 14,
     "metadata": {},
     "output_type": "execute_result"
    }
   ],
   "source": [
    "population_density.shape"
   ]
  },
  {
   "cell_type": "code",
   "execution_count": 15,
   "metadata": {},
   "outputs": [
    {
     "data": {
      "text/plain": [
       "(18018, 4)"
      ]
     },
     "execution_count": 15,
     "metadata": {},
     "output_type": "execute_result"
    }
   ],
   "source": [
    "earths_population_density.shape"
   ]
  },
  {
   "cell_type": "code",
   "execution_count": 16,
   "metadata": {},
   "outputs": [
    {
     "data": {
      "text/plain": [
       "(47234, 6)"
      ]
     },
     "execution_count": 16,
     "metadata": {},
     "output_type": "execute_result"
    }
   ],
   "source": [
    "density_vs_prosperity.shape"
   ]
  },
  {
   "cell_type": "code",
   "execution_count": 17,
   "metadata": {},
   "outputs": [
    {
     "data": {
      "text/plain": [
       "(15031, 5)"
      ]
     },
     "execution_count": 17,
     "metadata": {},
     "output_type": "execute_result"
    }
   ],
   "source": [
    "urban_rural_population.shape"
   ]
  },
  {
   "cell_type": "code",
   "execution_count": 18,
   "metadata": {},
   "outputs": [
    {
     "data": {
      "text/plain": [
       "(620, 5)"
      ]
     },
     "execution_count": 18,
     "metadata": {},
     "output_type": "execute_result"
    }
   ],
   "source": [
    "urban_rural_percent.shape"
   ]
  },
  {
   "cell_type": "code",
   "execution_count": 19,
   "metadata": {},
   "outputs": [
    {
     "data": {
      "text/plain": [
       "(27977, 5)"
      ]
     },
     "execution_count": 19,
     "metadata": {},
     "output_type": "execute_result"
    }
   ],
   "source": [
    "urban_population_in_slums.shape"
   ]
  },
  {
   "cell_type": "code",
   "execution_count": 20,
   "metadata": {},
   "outputs": [
    {
     "data": {
      "text/plain": [
       "(14039, 7)"
      ]
     },
     "execution_count": 20,
     "metadata": {},
     "output_type": "execute_result"
    }
   ],
   "source": [
    "# Merge data\n",
    "merged_data = pd.merge(density_vs_prosperity, earths_population_density, on=[\"Entity\", \"Code\", \"Year\"])\n",
    "merged_data.shape"
   ]
  },
  {
   "cell_type": "code",
   "execution_count": 21,
   "metadata": {},
   "outputs": [
    {
     "data": {
      "text/plain": [
       "(11884, 9)"
      ]
     },
     "execution_count": 21,
     "metadata": {},
     "output_type": "execute_result"
    }
   ],
   "source": [
    "merged_data = pd.merge(merged_data, urban_rural_population, on=[\"Entity\", \"Code\", \"Year\"])\n",
    "merged_data.shape"
   ]
  },
  {
   "cell_type": "code",
   "execution_count": 22,
   "metadata": {},
   "outputs": [
    {
     "data": {
      "text/plain": [
       "(11884, 11)"
      ]
     },
     "execution_count": 22,
     "metadata": {},
     "output_type": "execute_result"
    }
   ],
   "source": [
    "merged_data = pd.merge(merged_data, urban_population_in_slums, on=[\"Entity\", \"Code\", \"Year\"])\n",
    "merged_data.shape"
   ]
  },
  {
   "cell_type": "code",
   "execution_count": 12,
   "metadata": {},
   "outputs": [
    {
     "data": {
      "text/plain": [
       "(440, 13)"
      ]
     },
     "execution_count": 12,
     "metadata": {},
     "output_type": "execute_result"
    }
   ],
   "source": [
    "merged_data = pd.merge(merged_data, urban_rural_percent, on=[\"Entity\", \"Code\", \"Year\"])\n",
    "merged_data.shape\n",
    "# This merge removes too much data (shape give (440,13) and limits us to the year 2014\n",
    "# so I will skip it and the cells that follow won't include this merge"
   ]
  },
  {
   "cell_type": "code",
   "execution_count": 24,
   "metadata": {},
   "outputs": [
    {
     "data": {
      "text/html": [
       "<div>\n",
       "<style scoped>\n",
       "    .dataframe tbody tr th:only-of-type {\n",
       "        vertical-align: middle;\n",
       "    }\n",
       "\n",
       "    .dataframe tbody tr th {\n",
       "        vertical-align: top;\n",
       "    }\n",
       "\n",
       "    .dataframe thead th {\n",
       "        text-align: right;\n",
       "    }\n",
       "</style>\n",
       "<table border=\"1\" class=\"dataframe\">\n",
       "  <thead>\n",
       "    <tr style=\"text-align: right;\">\n",
       "      <th></th>\n",
       "      <th>Entity</th>\n",
       "      <th>Code</th>\n",
       "      <th>Year</th>\n",
       "      <th>Population density (people per km² of land area)</th>\n",
       "      <th>GDP per capita (constant 2011 international $)</th>\n",
       "      <th>Total population (Gapminder)</th>\n",
       "      <th>Estimates, 1950 - 2015: Population density (persons per square km), as of 1 July (persons per square km)</th>\n",
       "      <th>Urban population</th>\n",
       "      <th>Rural population</th>\n",
       "      <th>Urban (%)</th>\n",
       "      <th>Rural (%)</th>\n",
       "    </tr>\n",
       "  </thead>\n",
       "  <tbody>\n",
       "    <tr>\n",
       "      <th>0</th>\n",
       "      <td>Afghanistan</td>\n",
       "      <td>AFG</td>\n",
       "      <td>1960</td>\n",
       "      <td>NaN</td>\n",
       "      <td>NaN</td>\n",
       "      <td>8996351.0</td>\n",
       "      <td>13.779908</td>\n",
       "      <td>755783</td>\n",
       "      <td>8240568</td>\n",
       "      <td>8.401</td>\n",
       "      <td>91.598999</td>\n",
       "    </tr>\n",
       "    <tr>\n",
       "      <th>1</th>\n",
       "      <td>Afghanistan</td>\n",
       "      <td>AFG</td>\n",
       "      <td>1961</td>\n",
       "      <td>14.040934</td>\n",
       "      <td>NaN</td>\n",
       "      <td>9166764.0</td>\n",
       "      <td>14.040934</td>\n",
       "      <td>796042</td>\n",
       "      <td>8370722</td>\n",
       "      <td>8.684</td>\n",
       "      <td>91.316002</td>\n",
       "    </tr>\n",
       "    <tr>\n",
       "      <th>2</th>\n",
       "      <td>Afghanistan</td>\n",
       "      <td>AFG</td>\n",
       "      <td>1962</td>\n",
       "      <td>14.315271</td>\n",
       "      <td>NaN</td>\n",
       "      <td>9345868.0</td>\n",
       "      <td>14.315271</td>\n",
       "      <td>838885</td>\n",
       "      <td>8506983</td>\n",
       "      <td>8.976</td>\n",
       "      <td>91.024002</td>\n",
       "    </tr>\n",
       "    <tr>\n",
       "      <th>3</th>\n",
       "      <td>Afghanistan</td>\n",
       "      <td>AFG</td>\n",
       "      <td>1963</td>\n",
       "      <td>14.603367</td>\n",
       "      <td>NaN</td>\n",
       "      <td>9533954.0</td>\n",
       "      <td>14.603367</td>\n",
       "      <td>884370</td>\n",
       "      <td>8649584</td>\n",
       "      <td>9.276</td>\n",
       "      <td>90.723999</td>\n",
       "    </tr>\n",
       "    <tr>\n",
       "      <th>4</th>\n",
       "      <td>Afghanistan</td>\n",
       "      <td>AFG</td>\n",
       "      <td>1964</td>\n",
       "      <td>14.905739</td>\n",
       "      <td>NaN</td>\n",
       "      <td>9731361.0</td>\n",
       "      <td>14.905739</td>\n",
       "      <td>932848</td>\n",
       "      <td>8798513</td>\n",
       "      <td>9.586</td>\n",
       "      <td>90.414001</td>\n",
       "    </tr>\n",
       "  </tbody>\n",
       "</table>\n",
       "</div>"
      ],
      "text/plain": [
       "        Entity Code  Year  Population density (people per km² of land area)  \\\n",
       "0  Afghanistan  AFG  1960                                               NaN   \n",
       "1  Afghanistan  AFG  1961                                         14.040934   \n",
       "2  Afghanistan  AFG  1962                                         14.315271   \n",
       "3  Afghanistan  AFG  1963                                         14.603367   \n",
       "4  Afghanistan  AFG  1964                                         14.905739   \n",
       "\n",
       "   GDP per capita (constant 2011 international $)  \\\n",
       "0                                             NaN   \n",
       "1                                             NaN   \n",
       "2                                             NaN   \n",
       "3                                             NaN   \n",
       "4                                             NaN   \n",
       "\n",
       "   Total population (Gapminder)  \\\n",
       "0                     8996351.0   \n",
       "1                     9166764.0   \n",
       "2                     9345868.0   \n",
       "3                     9533954.0   \n",
       "4                     9731361.0   \n",
       "\n",
       "   Estimates, 1950 - 2015: Population density (persons per square km), as of 1 July (persons per square km)  \\\n",
       "0                                          13.779908                                                          \n",
       "1                                          14.040934                                                          \n",
       "2                                          14.315271                                                          \n",
       "3                                          14.603367                                                          \n",
       "4                                          14.905739                                                          \n",
       "\n",
       "   Urban population  Rural population  Urban (%)  Rural (%)  \n",
       "0            755783           8240568      8.401  91.598999  \n",
       "1            796042           8370722      8.684  91.316002  \n",
       "2            838885           8506983      8.976  91.024002  \n",
       "3            884370           8649584      9.276  90.723999  \n",
       "4            932848           8798513      9.586  90.414001  "
      ]
     },
     "execution_count": 24,
     "metadata": {},
     "output_type": "execute_result"
    }
   ],
   "source": [
    "# Export CSV\n",
    "merged_data.to_csv('merged_data_noslum.csv') \n",
    "\n",
    "merged_data.head()"
   ]
  },
  {
   "cell_type": "code",
   "execution_count": 25,
   "metadata": {},
   "outputs": [
    {
     "data": {
      "text/html": [
       "<div>\n",
       "<style scoped>\n",
       "    .dataframe tbody tr th:only-of-type {\n",
       "        vertical-align: middle;\n",
       "    }\n",
       "\n",
       "    .dataframe tbody tr th {\n",
       "        vertical-align: top;\n",
       "    }\n",
       "\n",
       "    .dataframe thead th {\n",
       "        text-align: right;\n",
       "    }\n",
       "</style>\n",
       "<table border=\"1\" class=\"dataframe\">\n",
       "  <thead>\n",
       "    <tr style=\"text-align: right;\">\n",
       "      <th></th>\n",
       "      <th>Entity</th>\n",
       "      <th>Code</th>\n",
       "      <th>Year</th>\n",
       "      <th>Population density (people per km² of land area)</th>\n",
       "      <th>GDP per capita (constant 2011 international $)</th>\n",
       "      <th>Total population (Gapminder)</th>\n",
       "      <th>Estimates, 1950 - 2015: Population density (persons per square km), as of 1 July (persons per square km)</th>\n",
       "      <th>Urban population</th>\n",
       "      <th>Rural population</th>\n",
       "      <th>Urban (%)</th>\n",
       "      <th>Rural (%)</th>\n",
       "    </tr>\n",
       "  </thead>\n",
       "  <tbody>\n",
       "    <tr>\n",
       "      <th>11879</th>\n",
       "      <td>Zimbabwe</td>\n",
       "      <td>ZWE</td>\n",
       "      <td>2011</td>\n",
       "      <td>37.189218</td>\n",
       "      <td>1667.137943</td>\n",
       "      <td>14386649.0</td>\n",
       "      <td>37.189218</td>\n",
       "      <td>4749752</td>\n",
       "      <td>9636897</td>\n",
       "      <td>33.015</td>\n",
       "      <td>66.985001</td>\n",
       "    </tr>\n",
       "    <tr>\n",
       "      <th>11880</th>\n",
       "      <td>Zimbabwe</td>\n",
       "      <td>ZWE</td>\n",
       "      <td>2012</td>\n",
       "      <td>38.027210</td>\n",
       "      <td>1871.366340</td>\n",
       "      <td>14710826.0</td>\n",
       "      <td>38.027210</td>\n",
       "      <td>4830153</td>\n",
       "      <td>9880673</td>\n",
       "      <td>32.834</td>\n",
       "      <td>67.166000</td>\n",
       "    </tr>\n",
       "    <tr>\n",
       "      <th>11881</th>\n",
       "      <td>Zimbabwe</td>\n",
       "      <td>ZWE</td>\n",
       "      <td>2013</td>\n",
       "      <td>38.915616</td>\n",
       "      <td>1929.765001</td>\n",
       "      <td>15054506.0</td>\n",
       "      <td>38.915616</td>\n",
       "      <td>4915898</td>\n",
       "      <td>10138608</td>\n",
       "      <td>32.654</td>\n",
       "      <td>67.346001</td>\n",
       "    </tr>\n",
       "    <tr>\n",
       "      <th>11882</th>\n",
       "      <td>Zimbabwe</td>\n",
       "      <td>ZWE</td>\n",
       "      <td>2014</td>\n",
       "      <td>39.838891</td>\n",
       "      <td>1925.138698</td>\n",
       "      <td>15411675.0</td>\n",
       "      <td>39.838891</td>\n",
       "      <td>5009411</td>\n",
       "      <td>10402264</td>\n",
       "      <td>32.504</td>\n",
       "      <td>67.496002</td>\n",
       "    </tr>\n",
       "    <tr>\n",
       "      <th>11883</th>\n",
       "      <td>Zimbabwe</td>\n",
       "      <td>ZWE</td>\n",
       "      <td>2015</td>\n",
       "      <td>40.784415</td>\n",
       "      <td>1912.280261</td>\n",
       "      <td>15777451.0</td>\n",
       "      <td>40.784415</td>\n",
       "      <td>5109528</td>\n",
       "      <td>10667923</td>\n",
       "      <td>32.385</td>\n",
       "      <td>67.614998</td>\n",
       "    </tr>\n",
       "  </tbody>\n",
       "</table>\n",
       "</div>"
      ],
      "text/plain": [
       "         Entity Code  Year  Population density (people per km² of land area)  \\\n",
       "11879  Zimbabwe  ZWE  2011                                         37.189218   \n",
       "11880  Zimbabwe  ZWE  2012                                         38.027210   \n",
       "11881  Zimbabwe  ZWE  2013                                         38.915616   \n",
       "11882  Zimbabwe  ZWE  2014                                         39.838891   \n",
       "11883  Zimbabwe  ZWE  2015                                         40.784415   \n",
       "\n",
       "       GDP per capita (constant 2011 international $)  \\\n",
       "11879                                     1667.137943   \n",
       "11880                                     1871.366340   \n",
       "11881                                     1929.765001   \n",
       "11882                                     1925.138698   \n",
       "11883                                     1912.280261   \n",
       "\n",
       "       Total population (Gapminder)  \\\n",
       "11879                    14386649.0   \n",
       "11880                    14710826.0   \n",
       "11881                    15054506.0   \n",
       "11882                    15411675.0   \n",
       "11883                    15777451.0   \n",
       "\n",
       "       Estimates, 1950 - 2015: Population density (persons per square km), as of 1 July (persons per square km)  \\\n",
       "11879                                          37.189218                                                          \n",
       "11880                                          38.027210                                                          \n",
       "11881                                          38.915616                                                          \n",
       "11882                                          39.838891                                                          \n",
       "11883                                          40.784415                                                          \n",
       "\n",
       "       Urban population  Rural population  Urban (%)  Rural (%)  \n",
       "11879           4749752           9636897     33.015  66.985001  \n",
       "11880           4830153           9880673     32.834  67.166000  \n",
       "11881           4915898          10138608     32.654  67.346001  \n",
       "11882           5009411          10402264     32.504  67.496002  \n",
       "11883           5109528          10667923     32.385  67.614998  "
      ]
     },
     "execution_count": 25,
     "metadata": {},
     "output_type": "execute_result"
    }
   ],
   "source": [
    "merged_data.tail()"
   ]
  },
  {
   "cell_type": "code",
   "execution_count": 3,
   "metadata": {},
   "outputs": [
    {
     "data": {
      "text/html": [
       "<div>\n",
       "<style scoped>\n",
       "    .dataframe tbody tr th:only-of-type {\n",
       "        vertical-align: middle;\n",
       "    }\n",
       "\n",
       "    .dataframe tbody tr th {\n",
       "        vertical-align: top;\n",
       "    }\n",
       "\n",
       "    .dataframe thead th {\n",
       "        text-align: right;\n",
       "    }\n",
       "</style>\n",
       "<table border=\"1\" class=\"dataframe\">\n",
       "  <thead>\n",
       "    <tr style=\"text-align: right;\">\n",
       "      <th></th>\n",
       "      <th>Entity</th>\n",
       "      <th>Code</th>\n",
       "      <th>Year</th>\n",
       "      <th>Population density (people per km² of land area)</th>\n",
       "      <th>GDP per capita (constant 2011 international $)</th>\n",
       "      <th>Total population (Gapminder)</th>\n",
       "      <th>Estimates, 1950 - 2015: Population density (persons per square km), as of 1 July (persons per square km)</th>\n",
       "      <th>Urban population</th>\n",
       "      <th>Rural population</th>\n",
       "      <th>Urban (%)</th>\n",
       "      <th>Rural (%)</th>\n",
       "      <th>Urban population living in slums</th>\n",
       "      <th>Urban population not living in slums</th>\n",
       "    </tr>\n",
       "  </thead>\n",
       "  <tbody>\n",
       "    <tr>\n",
       "      <th>0</th>\n",
       "      <td>Afghanistan</td>\n",
       "      <td>AFG</td>\n",
       "      <td>2014</td>\n",
       "      <td>50.176179</td>\n",
       "      <td>1838.960244</td>\n",
       "      <td>32758020.0</td>\n",
       "      <td>50.176179</td>\n",
       "      <td>8054214</td>\n",
       "      <td>24703806</td>\n",
       "      <td>24.587</td>\n",
       "      <td>75.413002</td>\n",
       "      <td>5398133</td>\n",
       "      <td>3211330</td>\n",
       "    </tr>\n",
       "    <tr>\n",
       "      <th>1</th>\n",
       "      <td>Algeria</td>\n",
       "      <td>DZA</td>\n",
       "      <td>1990</td>\n",
       "      <td>10.879595</td>\n",
       "      <td>10236.840658</td>\n",
       "      <td>25912367.0</td>\n",
       "      <td>10.879595</td>\n",
       "      <td>13496456</td>\n",
       "      <td>12415911</td>\n",
       "      <td>52.085</td>\n",
       "      <td>47.915001</td>\n",
       "      <td>1592582</td>\n",
       "      <td>11903874</td>\n",
       "    </tr>\n",
       "    <tr>\n",
       "      <th>2</th>\n",
       "      <td>Angola</td>\n",
       "      <td>AGO</td>\n",
       "      <td>2000</td>\n",
       "      <td>13.187554</td>\n",
       "      <td>2873.193010</td>\n",
       "      <td>16440924.0</td>\n",
       "      <td>13.187554</td>\n",
       "      <td>8234766</td>\n",
       "      <td>8206158</td>\n",
       "      <td>50.087</td>\n",
       "      <td>49.912998</td>\n",
       "      <td>4610435</td>\n",
       "      <td>719548</td>\n",
       "    </tr>\n",
       "    <tr>\n",
       "      <th>3</th>\n",
       "      <td>Angola</td>\n",
       "      <td>AGO</td>\n",
       "      <td>2005</td>\n",
       "      <td>15.683438</td>\n",
       "      <td>3987.814936</td>\n",
       "      <td>19552542.0</td>\n",
       "      <td>15.683438</td>\n",
       "      <td>10949424</td>\n",
       "      <td>8603118</td>\n",
       "      <td>56.000</td>\n",
       "      <td>44.000000</td>\n",
       "      <td>6117245</td>\n",
       "      <td>954714</td>\n",
       "    </tr>\n",
       "    <tr>\n",
       "      <th>4</th>\n",
       "      <td>Angola</td>\n",
       "      <td>AGO</td>\n",
       "      <td>2007</td>\n",
       "      <td>16.842614</td>\n",
       "      <td>5443.117933</td>\n",
       "      <td>20997687.0</td>\n",
       "      <td>16.842614</td>\n",
       "      <td>12078709</td>\n",
       "      <td>8918978</td>\n",
       "      <td>57.524</td>\n",
       "      <td>42.476002</td>\n",
       "      <td>6035609</td>\n",
       "      <td>1885138</td>\n",
       "    </tr>\n",
       "  </tbody>\n",
       "</table>\n",
       "</div>"
      ],
      "text/plain": [
       "        Entity Code  Year  Population density (people per km² of land area)  \\\n",
       "0  Afghanistan  AFG  2014                                         50.176179   \n",
       "1      Algeria  DZA  1990                                         10.879595   \n",
       "2       Angola  AGO  2000                                         13.187554   \n",
       "3       Angola  AGO  2005                                         15.683438   \n",
       "4       Angola  AGO  2007                                         16.842614   \n",
       "\n",
       "   GDP per capita (constant 2011 international $)  \\\n",
       "0                                     1838.960244   \n",
       "1                                    10236.840658   \n",
       "2                                     2873.193010   \n",
       "3                                     3987.814936   \n",
       "4                                     5443.117933   \n",
       "\n",
       "   Total population (Gapminder)  \\\n",
       "0                    32758020.0   \n",
       "1                    25912367.0   \n",
       "2                    16440924.0   \n",
       "3                    19552542.0   \n",
       "4                    20997687.0   \n",
       "\n",
       "   Estimates, 1950 - 2015: Population density (persons per square km), as of 1 July (persons per square km)  \\\n",
       "0                                          50.176179                                                          \n",
       "1                                          10.879595                                                          \n",
       "2                                          13.187554                                                          \n",
       "3                                          15.683438                                                          \n",
       "4                                          16.842614                                                          \n",
       "\n",
       "   Urban population  Rural population  Urban (%)  Rural (%)  \\\n",
       "0           8054214          24703806     24.587  75.413002   \n",
       "1          13496456          12415911     52.085  47.915001   \n",
       "2           8234766           8206158     50.087  49.912998   \n",
       "3          10949424           8603118     56.000  44.000000   \n",
       "4          12078709           8918978     57.524  42.476002   \n",
       "\n",
       "   Urban population living in slums  Urban population not living in slums  \n",
       "0                           5398133                               3211330  \n",
       "1                           1592582                              11903874  \n",
       "2                           4610435                                719548  \n",
       "3                           6117245                                954714  \n",
       "4                           6035609                               1885138  "
      ]
     },
     "execution_count": 3,
     "metadata": {},
     "output_type": "execute_result"
    }
   ],
   "source": [
    "#Format columns\n",
    "merged_data = merged_data.rename(columns={\"Urban population living in slum households (urban population living in slums)\": \"Urban population living in slums\", \"Urban population not living in slum households (urban population not living in slums)\" : \"Urban population not living in slums\"})\n",
    "merged_data.head()"
   ]
  },
  {
   "cell_type": "code",
   "execution_count": 4,
   "metadata": {},
   "outputs": [
    {
     "data": {
      "text/html": [
       "<div>\n",
       "<style scoped>\n",
       "    .dataframe tbody tr th:only-of-type {\n",
       "        vertical-align: middle;\n",
       "    }\n",
       "\n",
       "    .dataframe tbody tr th {\n",
       "        vertical-align: top;\n",
       "    }\n",
       "\n",
       "    .dataframe thead th {\n",
       "        text-align: right;\n",
       "    }\n",
       "</style>\n",
       "<table border=\"1\" class=\"dataframe\">\n",
       "  <thead>\n",
       "    <tr style=\"text-align: right;\">\n",
       "      <th></th>\n",
       "      <th>Entity</th>\n",
       "      <th>Code</th>\n",
       "      <th>Year</th>\n",
       "      <th>Population density (people per km² of land area)</th>\n",
       "      <th>GDP per capita (constant 2011 international $)</th>\n",
       "      <th>Total population (Gapminder)</th>\n",
       "      <th>Estimates, 1950 - 2015: Population density (persons per square km), as of 1 July (persons per square km)</th>\n",
       "      <th>Urban population</th>\n",
       "      <th>Rural population</th>\n",
       "      <th>Urban (%)</th>\n",
       "      <th>Rural (%)</th>\n",
       "      <th>Urban population living in slums</th>\n",
       "      <th>Urban population not living in slums</th>\n",
       "    </tr>\n",
       "  </thead>\n",
       "  <tbody>\n",
       "    <tr>\n",
       "      <th>0</th>\n",
       "      <td>Afghanistan</td>\n",
       "      <td>AFG</td>\n",
       "      <td>2014</td>\n",
       "      <td>50.176179</td>\n",
       "      <td>1838.960244</td>\n",
       "      <td>32758020.0</td>\n",
       "      <td>50.176179</td>\n",
       "      <td>8054214</td>\n",
       "      <td>24703806</td>\n",
       "      <td>24.587</td>\n",
       "      <td>75.413002</td>\n",
       "      <td>5398133</td>\n",
       "      <td>3211330</td>\n",
       "    </tr>\n",
       "    <tr>\n",
       "      <th>6</th>\n",
       "      <td>Angola</td>\n",
       "      <td>AGO</td>\n",
       "      <td>2014</td>\n",
       "      <td>21.593379</td>\n",
       "      <td>6257.152874</td>\n",
       "      <td>26920466.0</td>\n",
       "      <td>21.593379</td>\n",
       "      <td>16887478</td>\n",
       "      <td>10032988</td>\n",
       "      <td>62.731</td>\n",
       "      <td>37.269001</td>\n",
       "      <td>6465507</td>\n",
       "      <td>5184055</td>\n",
       "    </tr>\n",
       "    <tr>\n",
       "      <th>15</th>\n",
       "      <td>Argentina</td>\n",
       "      <td>ARG</td>\n",
       "      <td>2014</td>\n",
       "      <td>15.705657</td>\n",
       "      <td>18797.547947</td>\n",
       "      <td>42981515.0</td>\n",
       "      <td>15.705657</td>\n",
       "      <td>39275219</td>\n",
       "      <td>3706296</td>\n",
       "      <td>91.377</td>\n",
       "      <td>8.623000</td>\n",
       "      <td>6575255</td>\n",
       "      <td>32797532</td>\n",
       "    </tr>\n",
       "    <tr>\n",
       "      <th>16</th>\n",
       "      <td>Armenia</td>\n",
       "      <td>ARM</td>\n",
       "      <td>2014</td>\n",
       "      <td>102.080084</td>\n",
       "      <td>7971.117928</td>\n",
       "      <td>2906220.0</td>\n",
       "      <td>102.080084</td>\n",
       "      <td>1834174</td>\n",
       "      <td>1072046</td>\n",
       "      <td>63.112</td>\n",
       "      <td>36.888000</td>\n",
       "      <td>262866</td>\n",
       "      <td>1562589</td>\n",
       "    </tr>\n",
       "    <tr>\n",
       "      <th>23</th>\n",
       "      <td>Bangladesh</td>\n",
       "      <td>BGD</td>\n",
       "      <td>2014</td>\n",
       "      <td>1224.593063</td>\n",
       "      <td>2973.041565</td>\n",
       "      <td>159405279.0</td>\n",
       "      <td>1224.593063</td>\n",
       "      <td>53456560</td>\n",
       "      <td>105948719</td>\n",
       "      <td>33.535</td>\n",
       "      <td>66.464996</td>\n",
       "      <td>29437876</td>\n",
       "      <td>23988397</td>\n",
       "    </tr>\n",
       "  </tbody>\n",
       "</table>\n",
       "</div>"
      ],
      "text/plain": [
       "         Entity Code  Year  Population density (people per km² of land area)  \\\n",
       "0   Afghanistan  AFG  2014                                         50.176179   \n",
       "6        Angola  AGO  2014                                         21.593379   \n",
       "15    Argentina  ARG  2014                                         15.705657   \n",
       "16      Armenia  ARM  2014                                        102.080084   \n",
       "23   Bangladesh  BGD  2014                                       1224.593063   \n",
       "\n",
       "    GDP per capita (constant 2011 international $)  \\\n",
       "0                                      1838.960244   \n",
       "6                                      6257.152874   \n",
       "15                                    18797.547947   \n",
       "16                                     7971.117928   \n",
       "23                                     2973.041565   \n",
       "\n",
       "    Total population (Gapminder)  \\\n",
       "0                     32758020.0   \n",
       "6                     26920466.0   \n",
       "15                    42981515.0   \n",
       "16                     2906220.0   \n",
       "23                   159405279.0   \n",
       "\n",
       "    Estimates, 1950 - 2015: Population density (persons per square km), as of 1 July (persons per square km)  \\\n",
       "0                                           50.176179                                                          \n",
       "6                                           21.593379                                                          \n",
       "15                                          15.705657                                                          \n",
       "16                                         102.080084                                                          \n",
       "23                                        1224.593063                                                          \n",
       "\n",
       "    Urban population  Rural population  Urban (%)  Rural (%)  \\\n",
       "0            8054214          24703806     24.587  75.413002   \n",
       "6           16887478          10032988     62.731  37.269001   \n",
       "15          39275219           3706296     91.377   8.623000   \n",
       "16           1834174           1072046     63.112  36.888000   \n",
       "23          53456560         105948719     33.535  66.464996   \n",
       "\n",
       "    Urban population living in slums  Urban population not living in slums  \n",
       "0                            5398133                               3211330  \n",
       "6                            6465507                               5184055  \n",
       "15                           6575255                              32797532  \n",
       "16                            262866                               1562589  \n",
       "23                          29437876                              23988397  "
      ]
     },
     "execution_count": 4,
     "metadata": {},
     "output_type": "execute_result"
    }
   ],
   "source": [
    "# Filter by most recent year\n",
    "merged_data = merged_data[merged_data[\"Year\"] == 2014]\n",
    "merged_data.head()"
   ]
  },
  {
   "cell_type": "code",
   "execution_count": 5,
   "metadata": {},
   "outputs": [],
   "source": [
    "# Export CSV\n",
    "merged_data.to_csv('merged_data.csv')  "
   ]
  },
  {
   "cell_type": "code",
   "execution_count": null,
   "metadata": {},
   "outputs": [],
   "source": []
  }
 ],
 "metadata": {
  "kernelspec": {
   "display_name": "Python 3",
   "language": "python",
   "name": "python3"
  },
  "language_info": {
   "codemirror_mode": {
    "name": "ipython",
    "version": 3
   },
   "file_extension": ".py",
   "mimetype": "text/x-python",
   "name": "python",
   "nbconvert_exporter": "python",
   "pygments_lexer": "ipython3",
   "version": "3.7.3"
  }
 },
 "nbformat": 4,
 "nbformat_minor": 2
}
