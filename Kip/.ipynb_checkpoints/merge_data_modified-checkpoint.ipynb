{
 "cells": [
  {
   "cell_type": "code",
   "execution_count": 1,
   "metadata": {},
   "outputs": [],
   "source": [
    "# Dependencies and Setup\n",
    "import matplotlib.pyplot as plt\n",
    "import pandas as pd\n",
    "import numpy as np\n",
    "import scipy.stats\n",
    "from scipy.stats import zscore\n",
    "from scipy.stats import stats\n",
    "from scipy.stats import linregress\n",
    "import os\n",
    "import seaborn as sns\n",
    "import re\n",
    "import datetime\n",
    "import nbconvert\n",
    "import glob\n",
    "import plotly.express as px\n",
    "import plotly.graph_objects as go\n",
    "import cufflinks as cf\n",
    "import chart_studio\n",
    "\n",
    "from statsmodels.compat import lzip\n",
    "import statsmodels.api as sm\n",
    "from statsmodels.formula.api import ols"
   ]
  },
  {
   "cell_type": "code",
   "execution_count": 2,
   "metadata": {},
   "outputs": [],
   "source": [
    "# Files to Load (csv files downloaded from the internet)\n",
    "\n",
    "# Country information files\n",
    "file1 = \"data/unsd.csv\"\n",
    "file2 = \"data/six-dem_mod.csv\"\n",
    "\n",
    "# Covid Case timeseries file\n",
    "file3 = \"data/covid-confirmed-cases-since-100th-case_hkg.csv\"\n",
    "file4 = \"data/worldometer.csv\"\n",
    "\n",
    "# Country timeseries files\n",
    "file5 = \"data/population-density-vs-prosperity.csv\"\n",
    "file6 = \"data/urban-and-rural-population.csv\"\n",
    "file7 = \"data/urban-vs-rural-majority.csv\"\n",
    "file8 = \"data/life-expectancy-at-birth-total-years.csv\"\n",
    "file9 = \"data/median-age.csv\"\n",
    "\n",
    "# Read File and store into Pandas data frame\n",
    "unsd = pd.read_csv(file1)\n",
    "hoefstede = pd.read_csv(file2)\n",
    "\n",
    "covid_data = pd.read_csv(file3, parse_dates=['Date'])\n",
    "wom = pd.read_csv(file4,parse_dates=['date'])\n",
    "\n",
    "density_vs_prosperity = pd.read_csv(file5)\n",
    "urban_rural_population = pd.read_csv(file6)\n",
    "urban_vs_rural_majority = pd.read_csv(file7)\n",
    "life_expectancy = pd.read_csv(file8)\n",
    "median_age = pd.read_csv(file9)\n"
   ]
  },
  {
   "cell_type": "markdown",
   "metadata": {},
   "source": [
    "# Create 'countries' dataframe with all country information\n",
    "#### This is in Tidy format"
   ]
  },
  {
   "cell_type": "code",
   "execution_count": 3,
   "metadata": {},
   "outputs": [
    {
     "data": {
      "text/plain": [
       "Index(['Global Code', 'Global Name', 'Region Code', 'Region Name',\n",
       "       'Sub-region Code', 'Sub-region Name', 'Intermediate Region Code',\n",
       "       'Intermediate Region Name', 'Country or Area', 'M49 Code', 'Code',\n",
       "       'Least Developed Countries (LDC)',\n",
       "       'Land Locked Developing Countries (LLDC)',\n",
       "       'Small Island Developing States (SIDS)',\n",
       "       'Developed / Developing Countries'],\n",
       "      dtype='object')"
      ]
     },
     "execution_count": 3,
     "metadata": {},
     "output_type": "execute_result"
    }
   ],
   "source": [
    "unsd.columns"
   ]
  },
  {
   "cell_type": "code",
   "execution_count": 4,
   "metadata": {},
   "outputs": [],
   "source": [
    "#Format columns\n",
    "unsd = unsd.rename(columns={\"Global Code\":\"globalCode\",\n",
    "                            \"Global Name\":\"globalName\",\n",
    "                            'Region Code':\"regionCode\",\n",
    "                            'Region Name':\"regionName\",\n",
    "                            'Sub-region Code':\"subRegionCode\",\n",
    "                            'Sub-region Name':\"subRegionName\",\n",
    "                            'Intermediate Region Code':\"interRegionCode\",\n",
    "                            'Intermediate Region Name':\"interRegionName\",\n",
    "                            'Country or Area':\"country\",\n",
    "                            'M49 Code':\"m49\",\n",
    "                            'Code':\"code\",\n",
    "                            'Least Developed Countries (LDC)':\"ldc\",\n",
    "                            'Land Locked Developing Countries (LLDC)':\"lldc\",\n",
    "                            'Small Island Developing States (SIDS)':\"sids\",\n",
    "                            'Developed / Developing Countries':\"development\"\n",
    "                            })"
   ]
  },
  {
   "cell_type": "code",
   "execution_count": 5,
   "metadata": {},
   "outputs": [
    {
     "data": {
      "text/html": [
       "<div>\n",
       "<style scoped>\n",
       "    .dataframe tbody tr th:only-of-type {\n",
       "        vertical-align: middle;\n",
       "    }\n",
       "\n",
       "    .dataframe tbody tr th {\n",
       "        vertical-align: top;\n",
       "    }\n",
       "\n",
       "    .dataframe thead th {\n",
       "        text-align: right;\n",
       "    }\n",
       "</style>\n",
       "<table border=\"1\" class=\"dataframe\">\n",
       "  <thead>\n",
       "    <tr style=\"text-align: right;\">\n",
       "      <th></th>\n",
       "      <th>globalCode</th>\n",
       "      <th>globalName</th>\n",
       "      <th>regionCode</th>\n",
       "      <th>regionName</th>\n",
       "      <th>subRegionCode</th>\n",
       "      <th>subRegionName</th>\n",
       "      <th>country</th>\n",
       "      <th>m49</th>\n",
       "      <th>code</th>\n",
       "      <th>ldc</th>\n",
       "      <th>lldc</th>\n",
       "      <th>sids</th>\n",
       "      <th>development</th>\n",
       "    </tr>\n",
       "  </thead>\n",
       "  <tbody>\n",
       "    <tr>\n",
       "      <th>0</th>\n",
       "      <td>1</td>\n",
       "      <td>World</td>\n",
       "      <td>142</td>\n",
       "      <td>Asia</td>\n",
       "      <td>34</td>\n",
       "      <td>Southern Asia</td>\n",
       "      <td>Afghanistan</td>\n",
       "      <td>4</td>\n",
       "      <td>AFG</td>\n",
       "      <td>1.0</td>\n",
       "      <td>1.0</td>\n",
       "      <td>NaN</td>\n",
       "      <td>Developing</td>\n",
       "    </tr>\n",
       "    <tr>\n",
       "      <th>1</th>\n",
       "      <td>1</td>\n",
       "      <td>World</td>\n",
       "      <td>150</td>\n",
       "      <td>Europe</td>\n",
       "      <td>154</td>\n",
       "      <td>Northern Europe</td>\n",
       "      <td>Åland Islands</td>\n",
       "      <td>248</td>\n",
       "      <td>ALA</td>\n",
       "      <td>NaN</td>\n",
       "      <td>NaN</td>\n",
       "      <td>NaN</td>\n",
       "      <td>Developed</td>\n",
       "    </tr>\n",
       "    <tr>\n",
       "      <th>2</th>\n",
       "      <td>1</td>\n",
       "      <td>World</td>\n",
       "      <td>150</td>\n",
       "      <td>Europe</td>\n",
       "      <td>39</td>\n",
       "      <td>Southern Europe</td>\n",
       "      <td>Albania</td>\n",
       "      <td>8</td>\n",
       "      <td>ALB</td>\n",
       "      <td>NaN</td>\n",
       "      <td>NaN</td>\n",
       "      <td>NaN</td>\n",
       "      <td>Developed</td>\n",
       "    </tr>\n",
       "    <tr>\n",
       "      <th>3</th>\n",
       "      <td>1</td>\n",
       "      <td>World</td>\n",
       "      <td>2</td>\n",
       "      <td>Africa</td>\n",
       "      <td>15</td>\n",
       "      <td>Northern Africa</td>\n",
       "      <td>Algeria</td>\n",
       "      <td>12</td>\n",
       "      <td>DZA</td>\n",
       "      <td>NaN</td>\n",
       "      <td>NaN</td>\n",
       "      <td>NaN</td>\n",
       "      <td>Developing</td>\n",
       "    </tr>\n",
       "    <tr>\n",
       "      <th>4</th>\n",
       "      <td>1</td>\n",
       "      <td>World</td>\n",
       "      <td>9</td>\n",
       "      <td>Oceania</td>\n",
       "      <td>61</td>\n",
       "      <td>Polynesia</td>\n",
       "      <td>American Samoa</td>\n",
       "      <td>16</td>\n",
       "      <td>ASM</td>\n",
       "      <td>NaN</td>\n",
       "      <td>NaN</td>\n",
       "      <td>1.0</td>\n",
       "      <td>Developing</td>\n",
       "    </tr>\n",
       "    <tr>\n",
       "      <th>5</th>\n",
       "      <td>1</td>\n",
       "      <td>World</td>\n",
       "      <td>150</td>\n",
       "      <td>Europe</td>\n",
       "      <td>39</td>\n",
       "      <td>Southern Europe</td>\n",
       "      <td>Andorra</td>\n",
       "      <td>20</td>\n",
       "      <td>AND</td>\n",
       "      <td>NaN</td>\n",
       "      <td>NaN</td>\n",
       "      <td>NaN</td>\n",
       "      <td>Developed</td>\n",
       "    </tr>\n",
       "    <tr>\n",
       "      <th>6</th>\n",
       "      <td>1</td>\n",
       "      <td>World</td>\n",
       "      <td>2</td>\n",
       "      <td>Africa</td>\n",
       "      <td>202</td>\n",
       "      <td>Sub-Saharan Africa</td>\n",
       "      <td>Angola</td>\n",
       "      <td>24</td>\n",
       "      <td>AGO</td>\n",
       "      <td>1.0</td>\n",
       "      <td>NaN</td>\n",
       "      <td>NaN</td>\n",
       "      <td>Developing</td>\n",
       "    </tr>\n",
       "    <tr>\n",
       "      <th>7</th>\n",
       "      <td>1</td>\n",
       "      <td>World</td>\n",
       "      <td>19</td>\n",
       "      <td>Americas</td>\n",
       "      <td>419</td>\n",
       "      <td>Latin America and the Caribbean</td>\n",
       "      <td>Anguilla</td>\n",
       "      <td>660</td>\n",
       "      <td>AIA</td>\n",
       "      <td>NaN</td>\n",
       "      <td>NaN</td>\n",
       "      <td>1.0</td>\n",
       "      <td>Developing</td>\n",
       "    </tr>\n",
       "    <tr>\n",
       "      <th>8</th>\n",
       "      <td>1</td>\n",
       "      <td>World</td>\n",
       "      <td>10</td>\n",
       "      <td>Antartica</td>\n",
       "      <td>100</td>\n",
       "      <td>AntarticaSubRegion</td>\n",
       "      <td>Antarctica</td>\n",
       "      <td>10</td>\n",
       "      <td>ATA</td>\n",
       "      <td>NaN</td>\n",
       "      <td>NaN</td>\n",
       "      <td>NaN</td>\n",
       "      <td>Developing</td>\n",
       "    </tr>\n",
       "    <tr>\n",
       "      <th>9</th>\n",
       "      <td>1</td>\n",
       "      <td>World</td>\n",
       "      <td>19</td>\n",
       "      <td>Americas</td>\n",
       "      <td>419</td>\n",
       "      <td>Latin America and the Caribbean</td>\n",
       "      <td>Antigua and Barbuda</td>\n",
       "      <td>28</td>\n",
       "      <td>ATG</td>\n",
       "      <td>NaN</td>\n",
       "      <td>NaN</td>\n",
       "      <td>1.0</td>\n",
       "      <td>Developing</td>\n",
       "    </tr>\n",
       "    <tr>\n",
       "      <th>10</th>\n",
       "      <td>1</td>\n",
       "      <td>World</td>\n",
       "      <td>19</td>\n",
       "      <td>Americas</td>\n",
       "      <td>419</td>\n",
       "      <td>Latin America and the Caribbean</td>\n",
       "      <td>Argentina</td>\n",
       "      <td>32</td>\n",
       "      <td>ARG</td>\n",
       "      <td>NaN</td>\n",
       "      <td>NaN</td>\n",
       "      <td>NaN</td>\n",
       "      <td>Developing</td>\n",
       "    </tr>\n",
       "    <tr>\n",
       "      <th>11</th>\n",
       "      <td>1</td>\n",
       "      <td>World</td>\n",
       "      <td>142</td>\n",
       "      <td>Asia</td>\n",
       "      <td>145</td>\n",
       "      <td>Western Asia</td>\n",
       "      <td>Armenia</td>\n",
       "      <td>51</td>\n",
       "      <td>ARM</td>\n",
       "      <td>NaN</td>\n",
       "      <td>1.0</td>\n",
       "      <td>NaN</td>\n",
       "      <td>Developing</td>\n",
       "    </tr>\n",
       "    <tr>\n",
       "      <th>12</th>\n",
       "      <td>1</td>\n",
       "      <td>World</td>\n",
       "      <td>19</td>\n",
       "      <td>Americas</td>\n",
       "      <td>419</td>\n",
       "      <td>Latin America and the Caribbean</td>\n",
       "      <td>Aruba</td>\n",
       "      <td>533</td>\n",
       "      <td>ABW</td>\n",
       "      <td>NaN</td>\n",
       "      <td>NaN</td>\n",
       "      <td>1.0</td>\n",
       "      <td>Developing</td>\n",
       "    </tr>\n",
       "    <tr>\n",
       "      <th>13</th>\n",
       "      <td>1</td>\n",
       "      <td>World</td>\n",
       "      <td>9</td>\n",
       "      <td>Oceania</td>\n",
       "      <td>53</td>\n",
       "      <td>Australia and New Zealand</td>\n",
       "      <td>Australia</td>\n",
       "      <td>36</td>\n",
       "      <td>AUS</td>\n",
       "      <td>NaN</td>\n",
       "      <td>NaN</td>\n",
       "      <td>NaN</td>\n",
       "      <td>Developed</td>\n",
       "    </tr>\n",
       "    <tr>\n",
       "      <th>14</th>\n",
       "      <td>1</td>\n",
       "      <td>World</td>\n",
       "      <td>150</td>\n",
       "      <td>Europe</td>\n",
       "      <td>155</td>\n",
       "      <td>Western Europe</td>\n",
       "      <td>Austria</td>\n",
       "      <td>40</td>\n",
       "      <td>AUT</td>\n",
       "      <td>NaN</td>\n",
       "      <td>NaN</td>\n",
       "      <td>NaN</td>\n",
       "      <td>Developed</td>\n",
       "    </tr>\n",
       "    <tr>\n",
       "      <th>15</th>\n",
       "      <td>1</td>\n",
       "      <td>World</td>\n",
       "      <td>142</td>\n",
       "      <td>Asia</td>\n",
       "      <td>145</td>\n",
       "      <td>Western Asia</td>\n",
       "      <td>Azerbaijan</td>\n",
       "      <td>31</td>\n",
       "      <td>AZE</td>\n",
       "      <td>NaN</td>\n",
       "      <td>1.0</td>\n",
       "      <td>NaN</td>\n",
       "      <td>Developing</td>\n",
       "    </tr>\n",
       "    <tr>\n",
       "      <th>16</th>\n",
       "      <td>1</td>\n",
       "      <td>World</td>\n",
       "      <td>19</td>\n",
       "      <td>Americas</td>\n",
       "      <td>419</td>\n",
       "      <td>Latin America and the Caribbean</td>\n",
       "      <td>Bahamas</td>\n",
       "      <td>44</td>\n",
       "      <td>BHS</td>\n",
       "      <td>NaN</td>\n",
       "      <td>NaN</td>\n",
       "      <td>1.0</td>\n",
       "      <td>Developing</td>\n",
       "    </tr>\n",
       "    <tr>\n",
       "      <th>17</th>\n",
       "      <td>1</td>\n",
       "      <td>World</td>\n",
       "      <td>142</td>\n",
       "      <td>Asia</td>\n",
       "      <td>145</td>\n",
       "      <td>Western Asia</td>\n",
       "      <td>Bahrain</td>\n",
       "      <td>48</td>\n",
       "      <td>BHR</td>\n",
       "      <td>NaN</td>\n",
       "      <td>NaN</td>\n",
       "      <td>NaN</td>\n",
       "      <td>Developing</td>\n",
       "    </tr>\n",
       "    <tr>\n",
       "      <th>18</th>\n",
       "      <td>1</td>\n",
       "      <td>World</td>\n",
       "      <td>142</td>\n",
       "      <td>Asia</td>\n",
       "      <td>34</td>\n",
       "      <td>Southern Asia</td>\n",
       "      <td>Bangladesh</td>\n",
       "      <td>50</td>\n",
       "      <td>BGD</td>\n",
       "      <td>1.0</td>\n",
       "      <td>NaN</td>\n",
       "      <td>NaN</td>\n",
       "      <td>Developing</td>\n",
       "    </tr>\n",
       "    <tr>\n",
       "      <th>19</th>\n",
       "      <td>1</td>\n",
       "      <td>World</td>\n",
       "      <td>19</td>\n",
       "      <td>Americas</td>\n",
       "      <td>419</td>\n",
       "      <td>Latin America and the Caribbean</td>\n",
       "      <td>Barbados</td>\n",
       "      <td>52</td>\n",
       "      <td>BRB</td>\n",
       "      <td>NaN</td>\n",
       "      <td>NaN</td>\n",
       "      <td>1.0</td>\n",
       "      <td>Developing</td>\n",
       "    </tr>\n",
       "    <tr>\n",
       "      <th>20</th>\n",
       "      <td>1</td>\n",
       "      <td>World</td>\n",
       "      <td>150</td>\n",
       "      <td>Europe</td>\n",
       "      <td>151</td>\n",
       "      <td>Eastern Europe</td>\n",
       "      <td>Belarus</td>\n",
       "      <td>112</td>\n",
       "      <td>BLR</td>\n",
       "      <td>NaN</td>\n",
       "      <td>NaN</td>\n",
       "      <td>NaN</td>\n",
       "      <td>Developed</td>\n",
       "    </tr>\n",
       "    <tr>\n",
       "      <th>21</th>\n",
       "      <td>1</td>\n",
       "      <td>World</td>\n",
       "      <td>150</td>\n",
       "      <td>Europe</td>\n",
       "      <td>155</td>\n",
       "      <td>Western Europe</td>\n",
       "      <td>Belgium</td>\n",
       "      <td>56</td>\n",
       "      <td>BEL</td>\n",
       "      <td>NaN</td>\n",
       "      <td>NaN</td>\n",
       "      <td>NaN</td>\n",
       "      <td>Developed</td>\n",
       "    </tr>\n",
       "    <tr>\n",
       "      <th>22</th>\n",
       "      <td>1</td>\n",
       "      <td>World</td>\n",
       "      <td>19</td>\n",
       "      <td>Americas</td>\n",
       "      <td>419</td>\n",
       "      <td>Latin America and the Caribbean</td>\n",
       "      <td>Belize</td>\n",
       "      <td>84</td>\n",
       "      <td>BLZ</td>\n",
       "      <td>NaN</td>\n",
       "      <td>NaN</td>\n",
       "      <td>1.0</td>\n",
       "      <td>Developing</td>\n",
       "    </tr>\n",
       "    <tr>\n",
       "      <th>23</th>\n",
       "      <td>1</td>\n",
       "      <td>World</td>\n",
       "      <td>2</td>\n",
       "      <td>Africa</td>\n",
       "      <td>202</td>\n",
       "      <td>Sub-Saharan Africa</td>\n",
       "      <td>Benin</td>\n",
       "      <td>204</td>\n",
       "      <td>BEN</td>\n",
       "      <td>1.0</td>\n",
       "      <td>NaN</td>\n",
       "      <td>NaN</td>\n",
       "      <td>Developing</td>\n",
       "    </tr>\n",
       "    <tr>\n",
       "      <th>24</th>\n",
       "      <td>1</td>\n",
       "      <td>World</td>\n",
       "      <td>19</td>\n",
       "      <td>Americas</td>\n",
       "      <td>21</td>\n",
       "      <td>Northern America</td>\n",
       "      <td>Bermuda</td>\n",
       "      <td>60</td>\n",
       "      <td>BMU</td>\n",
       "      <td>NaN</td>\n",
       "      <td>NaN</td>\n",
       "      <td>NaN</td>\n",
       "      <td>Developed</td>\n",
       "    </tr>\n",
       "    <tr>\n",
       "      <th>25</th>\n",
       "      <td>1</td>\n",
       "      <td>World</td>\n",
       "      <td>142</td>\n",
       "      <td>Asia</td>\n",
       "      <td>34</td>\n",
       "      <td>Southern Asia</td>\n",
       "      <td>Bhutan</td>\n",
       "      <td>64</td>\n",
       "      <td>BTN</td>\n",
       "      <td>1.0</td>\n",
       "      <td>1.0</td>\n",
       "      <td>NaN</td>\n",
       "      <td>Developing</td>\n",
       "    </tr>\n",
       "    <tr>\n",
       "      <th>26</th>\n",
       "      <td>1</td>\n",
       "      <td>World</td>\n",
       "      <td>19</td>\n",
       "      <td>Americas</td>\n",
       "      <td>419</td>\n",
       "      <td>Latin America and the Caribbean</td>\n",
       "      <td>Bolivia</td>\n",
       "      <td>68</td>\n",
       "      <td>BOL</td>\n",
       "      <td>NaN</td>\n",
       "      <td>1.0</td>\n",
       "      <td>NaN</td>\n",
       "      <td>Developing</td>\n",
       "    </tr>\n",
       "    <tr>\n",
       "      <th>27</th>\n",
       "      <td>1</td>\n",
       "      <td>World</td>\n",
       "      <td>19</td>\n",
       "      <td>Americas</td>\n",
       "      <td>419</td>\n",
       "      <td>Latin America and the Caribbean</td>\n",
       "      <td>Bonaire</td>\n",
       "      <td>535</td>\n",
       "      <td>BES</td>\n",
       "      <td>NaN</td>\n",
       "      <td>NaN</td>\n",
       "      <td>1.0</td>\n",
       "      <td>Developing</td>\n",
       "    </tr>\n",
       "    <tr>\n",
       "      <th>28</th>\n",
       "      <td>1</td>\n",
       "      <td>World</td>\n",
       "      <td>150</td>\n",
       "      <td>Europe</td>\n",
       "      <td>39</td>\n",
       "      <td>Southern Europe</td>\n",
       "      <td>Bosnia and Herzegovina</td>\n",
       "      <td>70</td>\n",
       "      <td>BIH</td>\n",
       "      <td>NaN</td>\n",
       "      <td>NaN</td>\n",
       "      <td>NaN</td>\n",
       "      <td>Developed</td>\n",
       "    </tr>\n",
       "    <tr>\n",
       "      <th>29</th>\n",
       "      <td>1</td>\n",
       "      <td>World</td>\n",
       "      <td>2</td>\n",
       "      <td>Africa</td>\n",
       "      <td>202</td>\n",
       "      <td>Sub-Saharan Africa</td>\n",
       "      <td>Botswana</td>\n",
       "      <td>72</td>\n",
       "      <td>BWA</td>\n",
       "      <td>NaN</td>\n",
       "      <td>1.0</td>\n",
       "      <td>NaN</td>\n",
       "      <td>Developing</td>\n",
       "    </tr>\n",
       "    <tr>\n",
       "      <th>...</th>\n",
       "      <td>...</td>\n",
       "      <td>...</td>\n",
       "      <td>...</td>\n",
       "      <td>...</td>\n",
       "      <td>...</td>\n",
       "      <td>...</td>\n",
       "      <td>...</td>\n",
       "      <td>...</td>\n",
       "      <td>...</td>\n",
       "      <td>...</td>\n",
       "      <td>...</td>\n",
       "      <td>...</td>\n",
       "      <td>...</td>\n",
       "    </tr>\n",
       "    <tr>\n",
       "      <th>220</th>\n",
       "      <td>1</td>\n",
       "      <td>World</td>\n",
       "      <td>142</td>\n",
       "      <td>Asia</td>\n",
       "      <td>143</td>\n",
       "      <td>Central Asia</td>\n",
       "      <td>Tajikistan</td>\n",
       "      <td>346</td>\n",
       "      <td>TJK</td>\n",
       "      <td>NaN</td>\n",
       "      <td>1.0</td>\n",
       "      <td>NaN</td>\n",
       "      <td>Developing</td>\n",
       "    </tr>\n",
       "    <tr>\n",
       "      <th>221</th>\n",
       "      <td>1</td>\n",
       "      <td>World</td>\n",
       "      <td>9</td>\n",
       "      <td>Oceania</td>\n",
       "      <td>57</td>\n",
       "      <td>Micronesia</td>\n",
       "      <td>Tanzania</td>\n",
       "      <td>834</td>\n",
       "      <td>TZA</td>\n",
       "      <td>1.0</td>\n",
       "      <td>NaN</td>\n",
       "      <td>NaN</td>\n",
       "      <td>Developing</td>\n",
       "    </tr>\n",
       "    <tr>\n",
       "      <th>222</th>\n",
       "      <td>1</td>\n",
       "      <td>World</td>\n",
       "      <td>142</td>\n",
       "      <td>Asia</td>\n",
       "      <td>35</td>\n",
       "      <td>South-eastern Asia</td>\n",
       "      <td>Thailand</td>\n",
       "      <td>764</td>\n",
       "      <td>THA</td>\n",
       "      <td>NaN</td>\n",
       "      <td>NaN</td>\n",
       "      <td>NaN</td>\n",
       "      <td>Developing</td>\n",
       "    </tr>\n",
       "    <tr>\n",
       "      <th>223</th>\n",
       "      <td>1</td>\n",
       "      <td>World</td>\n",
       "      <td>142</td>\n",
       "      <td>Asia</td>\n",
       "      <td>35</td>\n",
       "      <td>South-eastern Asia</td>\n",
       "      <td>Timor-Leste</td>\n",
       "      <td>626</td>\n",
       "      <td>TLS</td>\n",
       "      <td>1.0</td>\n",
       "      <td>NaN</td>\n",
       "      <td>1.0</td>\n",
       "      <td>Developing</td>\n",
       "    </tr>\n",
       "    <tr>\n",
       "      <th>224</th>\n",
       "      <td>1</td>\n",
       "      <td>World</td>\n",
       "      <td>2</td>\n",
       "      <td>Africa</td>\n",
       "      <td>202</td>\n",
       "      <td>Sub-Saharan Africa</td>\n",
       "      <td>Togo</td>\n",
       "      <td>768</td>\n",
       "      <td>TGO</td>\n",
       "      <td>1.0</td>\n",
       "      <td>NaN</td>\n",
       "      <td>NaN</td>\n",
       "      <td>Developing</td>\n",
       "    </tr>\n",
       "    <tr>\n",
       "      <th>225</th>\n",
       "      <td>1</td>\n",
       "      <td>World</td>\n",
       "      <td>9</td>\n",
       "      <td>Oceania</td>\n",
       "      <td>61</td>\n",
       "      <td>Polynesia</td>\n",
       "      <td>Tokelau</td>\n",
       "      <td>772</td>\n",
       "      <td>TKL</td>\n",
       "      <td>NaN</td>\n",
       "      <td>NaN</td>\n",
       "      <td>NaN</td>\n",
       "      <td>Developing</td>\n",
       "    </tr>\n",
       "    <tr>\n",
       "      <th>226</th>\n",
       "      <td>1</td>\n",
       "      <td>World</td>\n",
       "      <td>9</td>\n",
       "      <td>Oceania</td>\n",
       "      <td>61</td>\n",
       "      <td>Polynesia</td>\n",
       "      <td>Tonga</td>\n",
       "      <td>776</td>\n",
       "      <td>TON</td>\n",
       "      <td>NaN</td>\n",
       "      <td>NaN</td>\n",
       "      <td>1.0</td>\n",
       "      <td>Developing</td>\n",
       "    </tr>\n",
       "    <tr>\n",
       "      <th>227</th>\n",
       "      <td>1</td>\n",
       "      <td>World</td>\n",
       "      <td>19</td>\n",
       "      <td>Americas</td>\n",
       "      <td>419</td>\n",
       "      <td>Latin America and the Caribbean</td>\n",
       "      <td>Trinidad and Tobago</td>\n",
       "      <td>780</td>\n",
       "      <td>TTO</td>\n",
       "      <td>NaN</td>\n",
       "      <td>NaN</td>\n",
       "      <td>1.0</td>\n",
       "      <td>Developing</td>\n",
       "    </tr>\n",
       "    <tr>\n",
       "      <th>228</th>\n",
       "      <td>1</td>\n",
       "      <td>World</td>\n",
       "      <td>2</td>\n",
       "      <td>Africa</td>\n",
       "      <td>15</td>\n",
       "      <td>Northern Africa</td>\n",
       "      <td>Tunisia</td>\n",
       "      <td>788</td>\n",
       "      <td>TUN</td>\n",
       "      <td>NaN</td>\n",
       "      <td>NaN</td>\n",
       "      <td>NaN</td>\n",
       "      <td>Developing</td>\n",
       "    </tr>\n",
       "    <tr>\n",
       "      <th>229</th>\n",
       "      <td>1</td>\n",
       "      <td>World</td>\n",
       "      <td>142</td>\n",
       "      <td>Asia</td>\n",
       "      <td>145</td>\n",
       "      <td>Western Asia</td>\n",
       "      <td>Turkey</td>\n",
       "      <td>792</td>\n",
       "      <td>TUR</td>\n",
       "      <td>NaN</td>\n",
       "      <td>NaN</td>\n",
       "      <td>NaN</td>\n",
       "      <td>Developing</td>\n",
       "    </tr>\n",
       "    <tr>\n",
       "      <th>230</th>\n",
       "      <td>1</td>\n",
       "      <td>World</td>\n",
       "      <td>142</td>\n",
       "      <td>Asia</td>\n",
       "      <td>143</td>\n",
       "      <td>Central Asia</td>\n",
       "      <td>Turkmenistan</td>\n",
       "      <td>795</td>\n",
       "      <td>TKM</td>\n",
       "      <td>NaN</td>\n",
       "      <td>1.0</td>\n",
       "      <td>NaN</td>\n",
       "      <td>Developing</td>\n",
       "    </tr>\n",
       "    <tr>\n",
       "      <th>231</th>\n",
       "      <td>1</td>\n",
       "      <td>World</td>\n",
       "      <td>19</td>\n",
       "      <td>Americas</td>\n",
       "      <td>419</td>\n",
       "      <td>Latin America and the Caribbean</td>\n",
       "      <td>Turks and Caicos</td>\n",
       "      <td>796</td>\n",
       "      <td>TCA</td>\n",
       "      <td>NaN</td>\n",
       "      <td>NaN</td>\n",
       "      <td>NaN</td>\n",
       "      <td>Developing</td>\n",
       "    </tr>\n",
       "    <tr>\n",
       "      <th>232</th>\n",
       "      <td>1</td>\n",
       "      <td>World</td>\n",
       "      <td>9</td>\n",
       "      <td>Oceania</td>\n",
       "      <td>61</td>\n",
       "      <td>Polynesia</td>\n",
       "      <td>Tuvalu</td>\n",
       "      <td>798</td>\n",
       "      <td>TUV</td>\n",
       "      <td>1.0</td>\n",
       "      <td>NaN</td>\n",
       "      <td>1.0</td>\n",
       "      <td>Developing</td>\n",
       "    </tr>\n",
       "    <tr>\n",
       "      <th>233</th>\n",
       "      <td>1</td>\n",
       "      <td>World</td>\n",
       "      <td>142</td>\n",
       "      <td>Asia</td>\n",
       "      <td>145</td>\n",
       "      <td>Western Asia</td>\n",
       "      <td>UAE</td>\n",
       "      <td>800</td>\n",
       "      <td>ARE</td>\n",
       "      <td>NaN</td>\n",
       "      <td>NaN</td>\n",
       "      <td>NaN</td>\n",
       "      <td>Developing</td>\n",
       "    </tr>\n",
       "    <tr>\n",
       "      <th>234</th>\n",
       "      <td>1</td>\n",
       "      <td>World</td>\n",
       "      <td>2</td>\n",
       "      <td>Africa</td>\n",
       "      <td>202</td>\n",
       "      <td>Sub-Saharan Africa</td>\n",
       "      <td>Uganda</td>\n",
       "      <td>826</td>\n",
       "      <td>UGA</td>\n",
       "      <td>1.0</td>\n",
       "      <td>1.0</td>\n",
       "      <td>NaN</td>\n",
       "      <td>Developing</td>\n",
       "    </tr>\n",
       "    <tr>\n",
       "      <th>235</th>\n",
       "      <td>1</td>\n",
       "      <td>World</td>\n",
       "      <td>150</td>\n",
       "      <td>Europe</td>\n",
       "      <td>154</td>\n",
       "      <td>Northern Europe</td>\n",
       "      <td>UK</td>\n",
       "      <td>804</td>\n",
       "      <td>GBR</td>\n",
       "      <td>NaN</td>\n",
       "      <td>NaN</td>\n",
       "      <td>NaN</td>\n",
       "      <td>Developed</td>\n",
       "    </tr>\n",
       "    <tr>\n",
       "      <th>236</th>\n",
       "      <td>1</td>\n",
       "      <td>World</td>\n",
       "      <td>150</td>\n",
       "      <td>Europe</td>\n",
       "      <td>151</td>\n",
       "      <td>Eastern Europe</td>\n",
       "      <td>Ukraine</td>\n",
       "      <td>784</td>\n",
       "      <td>UKR</td>\n",
       "      <td>NaN</td>\n",
       "      <td>NaN</td>\n",
       "      <td>NaN</td>\n",
       "      <td>Developed</td>\n",
       "    </tr>\n",
       "    <tr>\n",
       "      <th>237</th>\n",
       "      <td>1</td>\n",
       "      <td>World</td>\n",
       "      <td>9</td>\n",
       "      <td>Oceania</td>\n",
       "      <td>57</td>\n",
       "      <td>Micronesia</td>\n",
       "      <td>United States Minor Outlying Islands</td>\n",
       "      <td>581</td>\n",
       "      <td>UMI</td>\n",
       "      <td>NaN</td>\n",
       "      <td>NaN</td>\n",
       "      <td>NaN</td>\n",
       "      <td>Developing</td>\n",
       "    </tr>\n",
       "    <tr>\n",
       "      <th>238</th>\n",
       "      <td>1</td>\n",
       "      <td>World</td>\n",
       "      <td>19</td>\n",
       "      <td>Americas</td>\n",
       "      <td>419</td>\n",
       "      <td>Latin America and the Caribbean</td>\n",
       "      <td>United States Virgin Islands</td>\n",
       "      <td>850</td>\n",
       "      <td>VIR</td>\n",
       "      <td>NaN</td>\n",
       "      <td>NaN</td>\n",
       "      <td>1.0</td>\n",
       "      <td>Developing</td>\n",
       "    </tr>\n",
       "    <tr>\n",
       "      <th>239</th>\n",
       "      <td>1</td>\n",
       "      <td>World</td>\n",
       "      <td>19</td>\n",
       "      <td>Americas</td>\n",
       "      <td>419</td>\n",
       "      <td>Latin America and the Caribbean</td>\n",
       "      <td>Uruguay</td>\n",
       "      <td>858</td>\n",
       "      <td>URY</td>\n",
       "      <td>NaN</td>\n",
       "      <td>NaN</td>\n",
       "      <td>NaN</td>\n",
       "      <td>Developing</td>\n",
       "    </tr>\n",
       "    <tr>\n",
       "      <th>240</th>\n",
       "      <td>1</td>\n",
       "      <td>World</td>\n",
       "      <td>19</td>\n",
       "      <td>Americas</td>\n",
       "      <td>21</td>\n",
       "      <td>Northern America</td>\n",
       "      <td>USA</td>\n",
       "      <td>840</td>\n",
       "      <td>USA</td>\n",
       "      <td>NaN</td>\n",
       "      <td>NaN</td>\n",
       "      <td>NaN</td>\n",
       "      <td>Developed</td>\n",
       "    </tr>\n",
       "    <tr>\n",
       "      <th>241</th>\n",
       "      <td>1</td>\n",
       "      <td>World</td>\n",
       "      <td>142</td>\n",
       "      <td>Asia</td>\n",
       "      <td>143</td>\n",
       "      <td>Central Asia</td>\n",
       "      <td>Uzbekistan</td>\n",
       "      <td>860</td>\n",
       "      <td>UZB</td>\n",
       "      <td>NaN</td>\n",
       "      <td>1.0</td>\n",
       "      <td>NaN</td>\n",
       "      <td>Developing</td>\n",
       "    </tr>\n",
       "    <tr>\n",
       "      <th>242</th>\n",
       "      <td>1</td>\n",
       "      <td>World</td>\n",
       "      <td>9</td>\n",
       "      <td>Oceania</td>\n",
       "      <td>54</td>\n",
       "      <td>Melanesia</td>\n",
       "      <td>Vanuatu</td>\n",
       "      <td>548</td>\n",
       "      <td>VUT</td>\n",
       "      <td>1.0</td>\n",
       "      <td>NaN</td>\n",
       "      <td>1.0</td>\n",
       "      <td>Developing</td>\n",
       "    </tr>\n",
       "    <tr>\n",
       "      <th>243</th>\n",
       "      <td>1</td>\n",
       "      <td>World</td>\n",
       "      <td>19</td>\n",
       "      <td>Americas</td>\n",
       "      <td>419</td>\n",
       "      <td>Latin America and the Caribbean</td>\n",
       "      <td>Venezuela</td>\n",
       "      <td>862</td>\n",
       "      <td>VEN</td>\n",
       "      <td>NaN</td>\n",
       "      <td>NaN</td>\n",
       "      <td>NaN</td>\n",
       "      <td>Developing</td>\n",
       "    </tr>\n",
       "    <tr>\n",
       "      <th>244</th>\n",
       "      <td>1</td>\n",
       "      <td>World</td>\n",
       "      <td>142</td>\n",
       "      <td>Asia</td>\n",
       "      <td>35</td>\n",
       "      <td>South-eastern Asia</td>\n",
       "      <td>Vietnam</td>\n",
       "      <td>704</td>\n",
       "      <td>VNM</td>\n",
       "      <td>NaN</td>\n",
       "      <td>NaN</td>\n",
       "      <td>NaN</td>\n",
       "      <td>Developing</td>\n",
       "    </tr>\n",
       "    <tr>\n",
       "      <th>245</th>\n",
       "      <td>1</td>\n",
       "      <td>World</td>\n",
       "      <td>9</td>\n",
       "      <td>Oceania</td>\n",
       "      <td>61</td>\n",
       "      <td>Polynesia</td>\n",
       "      <td>Wallis and Futuna Islands</td>\n",
       "      <td>876</td>\n",
       "      <td>WLF</td>\n",
       "      <td>NaN</td>\n",
       "      <td>NaN</td>\n",
       "      <td>NaN</td>\n",
       "      <td>Developing</td>\n",
       "    </tr>\n",
       "    <tr>\n",
       "      <th>246</th>\n",
       "      <td>1</td>\n",
       "      <td>World</td>\n",
       "      <td>2</td>\n",
       "      <td>Africa</td>\n",
       "      <td>15</td>\n",
       "      <td>Northern Africa</td>\n",
       "      <td>Western Sahara</td>\n",
       "      <td>732</td>\n",
       "      <td>ESH</td>\n",
       "      <td>NaN</td>\n",
       "      <td>NaN</td>\n",
       "      <td>NaN</td>\n",
       "      <td>Developing</td>\n",
       "    </tr>\n",
       "    <tr>\n",
       "      <th>247</th>\n",
       "      <td>1</td>\n",
       "      <td>World</td>\n",
       "      <td>142</td>\n",
       "      <td>Asia</td>\n",
       "      <td>145</td>\n",
       "      <td>Western Asia</td>\n",
       "      <td>Yemen</td>\n",
       "      <td>887</td>\n",
       "      <td>YEM</td>\n",
       "      <td>1.0</td>\n",
       "      <td>NaN</td>\n",
       "      <td>NaN</td>\n",
       "      <td>Developing</td>\n",
       "    </tr>\n",
       "    <tr>\n",
       "      <th>248</th>\n",
       "      <td>1</td>\n",
       "      <td>World</td>\n",
       "      <td>2</td>\n",
       "      <td>Africa</td>\n",
       "      <td>202</td>\n",
       "      <td>Sub-Saharan Africa</td>\n",
       "      <td>Zambia</td>\n",
       "      <td>894</td>\n",
       "      <td>ZMB</td>\n",
       "      <td>1.0</td>\n",
       "      <td>1.0</td>\n",
       "      <td>NaN</td>\n",
       "      <td>Developing</td>\n",
       "    </tr>\n",
       "    <tr>\n",
       "      <th>249</th>\n",
       "      <td>1</td>\n",
       "      <td>World</td>\n",
       "      <td>2</td>\n",
       "      <td>Africa</td>\n",
       "      <td>202</td>\n",
       "      <td>Sub-Saharan Africa</td>\n",
       "      <td>Zimbabwe</td>\n",
       "      <td>716</td>\n",
       "      <td>ZWE</td>\n",
       "      <td>NaN</td>\n",
       "      <td>1.0</td>\n",
       "      <td>NaN</td>\n",
       "      <td>Developing</td>\n",
       "    </tr>\n",
       "  </tbody>\n",
       "</table>\n",
       "<p>250 rows × 13 columns</p>\n",
       "</div>"
      ],
      "text/plain": [
       "     globalCode globalName  regionCode regionName  subRegionCode  \\\n",
       "0             1      World         142       Asia             34   \n",
       "1             1      World         150     Europe            154   \n",
       "2             1      World         150     Europe             39   \n",
       "3             1      World           2     Africa             15   \n",
       "4             1      World           9    Oceania             61   \n",
       "5             1      World         150     Europe             39   \n",
       "6             1      World           2     Africa            202   \n",
       "7             1      World          19   Americas            419   \n",
       "8             1      World          10  Antartica            100   \n",
       "9             1      World          19   Americas            419   \n",
       "10            1      World          19   Americas            419   \n",
       "11            1      World         142       Asia            145   \n",
       "12            1      World          19   Americas            419   \n",
       "13            1      World           9    Oceania             53   \n",
       "14            1      World         150     Europe            155   \n",
       "15            1      World         142       Asia            145   \n",
       "16            1      World          19   Americas            419   \n",
       "17            1      World         142       Asia            145   \n",
       "18            1      World         142       Asia             34   \n",
       "19            1      World          19   Americas            419   \n",
       "20            1      World         150     Europe            151   \n",
       "21            1      World         150     Europe            155   \n",
       "22            1      World          19   Americas            419   \n",
       "23            1      World           2     Africa            202   \n",
       "24            1      World          19   Americas             21   \n",
       "25            1      World         142       Asia             34   \n",
       "26            1      World          19   Americas            419   \n",
       "27            1      World          19   Americas            419   \n",
       "28            1      World         150     Europe             39   \n",
       "29            1      World           2     Africa            202   \n",
       "..          ...        ...         ...        ...            ...   \n",
       "220           1      World         142       Asia            143   \n",
       "221           1      World           9    Oceania             57   \n",
       "222           1      World         142       Asia             35   \n",
       "223           1      World         142       Asia             35   \n",
       "224           1      World           2     Africa            202   \n",
       "225           1      World           9    Oceania             61   \n",
       "226           1      World           9    Oceania             61   \n",
       "227           1      World          19   Americas            419   \n",
       "228           1      World           2     Africa             15   \n",
       "229           1      World         142       Asia            145   \n",
       "230           1      World         142       Asia            143   \n",
       "231           1      World          19   Americas            419   \n",
       "232           1      World           9    Oceania             61   \n",
       "233           1      World         142       Asia            145   \n",
       "234           1      World           2     Africa            202   \n",
       "235           1      World         150     Europe            154   \n",
       "236           1      World         150     Europe            151   \n",
       "237           1      World           9    Oceania             57   \n",
       "238           1      World          19   Americas            419   \n",
       "239           1      World          19   Americas            419   \n",
       "240           1      World          19   Americas             21   \n",
       "241           1      World         142       Asia            143   \n",
       "242           1      World           9    Oceania             54   \n",
       "243           1      World          19   Americas            419   \n",
       "244           1      World         142       Asia             35   \n",
       "245           1      World           9    Oceania             61   \n",
       "246           1      World           2     Africa             15   \n",
       "247           1      World         142       Asia            145   \n",
       "248           1      World           2     Africa            202   \n",
       "249           1      World           2     Africa            202   \n",
       "\n",
       "                       subRegionName                               country  \\\n",
       "0                      Southern Asia                           Afghanistan   \n",
       "1                    Northern Europe                         Åland Islands   \n",
       "2                    Southern Europe                               Albania   \n",
       "3                    Northern Africa                               Algeria   \n",
       "4                          Polynesia                        American Samoa   \n",
       "5                    Southern Europe                               Andorra   \n",
       "6                 Sub-Saharan Africa                                Angola   \n",
       "7    Latin America and the Caribbean                              Anguilla   \n",
       "8                 AntarticaSubRegion                            Antarctica   \n",
       "9    Latin America and the Caribbean                   Antigua and Barbuda   \n",
       "10   Latin America and the Caribbean                             Argentina   \n",
       "11                      Western Asia                               Armenia   \n",
       "12   Latin America and the Caribbean                                 Aruba   \n",
       "13         Australia and New Zealand                             Australia   \n",
       "14                    Western Europe                               Austria   \n",
       "15                      Western Asia                            Azerbaijan   \n",
       "16   Latin America and the Caribbean                               Bahamas   \n",
       "17                      Western Asia                               Bahrain   \n",
       "18                     Southern Asia                            Bangladesh   \n",
       "19   Latin America and the Caribbean                              Barbados   \n",
       "20                    Eastern Europe                               Belarus   \n",
       "21                    Western Europe                               Belgium   \n",
       "22   Latin America and the Caribbean                                Belize   \n",
       "23                Sub-Saharan Africa                                 Benin   \n",
       "24                  Northern America                               Bermuda   \n",
       "25                     Southern Asia                                Bhutan   \n",
       "26   Latin America and the Caribbean                               Bolivia   \n",
       "27   Latin America and the Caribbean                               Bonaire   \n",
       "28                   Southern Europe                Bosnia and Herzegovina   \n",
       "29                Sub-Saharan Africa                              Botswana   \n",
       "..                               ...                                   ...   \n",
       "220                     Central Asia                            Tajikistan   \n",
       "221                       Micronesia                              Tanzania   \n",
       "222               South-eastern Asia                              Thailand   \n",
       "223               South-eastern Asia                           Timor-Leste   \n",
       "224               Sub-Saharan Africa                                  Togo   \n",
       "225                        Polynesia                               Tokelau   \n",
       "226                        Polynesia                                 Tonga   \n",
       "227  Latin America and the Caribbean                   Trinidad and Tobago   \n",
       "228                  Northern Africa                               Tunisia   \n",
       "229                     Western Asia                                Turkey   \n",
       "230                     Central Asia                          Turkmenistan   \n",
       "231  Latin America and the Caribbean                      Turks and Caicos   \n",
       "232                        Polynesia                                Tuvalu   \n",
       "233                     Western Asia                                   UAE   \n",
       "234               Sub-Saharan Africa                                Uganda   \n",
       "235                  Northern Europe                                    UK   \n",
       "236                   Eastern Europe                               Ukraine   \n",
       "237                       Micronesia  United States Minor Outlying Islands   \n",
       "238  Latin America and the Caribbean          United States Virgin Islands   \n",
       "239  Latin America and the Caribbean                               Uruguay   \n",
       "240                 Northern America                                   USA   \n",
       "241                     Central Asia                            Uzbekistan   \n",
       "242                        Melanesia                               Vanuatu   \n",
       "243  Latin America and the Caribbean                             Venezuela   \n",
       "244               South-eastern Asia                               Vietnam   \n",
       "245                        Polynesia             Wallis and Futuna Islands   \n",
       "246                  Northern Africa                        Western Sahara   \n",
       "247                     Western Asia                                 Yemen   \n",
       "248               Sub-Saharan Africa                                Zambia   \n",
       "249               Sub-Saharan Africa                              Zimbabwe   \n",
       "\n",
       "     m49 code  ldc  lldc  sids development  \n",
       "0      4  AFG  1.0   1.0   NaN  Developing  \n",
       "1    248  ALA  NaN   NaN   NaN   Developed  \n",
       "2      8  ALB  NaN   NaN   NaN   Developed  \n",
       "3     12  DZA  NaN   NaN   NaN  Developing  \n",
       "4     16  ASM  NaN   NaN   1.0  Developing  \n",
       "5     20  AND  NaN   NaN   NaN   Developed  \n",
       "6     24  AGO  1.0   NaN   NaN  Developing  \n",
       "7    660  AIA  NaN   NaN   1.0  Developing  \n",
       "8     10  ATA  NaN   NaN   NaN  Developing  \n",
       "9     28  ATG  NaN   NaN   1.0  Developing  \n",
       "10    32  ARG  NaN   NaN   NaN  Developing  \n",
       "11    51  ARM  NaN   1.0   NaN  Developing  \n",
       "12   533  ABW  NaN   NaN   1.0  Developing  \n",
       "13    36  AUS  NaN   NaN   NaN   Developed  \n",
       "14    40  AUT  NaN   NaN   NaN   Developed  \n",
       "15    31  AZE  NaN   1.0   NaN  Developing  \n",
       "16    44  BHS  NaN   NaN   1.0  Developing  \n",
       "17    48  BHR  NaN   NaN   NaN  Developing  \n",
       "18    50  BGD  1.0   NaN   NaN  Developing  \n",
       "19    52  BRB  NaN   NaN   1.0  Developing  \n",
       "20   112  BLR  NaN   NaN   NaN   Developed  \n",
       "21    56  BEL  NaN   NaN   NaN   Developed  \n",
       "22    84  BLZ  NaN   NaN   1.0  Developing  \n",
       "23   204  BEN  1.0   NaN   NaN  Developing  \n",
       "24    60  BMU  NaN   NaN   NaN   Developed  \n",
       "25    64  BTN  1.0   1.0   NaN  Developing  \n",
       "26    68  BOL  NaN   1.0   NaN  Developing  \n",
       "27   535  BES  NaN   NaN   1.0  Developing  \n",
       "28    70  BIH  NaN   NaN   NaN   Developed  \n",
       "29    72  BWA  NaN   1.0   NaN  Developing  \n",
       "..   ...  ...  ...   ...   ...         ...  \n",
       "220  346  TJK  NaN   1.0   NaN  Developing  \n",
       "221  834  TZA  1.0   NaN   NaN  Developing  \n",
       "222  764  THA  NaN   NaN   NaN  Developing  \n",
       "223  626  TLS  1.0   NaN   1.0  Developing  \n",
       "224  768  TGO  1.0   NaN   NaN  Developing  \n",
       "225  772  TKL  NaN   NaN   NaN  Developing  \n",
       "226  776  TON  NaN   NaN   1.0  Developing  \n",
       "227  780  TTO  NaN   NaN   1.0  Developing  \n",
       "228  788  TUN  NaN   NaN   NaN  Developing  \n",
       "229  792  TUR  NaN   NaN   NaN  Developing  \n",
       "230  795  TKM  NaN   1.0   NaN  Developing  \n",
       "231  796  TCA  NaN   NaN   NaN  Developing  \n",
       "232  798  TUV  1.0   NaN   1.0  Developing  \n",
       "233  800  ARE  NaN   NaN   NaN  Developing  \n",
       "234  826  UGA  1.0   1.0   NaN  Developing  \n",
       "235  804  GBR  NaN   NaN   NaN   Developed  \n",
       "236  784  UKR  NaN   NaN   NaN   Developed  \n",
       "237  581  UMI  NaN   NaN   NaN  Developing  \n",
       "238  850  VIR  NaN   NaN   1.0  Developing  \n",
       "239  858  URY  NaN   NaN   NaN  Developing  \n",
       "240  840  USA  NaN   NaN   NaN   Developed  \n",
       "241  860  UZB  NaN   1.0   NaN  Developing  \n",
       "242  548  VUT  1.0   NaN   1.0  Developing  \n",
       "243  862  VEN  NaN   NaN   NaN  Developing  \n",
       "244  704  VNM  NaN   NaN   NaN  Developing  \n",
       "245  876  WLF  NaN   NaN   NaN  Developing  \n",
       "246  732  ESH  NaN   NaN   NaN  Developing  \n",
       "247  887  YEM  1.0   NaN   NaN  Developing  \n",
       "248  894  ZMB  1.0   1.0   NaN  Developing  \n",
       "249  716  ZWE  NaN   1.0   NaN  Developing  \n",
       "\n",
       "[250 rows x 13 columns]"
      ]
     },
     "execution_count": 5,
     "metadata": {},
     "output_type": "execute_result"
    }
   ],
   "source": [
    "unsd.drop(columns=['interRegionCode','interRegionName'])"
   ]
  },
  {
   "cell_type": "code",
   "execution_count": 6,
   "metadata": {},
   "outputs": [
    {
     "data": {
      "text/plain": [
       "Index(['ctr', 'country', 'pdi', 'idv', 'mas', 'uai', 'ltowvs', 'ivr'], dtype='object')"
      ]
     },
     "execution_count": 6,
     "metadata": {},
     "output_type": "execute_result"
    }
   ],
   "source": [
    "hoefstede.columns"
   ]
  },
  {
   "cell_type": "code",
   "execution_count": 7,
   "metadata": {},
   "outputs": [],
   "source": [
    "#Format columns\n",
    "hoefstede = hoefstede.rename(columns={\"ctr\":\"code\"\n",
    "                            })"
   ]
  },
  {
   "cell_type": "code",
   "execution_count": 8,
   "metadata": {},
   "outputs": [],
   "source": [
    "hoefstede = hoefstede.replace('#NULL!','')"
   ]
  },
  {
   "cell_type": "code",
   "execution_count": 9,
   "metadata": {},
   "outputs": [],
   "source": [
    "hoefstede[['pdi','idv','mas','uai','ltowvs','ivr']] = hoefstede[['pdi','idv','mas','uai','ltowvs','ivr']].apply(pd.to_numeric)"
   ]
  },
  {
   "cell_type": "code",
   "execution_count": 10,
   "metadata": {},
   "outputs": [
    {
     "data": {
      "text/html": [
       "<div>\n",
       "<style scoped>\n",
       "    .dataframe tbody tr th:only-of-type {\n",
       "        vertical-align: middle;\n",
       "    }\n",
       "\n",
       "    .dataframe tbody tr th {\n",
       "        vertical-align: top;\n",
       "    }\n",
       "\n",
       "    .dataframe thead th {\n",
       "        text-align: right;\n",
       "    }\n",
       "</style>\n",
       "<table border=\"1\" class=\"dataframe\">\n",
       "  <thead>\n",
       "    <tr style=\"text-align: right;\">\n",
       "      <th></th>\n",
       "      <th>code</th>\n",
       "      <th>country</th>\n",
       "      <th>pdi</th>\n",
       "      <th>idv</th>\n",
       "      <th>mas</th>\n",
       "      <th>uai</th>\n",
       "      <th>ltowvs</th>\n",
       "      <th>ivr</th>\n",
       "    </tr>\n",
       "  </thead>\n",
       "  <tbody>\n",
       "    <tr>\n",
       "      <th>0</th>\n",
       "      <td>GTM</td>\n",
       "      <td>Guatemala</td>\n",
       "      <td>95.0</td>\n",
       "      <td>6.0</td>\n",
       "      <td>37.0</td>\n",
       "      <td>101.0</td>\n",
       "      <td>NaN</td>\n",
       "      <td>NaN</td>\n",
       "    </tr>\n",
       "    <tr>\n",
       "      <th>1</th>\n",
       "      <td>ECU</td>\n",
       "      <td>Ecuador</td>\n",
       "      <td>78.0</td>\n",
       "      <td>8.0</td>\n",
       "      <td>63.0</td>\n",
       "      <td>67.0</td>\n",
       "      <td>NaN</td>\n",
       "      <td>NaN</td>\n",
       "    </tr>\n",
       "    <tr>\n",
       "      <th>2</th>\n",
       "      <td>PAN</td>\n",
       "      <td>Panama</td>\n",
       "      <td>95.0</td>\n",
       "      <td>11.0</td>\n",
       "      <td>44.0</td>\n",
       "      <td>86.0</td>\n",
       "      <td>NaN</td>\n",
       "      <td>NaN</td>\n",
       "    </tr>\n",
       "    <tr>\n",
       "      <th>3</th>\n",
       "      <td>VEN</td>\n",
       "      <td>Venezuela</td>\n",
       "      <td>81.0</td>\n",
       "      <td>12.0</td>\n",
       "      <td>73.0</td>\n",
       "      <td>76.0</td>\n",
       "      <td>16.0</td>\n",
       "      <td>100.0</td>\n",
       "    </tr>\n",
       "    <tr>\n",
       "      <th>4</th>\n",
       "      <td>COL</td>\n",
       "      <td>Colombia</td>\n",
       "      <td>67.0</td>\n",
       "      <td>13.0</td>\n",
       "      <td>64.0</td>\n",
       "      <td>80.0</td>\n",
       "      <td>13.0</td>\n",
       "      <td>83.0</td>\n",
       "    </tr>\n",
       "  </tbody>\n",
       "</table>\n",
       "</div>"
      ],
      "text/plain": [
       "  code    country   pdi   idv   mas    uai  ltowvs    ivr\n",
       "0  GTM  Guatemala  95.0   6.0  37.0  101.0     NaN    NaN\n",
       "1  ECU    Ecuador  78.0   8.0  63.0   67.0     NaN    NaN\n",
       "2  PAN     Panama  95.0  11.0  44.0   86.0     NaN    NaN\n",
       "3  VEN  Venezuela  81.0  12.0  73.0   76.0    16.0  100.0\n",
       "4  COL   Colombia  67.0  13.0  64.0   80.0    13.0   83.0"
      ]
     },
     "execution_count": 10,
     "metadata": {},
     "output_type": "execute_result"
    }
   ],
   "source": [
    "hoefstede.head()"
   ]
  },
  {
   "cell_type": "code",
   "execution_count": 11,
   "metadata": {},
   "outputs": [
    {
     "data": {
      "text/plain": [
       "(118, 22)"
      ]
     },
     "execution_count": 11,
     "metadata": {},
     "output_type": "execute_result"
    }
   ],
   "source": [
    "# Merge data\n",
    "countries = pd.merge(unsd, hoefstede, on=[\"code\"])\n",
    "countries.shape"
   ]
  },
  {
   "cell_type": "code",
   "execution_count": 12,
   "metadata": {},
   "outputs": [
    {
     "data": {
      "text/plain": [
       "Index(['globalCode', 'globalName', 'regionCode', 'regionName', 'subRegionCode',\n",
       "       'subRegionName', 'interRegionCode', 'interRegionName', 'country_x',\n",
       "       'm49', 'code', 'ldc', 'lldc', 'sids', 'development', 'country_y', 'pdi',\n",
       "       'idv', 'mas', 'uai', 'ltowvs', 'ivr'],\n",
       "      dtype='object')"
      ]
     },
     "execution_count": 12,
     "metadata": {},
     "output_type": "execute_result"
    }
   ],
   "source": [
    "countries.columns"
   ]
  },
  {
   "cell_type": "code",
   "execution_count": 13,
   "metadata": {},
   "outputs": [],
   "source": [
    "countries.drop(['country_y'], axis=1,inplace=True)"
   ]
  },
  {
   "cell_type": "code",
   "execution_count": 14,
   "metadata": {},
   "outputs": [],
   "source": [
    "countries = countries.rename(columns={'country_x': 'country'})"
   ]
  },
  {
   "cell_type": "code",
   "execution_count": 15,
   "metadata": {},
   "outputs": [
    {
     "name": "stdout",
     "output_type": "stream",
     "text": [
      "<class 'pandas.core.frame.DataFrame'>\n",
      "Int64Index: 118 entries, 0 to 117\n",
      "Data columns (total 21 columns):\n",
      "globalCode         118 non-null int64\n",
      "globalName         118 non-null object\n",
      "regionCode         118 non-null int64\n",
      "regionName         118 non-null object\n",
      "subRegionCode      118 non-null int64\n",
      "subRegionName      118 non-null object\n",
      "interRegionCode    38 non-null float64\n",
      "interRegionName    36 non-null object\n",
      "country            118 non-null object\n",
      "m49                118 non-null int64\n",
      "code               118 non-null object\n",
      "ldc                17 non-null float64\n",
      "lldc               15 non-null float64\n",
      "sids               7 non-null float64\n",
      "development        118 non-null object\n",
      "pdi                102 non-null float64\n",
      "idv                102 non-null float64\n",
      "mas                102 non-null float64\n",
      "uai                102 non-null float64\n",
      "ltowvs             97 non-null float64\n",
      "ivr                95 non-null float64\n",
      "dtypes: float64(10), int64(4), object(7)\n",
      "memory usage: 20.3+ KB\n"
     ]
    }
   ],
   "source": [
    "countries.info()"
   ]
  },
  {
   "cell_type": "code",
   "execution_count": 16,
   "metadata": {},
   "outputs": [],
   "source": [
    "# Export CSV\n",
    "countries.to_csv('countries.csv')  "
   ]
  },
  {
   "cell_type": "code",
   "execution_count": 17,
   "metadata": {},
   "outputs": [],
   "source": [
    "# Create multiindex using unsd naming conventions\n",
    "#countries = countries.set_index(['globalName','regionName','subRegionName','code'])"
   ]
  },
  {
   "cell_type": "code",
   "execution_count": 18,
   "metadata": {},
   "outputs": [
    {
     "data": {
      "text/html": [
       "<div>\n",
       "<style scoped>\n",
       "    .dataframe tbody tr th:only-of-type {\n",
       "        vertical-align: middle;\n",
       "    }\n",
       "\n",
       "    .dataframe tbody tr th {\n",
       "        vertical-align: top;\n",
       "    }\n",
       "\n",
       "    .dataframe thead th {\n",
       "        text-align: right;\n",
       "    }\n",
       "</style>\n",
       "<table border=\"1\" class=\"dataframe\">\n",
       "  <thead>\n",
       "    <tr style=\"text-align: right;\">\n",
       "      <th></th>\n",
       "      <th>globalCode</th>\n",
       "      <th>globalName</th>\n",
       "      <th>regionCode</th>\n",
       "      <th>regionName</th>\n",
       "      <th>subRegionCode</th>\n",
       "      <th>subRegionName</th>\n",
       "      <th>interRegionCode</th>\n",
       "      <th>interRegionName</th>\n",
       "      <th>country</th>\n",
       "      <th>m49</th>\n",
       "      <th>...</th>\n",
       "      <th>ldc</th>\n",
       "      <th>lldc</th>\n",
       "      <th>sids</th>\n",
       "      <th>development</th>\n",
       "      <th>pdi</th>\n",
       "      <th>idv</th>\n",
       "      <th>mas</th>\n",
       "      <th>uai</th>\n",
       "      <th>ltowvs</th>\n",
       "      <th>ivr</th>\n",
       "    </tr>\n",
       "  </thead>\n",
       "  <tbody>\n",
       "    <tr>\n",
       "      <th>0</th>\n",
       "      <td>1</td>\n",
       "      <td>World</td>\n",
       "      <td>150</td>\n",
       "      <td>Europe</td>\n",
       "      <td>39</td>\n",
       "      <td>Southern Europe</td>\n",
       "      <td>NaN</td>\n",
       "      <td>NaN</td>\n",
       "      <td>Albania</td>\n",
       "      <td>8</td>\n",
       "      <td>...</td>\n",
       "      <td>NaN</td>\n",
       "      <td>NaN</td>\n",
       "      <td>NaN</td>\n",
       "      <td>Developed</td>\n",
       "      <td>90.0</td>\n",
       "      <td>20.0</td>\n",
       "      <td>80.0</td>\n",
       "      <td>70.0</td>\n",
       "      <td>61.0</td>\n",
       "      <td>15.0</td>\n",
       "    </tr>\n",
       "    <tr>\n",
       "      <th>1</th>\n",
       "      <td>1</td>\n",
       "      <td>World</td>\n",
       "      <td>2</td>\n",
       "      <td>Africa</td>\n",
       "      <td>15</td>\n",
       "      <td>Northern Africa</td>\n",
       "      <td>NaN</td>\n",
       "      <td>NaN</td>\n",
       "      <td>Algeria</td>\n",
       "      <td>12</td>\n",
       "      <td>...</td>\n",
       "      <td>NaN</td>\n",
       "      <td>NaN</td>\n",
       "      <td>NaN</td>\n",
       "      <td>Developing</td>\n",
       "      <td>NaN</td>\n",
       "      <td>NaN</td>\n",
       "      <td>NaN</td>\n",
       "      <td>NaN</td>\n",
       "      <td>26.0</td>\n",
       "      <td>32.0</td>\n",
       "    </tr>\n",
       "    <tr>\n",
       "      <th>2</th>\n",
       "      <td>1</td>\n",
       "      <td>World</td>\n",
       "      <td>150</td>\n",
       "      <td>Europe</td>\n",
       "      <td>39</td>\n",
       "      <td>Southern Europe</td>\n",
       "      <td>NaN</td>\n",
       "      <td>NaN</td>\n",
       "      <td>Andorra</td>\n",
       "      <td>20</td>\n",
       "      <td>...</td>\n",
       "      <td>NaN</td>\n",
       "      <td>NaN</td>\n",
       "      <td>NaN</td>\n",
       "      <td>Developed</td>\n",
       "      <td>NaN</td>\n",
       "      <td>NaN</td>\n",
       "      <td>NaN</td>\n",
       "      <td>NaN</td>\n",
       "      <td>NaN</td>\n",
       "      <td>65.0</td>\n",
       "    </tr>\n",
       "    <tr>\n",
       "      <th>3</th>\n",
       "      <td>1</td>\n",
       "      <td>World</td>\n",
       "      <td>2</td>\n",
       "      <td>Africa</td>\n",
       "      <td>202</td>\n",
       "      <td>Sub-Saharan Africa</td>\n",
       "      <td>17.0</td>\n",
       "      <td>Middle Africa</td>\n",
       "      <td>Angola</td>\n",
       "      <td>24</td>\n",
       "      <td>...</td>\n",
       "      <td>1.0</td>\n",
       "      <td>NaN</td>\n",
       "      <td>NaN</td>\n",
       "      <td>Developing</td>\n",
       "      <td>83.0</td>\n",
       "      <td>18.0</td>\n",
       "      <td>20.0</td>\n",
       "      <td>60.0</td>\n",
       "      <td>15.0</td>\n",
       "      <td>83.0</td>\n",
       "    </tr>\n",
       "    <tr>\n",
       "      <th>4</th>\n",
       "      <td>1</td>\n",
       "      <td>World</td>\n",
       "      <td>19</td>\n",
       "      <td>Americas</td>\n",
       "      <td>419</td>\n",
       "      <td>Latin America and the Caribbean</td>\n",
       "      <td>5.0</td>\n",
       "      <td>South America</td>\n",
       "      <td>Argentina</td>\n",
       "      <td>32</td>\n",
       "      <td>...</td>\n",
       "      <td>NaN</td>\n",
       "      <td>NaN</td>\n",
       "      <td>NaN</td>\n",
       "      <td>Developing</td>\n",
       "      <td>49.0</td>\n",
       "      <td>46.0</td>\n",
       "      <td>56.0</td>\n",
       "      <td>86.0</td>\n",
       "      <td>20.0</td>\n",
       "      <td>62.0</td>\n",
       "    </tr>\n",
       "  </tbody>\n",
       "</table>\n",
       "<p>5 rows × 21 columns</p>\n",
       "</div>"
      ],
      "text/plain": [
       "   globalCode globalName  regionCode regionName  subRegionCode  \\\n",
       "0           1      World         150     Europe             39   \n",
       "1           1      World           2     Africa             15   \n",
       "2           1      World         150     Europe             39   \n",
       "3           1      World           2     Africa            202   \n",
       "4           1      World          19   Americas            419   \n",
       "\n",
       "                     subRegionName  interRegionCode interRegionName  \\\n",
       "0                  Southern Europe              NaN             NaN   \n",
       "1                  Northern Africa              NaN             NaN   \n",
       "2                  Southern Europe              NaN             NaN   \n",
       "3               Sub-Saharan Africa             17.0   Middle Africa   \n",
       "4  Latin America and the Caribbean              5.0   South America   \n",
       "\n",
       "     country  m49  ...  ldc  lldc  sids  development   pdi   idv   mas   uai  \\\n",
       "0    Albania    8  ...  NaN   NaN   NaN    Developed  90.0  20.0  80.0  70.0   \n",
       "1    Algeria   12  ...  NaN   NaN   NaN   Developing   NaN   NaN   NaN   NaN   \n",
       "2    Andorra   20  ...  NaN   NaN   NaN    Developed   NaN   NaN   NaN   NaN   \n",
       "3     Angola   24  ...  1.0   NaN   NaN   Developing  83.0  18.0  20.0  60.0   \n",
       "4  Argentina   32  ...  NaN   NaN   NaN   Developing  49.0  46.0  56.0  86.0   \n",
       "\n",
       "   ltowvs   ivr  \n",
       "0    61.0  15.0  \n",
       "1    26.0  32.0  \n",
       "2     NaN  65.0  \n",
       "3    15.0  83.0  \n",
       "4    20.0  62.0  \n",
       "\n",
       "[5 rows x 21 columns]"
      ]
     },
     "execution_count": 18,
     "metadata": {},
     "output_type": "execute_result"
    }
   ],
   "source": [
    "countries.head()"
   ]
  },
  {
   "cell_type": "code",
   "execution_count": null,
   "metadata": {},
   "outputs": [],
   "source": []
  },
  {
   "cell_type": "markdown",
   "metadata": {},
   "source": [
    "# Create 'covid' dataframe with timeseries & confirmed cases"
   ]
  },
  {
   "cell_type": "code",
   "execution_count": 19,
   "metadata": {},
   "outputs": [
    {
     "data": {
      "text/plain": [
       "Index(['Entity', 'Code', 'Date', ' (cases)',\n",
       "       'Number of days since the 100th confirmed case (days)'],\n",
       "      dtype='object')"
      ]
     },
     "execution_count": 19,
     "metadata": {},
     "output_type": "execute_result"
    }
   ],
   "source": [
    "covid_data.columns"
   ]
  },
  {
   "cell_type": "code",
   "execution_count": 20,
   "metadata": {},
   "outputs": [
    {
     "data": {
      "text/html": [
       "<div>\n",
       "<style scoped>\n",
       "    .dataframe tbody tr th:only-of-type {\n",
       "        vertical-align: middle;\n",
       "    }\n",
       "\n",
       "    .dataframe tbody tr th {\n",
       "        vertical-align: top;\n",
       "    }\n",
       "\n",
       "    .dataframe thead th {\n",
       "        text-align: right;\n",
       "    }\n",
       "</style>\n",
       "<table border=\"1\" class=\"dataframe\">\n",
       "  <thead>\n",
       "    <tr style=\"text-align: right;\">\n",
       "      <th></th>\n",
       "      <th>Entity</th>\n",
       "      <th>Code</th>\n",
       "      <th>Date</th>\n",
       "      <th>(cases)</th>\n",
       "      <th>Number of days since the 100th confirmed case (days)</th>\n",
       "    </tr>\n",
       "  </thead>\n",
       "  <tbody>\n",
       "    <tr>\n",
       "      <th>0</th>\n",
       "      <td>Afghanistan</td>\n",
       "      <td>AFG</td>\n",
       "      <td>2019-12-31</td>\n",
       "      <td>0.0</td>\n",
       "      <td>NaN</td>\n",
       "    </tr>\n",
       "    <tr>\n",
       "      <th>1</th>\n",
       "      <td>Afghanistan</td>\n",
       "      <td>AFG</td>\n",
       "      <td>2020-01-01</td>\n",
       "      <td>0.0</td>\n",
       "      <td>NaN</td>\n",
       "    </tr>\n",
       "    <tr>\n",
       "      <th>2</th>\n",
       "      <td>Afghanistan</td>\n",
       "      <td>AFG</td>\n",
       "      <td>2020-01-02</td>\n",
       "      <td>0.0</td>\n",
       "      <td>NaN</td>\n",
       "    </tr>\n",
       "    <tr>\n",
       "      <th>3</th>\n",
       "      <td>Afghanistan</td>\n",
       "      <td>AFG</td>\n",
       "      <td>2020-01-03</td>\n",
       "      <td>0.0</td>\n",
       "      <td>NaN</td>\n",
       "    </tr>\n",
       "    <tr>\n",
       "      <th>4</th>\n",
       "      <td>Afghanistan</td>\n",
       "      <td>AFG</td>\n",
       "      <td>2020-01-04</td>\n",
       "      <td>0.0</td>\n",
       "      <td>NaN</td>\n",
       "    </tr>\n",
       "  </tbody>\n",
       "</table>\n",
       "</div>"
      ],
      "text/plain": [
       "        Entity Code       Date   (cases)  \\\n",
       "0  Afghanistan  AFG 2019-12-31       0.0   \n",
       "1  Afghanistan  AFG 2020-01-01       0.0   \n",
       "2  Afghanistan  AFG 2020-01-02       0.0   \n",
       "3  Afghanistan  AFG 2020-01-03       0.0   \n",
       "4  Afghanistan  AFG 2020-01-04       0.0   \n",
       "\n",
       "   Number of days since the 100th confirmed case (days)  \n",
       "0                                                NaN     \n",
       "1                                                NaN     \n",
       "2                                                NaN     \n",
       "3                                                NaN     \n",
       "4                                                NaN     "
      ]
     },
     "execution_count": 20,
     "metadata": {},
     "output_type": "execute_result"
    }
   ],
   "source": [
    "covid_data.head()"
   ]
  },
  {
   "cell_type": "code",
   "execution_count": 21,
   "metadata": {},
   "outputs": [],
   "source": [
    "#Format columns\n",
    "covid = covid_data.rename(columns={'Entity': \"country\",\n",
    "                              'Code' : \"code\",\n",
    "                              'Date': \"date\",\n",
    "                              ' (cases)' : \"cases\",\n",
    "                              'Number of days since the 100th confirmed case (days)':\"daysGT100\"\n",
    "                                         })\n",
    "covid = covid[['code','country','date','cases','daysGT100']]"
   ]
  },
  {
   "cell_type": "code",
   "execution_count": 22,
   "metadata": {},
   "outputs": [
    {
     "name": "stdout",
     "output_type": "stream",
     "text": [
      "<class 'pandas.core.frame.DataFrame'>\n",
      "RangeIndex: 12768 entries, 0 to 12767\n",
      "Data columns (total 5 columns):\n",
      "code         11092 non-null object\n",
      "country      12768 non-null object\n",
      "date         12768 non-null datetime64[ns]\n",
      "cases        12761 non-null float64\n",
      "daysGT100    4459 non-null float64\n",
      "dtypes: datetime64[ns](1), float64(2), object(2)\n",
      "memory usage: 498.8+ KB\n"
     ]
    }
   ],
   "source": [
    "covid.info()"
   ]
  },
  {
   "cell_type": "code",
   "execution_count": 23,
   "metadata": {},
   "outputs": [
    {
     "data": {
      "text/html": [
       "<div>\n",
       "<style scoped>\n",
       "    .dataframe tbody tr th:only-of-type {\n",
       "        vertical-align: middle;\n",
       "    }\n",
       "\n",
       "    .dataframe tbody tr th {\n",
       "        vertical-align: top;\n",
       "    }\n",
       "\n",
       "    .dataframe thead th {\n",
       "        text-align: right;\n",
       "    }\n",
       "</style>\n",
       "<table border=\"1\" class=\"dataframe\">\n",
       "  <thead>\n",
       "    <tr style=\"text-align: right;\">\n",
       "      <th></th>\n",
       "      <th>code</th>\n",
       "      <th>country</th>\n",
       "      <th>date</th>\n",
       "      <th>cases</th>\n",
       "      <th>daysGT100</th>\n",
       "    </tr>\n",
       "  </thead>\n",
       "  <tbody>\n",
       "    <tr>\n",
       "      <th>0</th>\n",
       "      <td>AFG</td>\n",
       "      <td>Afghanistan</td>\n",
       "      <td>2019-12-31</td>\n",
       "      <td>0.0</td>\n",
       "      <td>NaN</td>\n",
       "    </tr>\n",
       "    <tr>\n",
       "      <th>1</th>\n",
       "      <td>AFG</td>\n",
       "      <td>Afghanistan</td>\n",
       "      <td>2020-01-01</td>\n",
       "      <td>0.0</td>\n",
       "      <td>NaN</td>\n",
       "    </tr>\n",
       "    <tr>\n",
       "      <th>2</th>\n",
       "      <td>AFG</td>\n",
       "      <td>Afghanistan</td>\n",
       "      <td>2020-01-02</td>\n",
       "      <td>0.0</td>\n",
       "      <td>NaN</td>\n",
       "    </tr>\n",
       "    <tr>\n",
       "      <th>3</th>\n",
       "      <td>AFG</td>\n",
       "      <td>Afghanistan</td>\n",
       "      <td>2020-01-03</td>\n",
       "      <td>0.0</td>\n",
       "      <td>NaN</td>\n",
       "    </tr>\n",
       "    <tr>\n",
       "      <th>4</th>\n",
       "      <td>AFG</td>\n",
       "      <td>Afghanistan</td>\n",
       "      <td>2020-01-04</td>\n",
       "      <td>0.0</td>\n",
       "      <td>NaN</td>\n",
       "    </tr>\n",
       "  </tbody>\n",
       "</table>\n",
       "</div>"
      ],
      "text/plain": [
       "  code      country       date  cases  daysGT100\n",
       "0  AFG  Afghanistan 2019-12-31    0.0        NaN\n",
       "1  AFG  Afghanistan 2020-01-01    0.0        NaN\n",
       "2  AFG  Afghanistan 2020-01-02    0.0        NaN\n",
       "3  AFG  Afghanistan 2020-01-03    0.0        NaN\n",
       "4  AFG  Afghanistan 2020-01-04    0.0        NaN"
      ]
     },
     "execution_count": 23,
     "metadata": {},
     "output_type": "execute_result"
    }
   ],
   "source": [
    "covid.head()"
   ]
  },
  {
   "cell_type": "code",
   "execution_count": 24,
   "metadata": {},
   "outputs": [],
   "source": [
    "covidGT100 = covid[covid['daysGT100'] >= 0]\n",
    "covidGT100.dropna(subset=['code'],inplace=True)"
   ]
  },
  {
   "cell_type": "code",
   "execution_count": 25,
   "metadata": {},
   "outputs": [],
   "source": [
    "covidGT100['logCases'] = np.log(covidGT100['cases'])"
   ]
  },
  {
   "cell_type": "code",
   "execution_count": 26,
   "metadata": {},
   "outputs": [],
   "source": [
    "covidGT100.to_csv('covidGT100.csv')"
   ]
  },
  {
   "cell_type": "code",
   "execution_count": 27,
   "metadata": {},
   "outputs": [
    {
     "data": {
      "text/html": [
       "<div>\n",
       "<style scoped>\n",
       "    .dataframe tbody tr th:only-of-type {\n",
       "        vertical-align: middle;\n",
       "    }\n",
       "\n",
       "    .dataframe tbody tr th {\n",
       "        vertical-align: top;\n",
       "    }\n",
       "\n",
       "    .dataframe thead th {\n",
       "        text-align: right;\n",
       "    }\n",
       "</style>\n",
       "<table border=\"1\" class=\"dataframe\">\n",
       "  <thead>\n",
       "    <tr style=\"text-align: right;\">\n",
       "      <th></th>\n",
       "      <th>code</th>\n",
       "      <th>country</th>\n",
       "      <th>date</th>\n",
       "      <th>cases</th>\n",
       "      <th>daysGT100</th>\n",
       "      <th>logCases</th>\n",
       "    </tr>\n",
       "  </thead>\n",
       "  <tbody>\n",
       "    <tr>\n",
       "      <th>79</th>\n",
       "      <td>AFG</td>\n",
       "      <td>Afghanistan</td>\n",
       "      <td>2020-03-29</td>\n",
       "      <td>106.0</td>\n",
       "      <td>0.0</td>\n",
       "      <td>4.663439</td>\n",
       "    </tr>\n",
       "    <tr>\n",
       "      <th>80</th>\n",
       "      <td>AFG</td>\n",
       "      <td>Afghanistan</td>\n",
       "      <td>2020-03-30</td>\n",
       "      <td>114.0</td>\n",
       "      <td>1.0</td>\n",
       "      <td>4.736198</td>\n",
       "    </tr>\n",
       "    <tr>\n",
       "      <th>81</th>\n",
       "      <td>AFG</td>\n",
       "      <td>Afghanistan</td>\n",
       "      <td>2020-03-31</td>\n",
       "      <td>141.0</td>\n",
       "      <td>2.0</td>\n",
       "      <td>4.948760</td>\n",
       "    </tr>\n",
       "    <tr>\n",
       "      <th>82</th>\n",
       "      <td>AFG</td>\n",
       "      <td>Afghanistan</td>\n",
       "      <td>2020-04-01</td>\n",
       "      <td>166.0</td>\n",
       "      <td>3.0</td>\n",
       "      <td>5.111988</td>\n",
       "    </tr>\n",
       "    <tr>\n",
       "      <th>83</th>\n",
       "      <td>AFG</td>\n",
       "      <td>Afghanistan</td>\n",
       "      <td>2020-04-02</td>\n",
       "      <td>192.0</td>\n",
       "      <td>4.0</td>\n",
       "      <td>5.257495</td>\n",
       "    </tr>\n",
       "  </tbody>\n",
       "</table>\n",
       "</div>"
      ],
      "text/plain": [
       "   code      country       date  cases  daysGT100  logCases\n",
       "79  AFG  Afghanistan 2020-03-29  106.0        0.0  4.663439\n",
       "80  AFG  Afghanistan 2020-03-30  114.0        1.0  4.736198\n",
       "81  AFG  Afghanistan 2020-03-31  141.0        2.0  4.948760\n",
       "82  AFG  Afghanistan 2020-04-01  166.0        3.0  5.111988\n",
       "83  AFG  Afghanistan 2020-04-02  192.0        4.0  5.257495"
      ]
     },
     "execution_count": 27,
     "metadata": {},
     "output_type": "execute_result"
    }
   ],
   "source": [
    "covidGT100.head()"
   ]
  },
  {
   "cell_type": "code",
   "execution_count": 29,
   "metadata": {},
   "outputs": [
    {
     "data": {
      "text/html": [
       "<div>\n",
       "<style scoped>\n",
       "    .dataframe tbody tr th:only-of-type {\n",
       "        vertical-align: middle;\n",
       "    }\n",
       "\n",
       "    .dataframe tbody tr th {\n",
       "        vertical-align: top;\n",
       "    }\n",
       "\n",
       "    .dataframe thead th {\n",
       "        text-align: right;\n",
       "    }\n",
       "</style>\n",
       "<table border=\"1\" class=\"dataframe\">\n",
       "  <thead>\n",
       "    <tr style=\"text-align: right;\">\n",
       "      <th></th>\n",
       "      <th>code</th>\n",
       "      <th>country</th>\n",
       "      <th>pdi</th>\n",
       "      <th>idv</th>\n",
       "      <th>mas</th>\n",
       "      <th>uai</th>\n",
       "      <th>ltowvs</th>\n",
       "      <th>ivr</th>\n",
       "    </tr>\n",
       "  </thead>\n",
       "  <tbody>\n",
       "    <tr>\n",
       "      <th>0</th>\n",
       "      <td>GTM</td>\n",
       "      <td>Guatemala</td>\n",
       "      <td>95.0</td>\n",
       "      <td>6.0</td>\n",
       "      <td>37.0</td>\n",
       "      <td>101.0</td>\n",
       "      <td>NaN</td>\n",
       "      <td>NaN</td>\n",
       "    </tr>\n",
       "    <tr>\n",
       "      <th>1</th>\n",
       "      <td>ECU</td>\n",
       "      <td>Ecuador</td>\n",
       "      <td>78.0</td>\n",
       "      <td>8.0</td>\n",
       "      <td>63.0</td>\n",
       "      <td>67.0</td>\n",
       "      <td>NaN</td>\n",
       "      <td>NaN</td>\n",
       "    </tr>\n",
       "    <tr>\n",
       "      <th>2</th>\n",
       "      <td>PAN</td>\n",
       "      <td>Panama</td>\n",
       "      <td>95.0</td>\n",
       "      <td>11.0</td>\n",
       "      <td>44.0</td>\n",
       "      <td>86.0</td>\n",
       "      <td>NaN</td>\n",
       "      <td>NaN</td>\n",
       "    </tr>\n",
       "    <tr>\n",
       "      <th>3</th>\n",
       "      <td>VEN</td>\n",
       "      <td>Venezuela</td>\n",
       "      <td>81.0</td>\n",
       "      <td>12.0</td>\n",
       "      <td>73.0</td>\n",
       "      <td>76.0</td>\n",
       "      <td>16.0</td>\n",
       "      <td>100.0</td>\n",
       "    </tr>\n",
       "    <tr>\n",
       "      <th>4</th>\n",
       "      <td>COL</td>\n",
       "      <td>Colombia</td>\n",
       "      <td>67.0</td>\n",
       "      <td>13.0</td>\n",
       "      <td>64.0</td>\n",
       "      <td>80.0</td>\n",
       "      <td>13.0</td>\n",
       "      <td>83.0</td>\n",
       "    </tr>\n",
       "  </tbody>\n",
       "</table>\n",
       "</div>"
      ],
      "text/plain": [
       "  code    country   pdi   idv   mas    uai  ltowvs    ivr\n",
       "0  GTM  Guatemala  95.0   6.0  37.0  101.0     NaN    NaN\n",
       "1  ECU    Ecuador  78.0   8.0  63.0   67.0     NaN    NaN\n",
       "2  PAN     Panama  95.0  11.0  44.0   86.0     NaN    NaN\n",
       "3  VEN  Venezuela  81.0  12.0  73.0   76.0    16.0  100.0\n",
       "4  COL   Colombia  67.0  13.0  64.0   80.0    13.0   83.0"
      ]
     },
     "execution_count": 29,
     "metadata": {},
     "output_type": "execute_result"
    }
   ],
   "source": [
    "hoefstede.head()"
   ]
  },
  {
   "cell_type": "code",
   "execution_count": 30,
   "metadata": {},
   "outputs": [
    {
     "ename": "KeyError",
     "evalue": "'code'",
     "output_type": "error",
     "traceback": [
      "\u001b[1;31m---------------------------------------------------------------------------\u001b[0m",
      "\u001b[1;31mKeyError\u001b[0m                                  Traceback (most recent call last)",
      "\u001b[1;32m<ipython-input-30-a92cdfa08c2d>\u001b[0m in \u001b[0;36m<module>\u001b[1;34m\u001b[0m\n\u001b[0;32m      1\u001b[0m \u001b[1;31m# Merge data\u001b[0m\u001b[1;33m\u001b[0m\u001b[1;33m\u001b[0m\u001b[1;33m\u001b[0m\u001b[0m\n\u001b[1;32m----> 2\u001b[1;33m \u001b[0mcovidGT100Hoef\u001b[0m \u001b[1;33m=\u001b[0m \u001b[0mpd\u001b[0m\u001b[1;33m.\u001b[0m\u001b[0mmerge\u001b[0m\u001b[1;33m(\u001b[0m\u001b[0mcovidGT100\u001b[0m\u001b[1;33m,\u001b[0m \u001b[0murban_rural_population\u001b[0m\u001b[1;33m,\u001b[0m \u001b[0mon\u001b[0m\u001b[1;33m=\u001b[0m\u001b[1;33m[\u001b[0m\u001b[1;34m\"code\"\u001b[0m\u001b[1;33m]\u001b[0m\u001b[1;33m)\u001b[0m\u001b[1;33m\u001b[0m\u001b[1;33m\u001b[0m\u001b[0m\n\u001b[0m\u001b[0;32m      3\u001b[0m \u001b[0mcovidGT100Hoef\u001b[0m\u001b[1;33m.\u001b[0m\u001b[0mshape\u001b[0m\u001b[1;33m\u001b[0m\u001b[1;33m\u001b[0m\u001b[0m\n",
      "\u001b[1;32mC:\\ProgramData\\Anaconda3\\lib\\site-packages\\pandas\\core\\reshape\\merge.py\u001b[0m in \u001b[0;36mmerge\u001b[1;34m(left, right, how, on, left_on, right_on, left_index, right_index, sort, suffixes, copy, indicator, validate)\u001b[0m\n\u001b[0;32m     45\u001b[0m                          \u001b[0mright_index\u001b[0m\u001b[1;33m=\u001b[0m\u001b[0mright_index\u001b[0m\u001b[1;33m,\u001b[0m \u001b[0msort\u001b[0m\u001b[1;33m=\u001b[0m\u001b[0msort\u001b[0m\u001b[1;33m,\u001b[0m \u001b[0msuffixes\u001b[0m\u001b[1;33m=\u001b[0m\u001b[0msuffixes\u001b[0m\u001b[1;33m,\u001b[0m\u001b[1;33m\u001b[0m\u001b[1;33m\u001b[0m\u001b[0m\n\u001b[0;32m     46\u001b[0m                          \u001b[0mcopy\u001b[0m\u001b[1;33m=\u001b[0m\u001b[0mcopy\u001b[0m\u001b[1;33m,\u001b[0m \u001b[0mindicator\u001b[0m\u001b[1;33m=\u001b[0m\u001b[0mindicator\u001b[0m\u001b[1;33m,\u001b[0m\u001b[1;33m\u001b[0m\u001b[1;33m\u001b[0m\u001b[0m\n\u001b[1;32m---> 47\u001b[1;33m                          validate=validate)\n\u001b[0m\u001b[0;32m     48\u001b[0m     \u001b[1;32mreturn\u001b[0m \u001b[0mop\u001b[0m\u001b[1;33m.\u001b[0m\u001b[0mget_result\u001b[0m\u001b[1;33m(\u001b[0m\u001b[1;33m)\u001b[0m\u001b[1;33m\u001b[0m\u001b[1;33m\u001b[0m\u001b[0m\n\u001b[0;32m     49\u001b[0m \u001b[1;33m\u001b[0m\u001b[0m\n",
      "\u001b[1;32mC:\\ProgramData\\Anaconda3\\lib\\site-packages\\pandas\\core\\reshape\\merge.py\u001b[0m in \u001b[0;36m__init__\u001b[1;34m(self, left, right, how, on, left_on, right_on, axis, left_index, right_index, sort, suffixes, copy, indicator, validate)\u001b[0m\n\u001b[0;32m    527\u001b[0m         (self.left_join_keys,\n\u001b[0;32m    528\u001b[0m          \u001b[0mself\u001b[0m\u001b[1;33m.\u001b[0m\u001b[0mright_join_keys\u001b[0m\u001b[1;33m,\u001b[0m\u001b[1;33m\u001b[0m\u001b[1;33m\u001b[0m\u001b[0m\n\u001b[1;32m--> 529\u001b[1;33m          self.join_names) = self._get_merge_keys()\n\u001b[0m\u001b[0;32m    530\u001b[0m \u001b[1;33m\u001b[0m\u001b[0m\n\u001b[0;32m    531\u001b[0m         \u001b[1;31m# validate the merge keys dtypes. We may need to coerce\u001b[0m\u001b[1;33m\u001b[0m\u001b[1;33m\u001b[0m\u001b[1;33m\u001b[0m\u001b[0m\n",
      "\u001b[1;32mC:\\ProgramData\\Anaconda3\\lib\\site-packages\\pandas\\core\\reshape\\merge.py\u001b[0m in \u001b[0;36m_get_merge_keys\u001b[1;34m(self)\u001b[0m\n\u001b[0;32m    831\u001b[0m                         \u001b[1;32mif\u001b[0m \u001b[0mrk\u001b[0m \u001b[1;32mis\u001b[0m \u001b[1;32mnot\u001b[0m \u001b[1;32mNone\u001b[0m\u001b[1;33m:\u001b[0m\u001b[1;33m\u001b[0m\u001b[1;33m\u001b[0m\u001b[0m\n\u001b[0;32m    832\u001b[0m                             right_keys.append(\n\u001b[1;32m--> 833\u001b[1;33m                                 right._get_label_or_level_values(rk))\n\u001b[0m\u001b[0;32m    834\u001b[0m                         \u001b[1;32melse\u001b[0m\u001b[1;33m:\u001b[0m\u001b[1;33m\u001b[0m\u001b[1;33m\u001b[0m\u001b[0m\n\u001b[0;32m    835\u001b[0m                             \u001b[1;31m# work-around for merge_asof(right_index=True)\u001b[0m\u001b[1;33m\u001b[0m\u001b[1;33m\u001b[0m\u001b[1;33m\u001b[0m\u001b[0m\n",
      "\u001b[1;32mC:\\ProgramData\\Anaconda3\\lib\\site-packages\\pandas\\core\\generic.py\u001b[0m in \u001b[0;36m_get_label_or_level_values\u001b[1;34m(self, key, axis)\u001b[0m\n\u001b[0;32m   1704\u001b[0m             \u001b[0mvalues\u001b[0m \u001b[1;33m=\u001b[0m \u001b[0mself\u001b[0m\u001b[1;33m.\u001b[0m\u001b[0maxes\u001b[0m\u001b[1;33m[\u001b[0m\u001b[0maxis\u001b[0m\u001b[1;33m]\u001b[0m\u001b[1;33m.\u001b[0m\u001b[0mget_level_values\u001b[0m\u001b[1;33m(\u001b[0m\u001b[0mkey\u001b[0m\u001b[1;33m)\u001b[0m\u001b[1;33m.\u001b[0m\u001b[0m_values\u001b[0m\u001b[1;33m\u001b[0m\u001b[1;33m\u001b[0m\u001b[0m\n\u001b[0;32m   1705\u001b[0m         \u001b[1;32melse\u001b[0m\u001b[1;33m:\u001b[0m\u001b[1;33m\u001b[0m\u001b[1;33m\u001b[0m\u001b[0m\n\u001b[1;32m-> 1706\u001b[1;33m             \u001b[1;32mraise\u001b[0m \u001b[0mKeyError\u001b[0m\u001b[1;33m(\u001b[0m\u001b[0mkey\u001b[0m\u001b[1;33m)\u001b[0m\u001b[1;33m\u001b[0m\u001b[1;33m\u001b[0m\u001b[0m\n\u001b[0m\u001b[0;32m   1707\u001b[0m \u001b[1;33m\u001b[0m\u001b[0m\n\u001b[0;32m   1708\u001b[0m         \u001b[1;31m# Check for duplicates\u001b[0m\u001b[1;33m\u001b[0m\u001b[1;33m\u001b[0m\u001b[1;33m\u001b[0m\u001b[0m\n",
      "\u001b[1;31mKeyError\u001b[0m: 'code'"
     ]
    }
   ],
   "source": [
    "# Merge data\n",
    "covidGT100Hoef = pd.merge(covidGT100, urban_rural_population, on=[\"code\"])\n",
    "covidGT100Hoef.shape"
   ]
  },
  {
   "cell_type": "code",
   "execution_count": null,
   "metadata": {},
   "outputs": [],
   "source": [
    "density_vs_prosperity.shape"
   ]
  },
  {
   "cell_type": "code",
   "execution_count": null,
   "metadata": {},
   "outputs": [],
   "source": [
    "density_vs_prosperity.dropna(subset=['Code'],inplace=True)\n",
    "density_vs_prosperity.shape"
   ]
  },
  {
   "cell_type": "code",
   "execution_count": null,
   "metadata": {},
   "outputs": [],
   "source": [
    "urban_rural_population.dropna(subset=['Code'],inplace=True)\n",
    "urban_rural_population.shape"
   ]
  },
  {
   "cell_type": "code",
   "execution_count": null,
   "metadata": {},
   "outputs": [],
   "source": [
    "urban_vs_rural_majority.dropna(subset=['Code'],inplace=True)\n",
    "urban_vs_rural_majority.shape"
   ]
  },
  {
   "cell_type": "code",
   "execution_count": null,
   "metadata": {},
   "outputs": [],
   "source": [
    "life_expectancy.dropna(subset=['Code'],inplace=True)\n",
    "life_expectancy.shape"
   ]
  },
  {
   "cell_type": "code",
   "execution_count": null,
   "metadata": {},
   "outputs": [],
   "source": [
    "median_age.dropna(subset=['Code'],inplace=True)\n",
    "median_age.shape"
   ]
  },
  {
   "cell_type": "code",
   "execution_count": null,
   "metadata": {},
   "outputs": [],
   "source": [
    "covid_data.shape"
   ]
  },
  {
   "cell_type": "markdown",
   "metadata": {},
   "source": [
    "# Create Worldometer dataframe"
   ]
  },
  {
   "cell_type": "code",
   "execution_count": null,
   "metadata": {},
   "outputs": [],
   "source": [
    "wom.head()"
   ]
  },
  {
   "cell_type": "code",
   "execution_count": null,
   "metadata": {},
   "outputs": [],
   "source": []
  },
  {
   "cell_type": "code",
   "execution_count": null,
   "metadata": {},
   "outputs": [],
   "source": []
  },
  {
   "cell_type": "code",
   "execution_count": null,
   "metadata": {},
   "outputs": [],
   "source": [
    "# Merge data\n",
    "merged_data = pd.merge(density_vs_prosperity, urban_rural_population, on=[\"Entity\",\"Code\", \"Year\"])\n",
    "merged_data.shape"
   ]
  },
  {
   "cell_type": "code",
   "execution_count": null,
   "metadata": {},
   "outputs": [],
   "source": [
    "merged_data = pd.merge(merged_data, urban_vs_rural_majority, on=[\"Entity\", \"Code\", \"Year\"])\n",
    "merged_data.shape"
   ]
  },
  {
   "cell_type": "code",
   "execution_count": null,
   "metadata": {},
   "outputs": [],
   "source": [
    "merged_data = pd.merge(merged_data, life_expectancy, on=[\"Entity\", \"Code\", \"Year\"])\n",
    "merged_data.shape"
   ]
  },
  {
   "cell_type": "code",
   "execution_count": null,
   "metadata": {},
   "outputs": [],
   "source": [
    "merged_data = pd.merge(merged_data, median_age, on=[\"Entity\", \"Code\", \"Year\"])\n",
    "merged_data.shape"
   ]
  },
  {
   "cell_type": "code",
   "execution_count": null,
   "metadata": {},
   "outputs": [],
   "source": [
    "merged_data.columns"
   ]
  },
  {
   "cell_type": "code",
   "execution_count": null,
   "metadata": {},
   "outputs": [],
   "source": [
    "#Format columns\n",
    "merged_data = merged_data.rename(columns={'Code':'code',\n",
    "                                          'Year':'date',\n",
    "                                          \"Population density (people per km² of land area)\": \"popDensity\",\n",
    "                                          \"GDP per capita (constant 2011 international $)\" : \"gdp\",\n",
    "                                         \"Total population (Gapminder)\": \"gapPop\",\n",
    "                                         \"Urban population\": \"urbanPop\",\n",
    "                                         \"Rural population\": \"ruralPop\",\n",
    "                                         \"Urban (%)\":\"urbanPct\",\n",
    "                                         \"Rural (%)\": \"ruralPct\",\n",
    "                                         \"Life expectancy at birth, total (years) (years)\":\"lifeExpectancy\",\n",
    "                                         \"UN Population Division (Median Age) (2017) (years)\":\"medianAge\"\n",
    "                                         })"
   ]
  },
  {
   "cell_type": "code",
   "execution_count": null,
   "metadata": {},
   "outputs": [],
   "source": [
    "unsd.columns"
   ]
  },
  {
   "cell_type": "code",
   "execution_count": null,
   "metadata": {},
   "outputs": [],
   "source": [
    "merged_data = pd.merge(merged_data, unsd, on=[\"code\"])\n",
    "merged_data.shape"
   ]
  },
  {
   "cell_type": "code",
   "execution_count": null,
   "metadata": {},
   "outputs": [],
   "source": [
    "wom.columns"
   ]
  },
  {
   "cell_type": "code",
   "execution_count": null,
   "metadata": {},
   "outputs": [],
   "source": []
  },
  {
   "cell_type": "code",
   "execution_count": null,
   "metadata": {},
   "outputs": [],
   "source": [
    "merged_data = pd.merge(merged_data, wom, on=[\"code\"])\n",
    "merged_data.shape"
   ]
  },
  {
   "cell_type": "code",
   "execution_count": null,
   "metadata": {},
   "outputs": [],
   "source": [
    "merged_data.head()"
   ]
  },
  {
   "cell_type": "code",
   "execution_count": null,
   "metadata": {},
   "outputs": [],
   "source": [
    "merged_data.head()"
   ]
  },
  {
   "cell_type": "code",
   "execution_count": null,
   "metadata": {},
   "outputs": [],
   "source": [
    "merged_data.columns"
   ]
  },
  {
   "cell_type": "code",
   "execution_count": null,
   "metadata": {},
   "outputs": [],
   "source": [
    "merged_data.columns"
   ]
  },
  {
   "cell_type": "code",
   "execution_count": null,
   "metadata": {},
   "outputs": [],
   "source": [
    "merged_data.head()"
   ]
  },
  {
   "cell_type": "code",
   "execution_count": null,
   "metadata": {},
   "outputs": [],
   "source": [
    "hoefstede.shape"
   ]
  },
  {
   "cell_type": "code",
   "execution_count": null,
   "metadata": {},
   "outputs": [],
   "source": [
    "covid.shape"
   ]
  },
  {
   "cell_type": "code",
   "execution_count": null,
   "metadata": {},
   "outputs": [],
   "source": [
    "merged_data = pd.merge(merged_data, hoefstede, on=[ \"code\"])\n",
    "#merged_data.head()"
   ]
  },
  {
   "cell_type": "code",
   "execution_count": null,
   "metadata": {},
   "outputs": [],
   "source": [
    "merged_data.drop(['Entity_y','date_y'], axis=1,inplace=True)"
   ]
  },
  {
   "cell_type": "code",
   "execution_count": null,
   "metadata": {},
   "outputs": [],
   "source": [
    "merged_data = merged_data.rename(columns={\"Entity_x\": \"Entity\",\n",
    "                                         \"date_x\":'date'})"
   ]
  },
  {
   "cell_type": "code",
   "execution_count": null,
   "metadata": {},
   "outputs": [],
   "source": [
    "merged_data['date'].max()"
   ]
  },
  {
   "cell_type": "code",
   "execution_count": null,
   "metadata": {},
   "outputs": [],
   "source": [
    "merged_data = merged_data[merged_data['date'] == 2015]\n",
    "#merged_data.head()"
   ]
  },
  {
   "cell_type": "code",
   "execution_count": null,
   "metadata": {},
   "outputs": [],
   "source": [
    "merged_data.columns"
   ]
  },
  {
   "cell_type": "code",
   "execution_count": null,
   "metadata": {},
   "outputs": [],
   "source": [
    "merged_data.head()"
   ]
  },
  {
   "cell_type": "code",
   "execution_count": null,
   "metadata": {},
   "outputs": [],
   "source": [
    "merged_data.columns"
   ]
  },
  {
   "cell_type": "code",
   "execution_count": null,
   "metadata": {},
   "outputs": [],
   "source": [
    "merged_data.shape"
   ]
  },
  {
   "cell_type": "code",
   "execution_count": null,
   "metadata": {},
   "outputs": [],
   "source": [
    "# Export CSV\n",
    "merged_data.to_csv('mergetest.csv')  "
   ]
  },
  {
   "cell_type": "code",
   "execution_count": null,
   "metadata": {},
   "outputs": [],
   "source": [
    "#merged_data.info()"
   ]
  },
  {
   "cell_type": "code",
   "execution_count": null,
   "metadata": {},
   "outputs": [],
   "source": [
    "covid.info()"
   ]
  },
  {
   "cell_type": "code",
   "execution_count": null,
   "metadata": {},
   "outputs": [],
   "source": [
    "merged_data = pd.merge(merged_data, covid, on=[ \"code\"])\n",
    "merged_data.columns"
   ]
  },
  {
   "cell_type": "code",
   "execution_count": null,
   "metadata": {},
   "outputs": [],
   "source": [
    "merged_data.drop(['date_x'], axis=1,inplace=True)"
   ]
  },
  {
   "cell_type": "code",
   "execution_count": null,
   "metadata": {},
   "outputs": [],
   "source": [
    "merged_data = merged_data.rename(columns={\"date_y\":'date'})"
   ]
  },
  {
   "cell_type": "code",
   "execution_count": null,
   "metadata": {},
   "outputs": [],
   "source": [
    "merged_data.columns"
   ]
  },
  {
   "cell_type": "code",
   "execution_count": null,
   "metadata": {},
   "outputs": [],
   "source": [
    "# Drop rows where days_gt_100 is null\n",
    "#merged_data = merged_data[merged_data.days_gt_100 != 0]\n",
    "merged_data.dropna(subset=['daysGT100'],inplace=True)\n",
    "merged_data.shape"
   ]
  },
  {
   "cell_type": "code",
   "execution_count": null,
   "metadata": {},
   "outputs": [],
   "source": [
    "merged_data['logCases'] = np.log(merged_data['cases'])\n",
    "merged_data['casesPop'] = (merged_data['cases']/merged_data['calcPop'])\n",
    "merged_data['logCasesPop'] = np.log(merged_data['cases']/merged_data['calcPop'])\n",
    "merged_data['logCasesMPop'] = np.log(merged_data['casesMPop'])\n",
    "# merged_data['log_cases'] = np.log(merged_data['cases'])\n",
    "# merged_data['log_cases'] = np.log(merged_data['cases'])"
   ]
  },
  {
   "cell_type": "code",
   "execution_count": null,
   "metadata": {},
   "outputs": [],
   "source": [
    "merged_data.info()"
   ]
  },
  {
   "cell_type": "code",
   "execution_count": null,
   "metadata": {},
   "outputs": [],
   "source": [
    "merged_data.columns"
   ]
  },
  {
   "cell_type": "code",
   "execution_count": null,
   "metadata": {},
   "outputs": [],
   "source": [
    "# Get rid of sparse data columns\n",
    "merged_data.drop(['globalCode','interRegionCode','ldc','lldc','sids'], axis=1,inplace=True)"
   ]
  },
  {
   "cell_type": "code",
   "execution_count": null,
   "metadata": {},
   "outputs": [],
   "source": [
    "# Export CSV\n",
    "merged_data.to_csv('merged_data_modified.csv')  "
   ]
  },
  {
   "cell_type": "code",
   "execution_count": null,
   "metadata": {},
   "outputs": [],
   "source": [
    "merged_data['date'] = pd.to_timedelta(merged_data['date']).dt.total_seconds().astype(int)\n",
    "#merged_data['Date'] = pd.to_datetime(merged_data['Date'], format='%Y-%m-%d').dt.time"
   ]
  },
  {
   "cell_type": "code",
   "execution_count": null,
   "metadata": {},
   "outputs": [],
   "source": [
    "merged_data.head()"
   ]
  },
  {
   "cell_type": "code",
   "execution_count": null,
   "metadata": {},
   "outputs": [],
   "source": [
    "\n",
    "# kip_data = merged_data.groupby('code')[['date','logCases']].apply(.expanding(lambda x: print(x.date,x.logCases))\n",
    "# kip_data.head()"
   ]
  },
  {
   "cell_type": "code",
   "execution_count": null,
   "metadata": {},
   "outputs": [],
   "source": [
    "# def make_m(x):\n",
    "#     y = merged_data['date'].iloc[0:len(x)]\n",
    "#     return np.polyfit(x, y, 1)[0]\n",
    "# def make_b(x):\n",
    "#     y = merged_data['date'].iloc[0:len(x)]\n",
    "#     return np.polyfit(x, y, 1)[1]\n",
    "# merged_data['new'] = merged_data['date'].expanding().apply(make_m, raw=True)*merged_data['date'] + merged_data['date'].expanding().apply(make_b, raw=True)"
   ]
  },
  {
   "cell_type": "code",
   "execution_count": null,
   "metadata": {},
   "outputs": [],
   "source": [
    "# merged_data.to_csv('kiptest2.csv')"
   ]
  },
  {
   "cell_type": "code",
   "execution_count": null,
   "metadata": {},
   "outputs": [],
   "source": [
    "#merged_data['kslope'] = (merged_data.groupby('code')[['date','logCases']] linregress(x.date,x.logCases)[0]\n",
    "#merged_data['kslope'] = (merged_data.groupby('code')[['date','logCases']].expanding().apply(lambda x : pd.Series(linregress(x['date'],x['logCases']))[0]))"
   ]
  },
  {
   "cell_type": "code",
   "execution_count": null,
   "metadata": {},
   "outputs": [],
   "source": []
  },
  {
   "cell_type": "code",
   "execution_count": null,
   "metadata": {},
   "outputs": [],
   "source": []
  },
  {
   "cell_type": "code",
   "execution_count": null,
   "metadata": {},
   "outputs": [],
   "source": []
  },
  {
   "cell_type": "code",
   "execution_count": null,
   "metadata": {},
   "outputs": [],
   "source": []
  },
  {
   "cell_type": "markdown",
   "metadata": {},
   "source": [
    "## Create subset of Countries that have reached 5 days > 100 cases"
   ]
  },
  {
   "cell_type": "code",
   "execution_count": null,
   "metadata": {},
   "outputs": [],
   "source": [
    "cases5 = merged_data[merged_data.groupby('code')['daysGT100'].transform(lambda x: (x == 5).sum())>0]"
   ]
  },
  {
   "cell_type": "code",
   "execution_count": null,
   "metadata": {},
   "outputs": [],
   "source": [
    "cases5 = cases5[cases5['daysGT100'] <= 5]"
   ]
  },
  {
   "cell_type": "code",
   "execution_count": null,
   "metadata": {},
   "outputs": [],
   "source": [
    "cases5group = cases5.groupby('code')"
   ]
  },
  {
   "cell_type": "code",
   "execution_count": null,
   "metadata": {},
   "outputs": [],
   "source": [
    "cases5group.head()"
   ]
  },
  {
   "cell_type": "code",
   "execution_count": null,
   "metadata": {},
   "outputs": [],
   "source": [
    "cases5slopes = (cases5group.apply(lambda x: pd.Series(linregress(x['daysGT100'],x['logCases'])))\\\n",
    "        .rename(columns={\n",
    "        0: 'slope',\n",
    "        1: 'intercept',\n",
    "        2: 'rvalue',\n",
    "        3: 'pvalue',\n",
    "        4: 'stderr'\n",
    "    }))\n",
    "casesPop5slopes = (cases5group.apply(lambda x: pd.Series(linregress(x['daysGT100'],x['logCasesPop'])))\\\n",
    "        .rename(columns={\n",
    "        0: 'slopePop',\n",
    "        1: 'interceptPop',\n",
    "        2: 'rvaluePop',\n",
    "        3: 'pvaluePop',\n",
    "        4: 'stderrPop'\n",
    "    }))"
   ]
  },
  {
   "cell_type": "code",
   "execution_count": null,
   "metadata": {},
   "outputs": [],
   "source": [
    "cases5slopes.to_csv('cases5slopes.csv')"
   ]
  },
  {
   "cell_type": "code",
   "execution_count": null,
   "metadata": {},
   "outputs": [],
   "source": [
    "merged5 = merged_data[merged_data.daysGT100 == 5]"
   ]
  },
  {
   "cell_type": "code",
   "execution_count": null,
   "metadata": {},
   "outputs": [],
   "source": [
    "mergedcases5 = pd.merge(merged5, cases5slopes, on=[\"code\"])\n",
    "mergedcases5 = pd.merge(mergedcases5, casesPop5slopes, on=[\"code\"])"
   ]
  },
  {
   "cell_type": "code",
   "execution_count": null,
   "metadata": {},
   "outputs": [],
   "source": [
    "#mergedcases5.dropna(subset=['idv'],inplace=True)"
   ]
  },
  {
   "cell_type": "code",
   "execution_count": null,
   "metadata": {},
   "outputs": [],
   "source": [
    "# Export CSV\n",
    "mergedcases5.to_csv('cases5.csv')  "
   ]
  },
  {
   "cell_type": "code",
   "execution_count": null,
   "metadata": {},
   "outputs": [],
   "source": [
    "corr5 = mergedcases5.corr()"
   ]
  },
  {
   "cell_type": "code",
   "execution_count": null,
   "metadata": {},
   "outputs": [],
   "source": [
    "# Plot the Pearson Correlation reduced matrix\n",
    "matrix = np.triu(corr5)\n",
    "fig, ax = plt.subplots(figsize=(15,9)) \n",
    "ax = sns.heatmap(corr5,   mask = matrix, cmap = 'RdYlBu')\n",
    "bottom, top = ax.get_ylim()\n",
    "ax.set_ylim(bottom + 0.5, top - 0.5)\n",
    "plt.title('Pearson Correlation matrix for Countries at 5 days since 100th Covid case')"
   ]
  },
  {
   "cell_type": "code",
   "execution_count": null,
   "metadata": {},
   "outputs": [],
   "source": [
    "corr5.to_csv('corrcases5.csv')"
   ]
  },
  {
   "cell_type": "markdown",
   "metadata": {},
   "source": [
    "## Create subset of Countries that have reached 10 days > 100 cases"
   ]
  },
  {
   "cell_type": "code",
   "execution_count": null,
   "metadata": {},
   "outputs": [],
   "source": [
    "cases10 = merged_data[merged_data.groupby('code')['daysGT100'].transform(lambda x: (x == 10).sum())>0]"
   ]
  },
  {
   "cell_type": "code",
   "execution_count": null,
   "metadata": {},
   "outputs": [],
   "source": [
    "cases10 = cases10[cases10['daysGT100'] <= 10]"
   ]
  },
  {
   "cell_type": "code",
   "execution_count": null,
   "metadata": {},
   "outputs": [],
   "source": [
    "cases10.to_csv('cases10precalc.csv')"
   ]
  },
  {
   "cell_type": "code",
   "execution_count": null,
   "metadata": {},
   "outputs": [],
   "source": [
    "cases10group = cases10.groupby('code')"
   ]
  },
  {
   "cell_type": "code",
   "execution_count": null,
   "metadata": {},
   "outputs": [],
   "source": [
    "cases10slopes = (cases10group.apply(lambda x: pd.Series(linregress(x['daysGT100'],x['logCases'])))\\\n",
    "        .rename(columns={\n",
    "        0: 'slope',\n",
    "        1: 'intercept',\n",
    "        2: 'rvalue',\n",
    "        3: 'pvalue',\n",
    "        4: 'stderr'\n",
    "    }))\n",
    "casesPop10slopes = (cases10group.apply(lambda x: pd.Series(linregress(x['daysGT100'],x['logCasesPop'])))\\\n",
    "        .rename(columns={\n",
    "        0: 'slopePop',\n",
    "        1: 'interceptPop',\n",
    "        2: 'rvaluePop',\n",
    "        3: 'pvaluePop',\n",
    "        4: 'stderrPop'\n",
    "    }))"
   ]
  },
  {
   "cell_type": "code",
   "execution_count": null,
   "metadata": {},
   "outputs": [],
   "source": [
    "merged10 = merged_data[merged_data.daysGT100 == 10]"
   ]
  },
  {
   "cell_type": "code",
   "execution_count": null,
   "metadata": {},
   "outputs": [],
   "source": [
    "merged10.shape"
   ]
  },
  {
   "cell_type": "code",
   "execution_count": null,
   "metadata": {},
   "outputs": [],
   "source": [
    "mergedcases10 = pd.merge(merged10, cases10slopes, on=[\"code\"])\n",
    "mergedcases10 = pd.merge(mergedcases10, casesPop10slopes, on=[\"code\"])"
   ]
  },
  {
   "cell_type": "code",
   "execution_count": null,
   "metadata": {},
   "outputs": [],
   "source": [
    "# Export CSV\n",
    "mergedcases10.to_csv('cases10.csv')  "
   ]
  },
  {
   "cell_type": "code",
   "execution_count": null,
   "metadata": {},
   "outputs": [],
   "source": [
    "corr10 = mergedcases10.corr()"
   ]
  },
  {
   "cell_type": "code",
   "execution_count": null,
   "metadata": {},
   "outputs": [],
   "source": [
    "# Plot the Pearson Correlation reduced matrix\n",
    "matrix = np.triu(corr10)\n",
    "fig, ax = plt.subplots(figsize=(15,9)) \n",
    "ax = sns.heatmap(corr10,   mask = matrix, cmap = 'RdYlBu')\n",
    "bottom, top = ax.get_ylim()\n",
    "ax.set_ylim(bottom + 0.5, top - 0.5)\n",
    "plt.title('Pearson Correlation matrix for Countries at 10 days since 100th Covid case')"
   ]
  },
  {
   "cell_type": "code",
   "execution_count": null,
   "metadata": {},
   "outputs": [],
   "source": [
    "corr10.to_csv('corrcases10.csv')"
   ]
  },
  {
   "cell_type": "code",
   "execution_count": null,
   "metadata": {},
   "outputs": [],
   "source": []
  },
  {
   "cell_type": "markdown",
   "metadata": {},
   "source": [
    "## Create subset of Countries that have reached 20 days > 100 cases"
   ]
  },
  {
   "cell_type": "code",
   "execution_count": null,
   "metadata": {},
   "outputs": [],
   "source": [
    "cases20 = merged_data[merged_data.groupby('code')['daysGT100'].transform(lambda x: (x == 20).sum())>0]"
   ]
  },
  {
   "cell_type": "code",
   "execution_count": null,
   "metadata": {},
   "outputs": [],
   "source": [
    "cases20 = cases20[cases20['daysGT100'] <= 20]"
   ]
  },
  {
   "cell_type": "code",
   "execution_count": null,
   "metadata": {},
   "outputs": [],
   "source": [
    "cases20.to_csv('cases20inter.csv')"
   ]
  },
  {
   "cell_type": "code",
   "execution_count": null,
   "metadata": {},
   "outputs": [],
   "source": [
    "cases20group = cases20.groupby('code')"
   ]
  },
  {
   "cell_type": "code",
   "execution_count": null,
   "metadata": {},
   "outputs": [],
   "source": [
    "cases20slopes = (cases20group.apply(lambda x: pd.Series(linregress(x['daysGT100'],x['logCases'])))\\\n",
    "        .rename(columns={\n",
    "        0: 'slope',\n",
    "        1: 'intercept',\n",
    "        2: 'rvalue',\n",
    "        3: 'pvalue',\n",
    "        4: 'stderr'\n",
    "    }))\n",
    "casesPop20slopes = (cases20group.apply(lambda x: pd.Series(linregress(x['daysGT100'],x['logCasesPop'])))\\\n",
    "        .rename(columns={\n",
    "        0: 'slopePop',\n",
    "        1: 'interceptPop',\n",
    "        2: 'rvaluePop',\n",
    "        3: 'pvaluePop',\n",
    "        4: 'stderrPop'\n",
    "    }))"
   ]
  },
  {
   "cell_type": "code",
   "execution_count": null,
   "metadata": {},
   "outputs": [],
   "source": [
    "cases20slopes.to_csv('cases20slopes.csv')"
   ]
  },
  {
   "cell_type": "code",
   "execution_count": null,
   "metadata": {},
   "outputs": [],
   "source": [
    "merged20 = merged_data[merged_data.daysGT100 == 20]"
   ]
  },
  {
   "cell_type": "code",
   "execution_count": null,
   "metadata": {},
   "outputs": [],
   "source": [
    "mergedcases20 = pd.merge(merged20, cases20slopes, on=[\"code\"])\n",
    "mergedcases20 = pd.merge(mergedcases20, casesPop20slopes, on=[\"code\"])"
   ]
  },
  {
   "cell_type": "code",
   "execution_count": null,
   "metadata": {},
   "outputs": [],
   "source": [
    "# Export CSV\n",
    "mergedcases20.to_csv('cases20.csv')  "
   ]
  },
  {
   "cell_type": "code",
   "execution_count": null,
   "metadata": {},
   "outputs": [],
   "source": [
    "corr20 = mergedcases20.corr()"
   ]
  },
  {
   "cell_type": "code",
   "execution_count": null,
   "metadata": {},
   "outputs": [],
   "source": [
    "# Plot the Pearson Correlation reduced matrix\n",
    "matrix = np.triu(corr20)\n",
    "fig, ax = plt.subplots(figsize=(15,9)) \n",
    "ax = sns.heatmap(corr20,   mask = matrix, cmap = 'RdYlBu')\n",
    "bottom, top = ax.get_ylim()\n",
    "ax.set_ylim(bottom + 0.5, top - 0.5)\n",
    "plt.title('Pearson Correlation matrix for Countries at 20 days since 100th Covid case')"
   ]
  },
  {
   "cell_type": "code",
   "execution_count": null,
   "metadata": {},
   "outputs": [],
   "source": [
    "corr20.to_csv('corrcases20.csv')"
   ]
  },
  {
   "cell_type": "code",
   "execution_count": null,
   "metadata": {},
   "outputs": [],
   "source": []
  },
  {
   "cell_type": "markdown",
   "metadata": {},
   "source": [
    "## Create subset of Countries that have reached 30 days > 100 cases"
   ]
  },
  {
   "cell_type": "code",
   "execution_count": null,
   "metadata": {},
   "outputs": [],
   "source": [
    "cases30 = merged_data[merged_data.groupby('code')['daysGT100'].transform(lambda x: (x == 30).sum())>0]"
   ]
  },
  {
   "cell_type": "code",
   "execution_count": null,
   "metadata": {},
   "outputs": [],
   "source": [
    "cases30 = cases30[cases30['daysGT100'] <= 30]"
   ]
  },
  {
   "cell_type": "code",
   "execution_count": null,
   "metadata": {},
   "outputs": [],
   "source": [
    "cases30group = cases30.groupby('code')"
   ]
  },
  {
   "cell_type": "code",
   "execution_count": null,
   "metadata": {},
   "outputs": [],
   "source": [
    "cases30slopes = (cases30group.apply(lambda x: pd.Series(linregress(x['daysGT100'],x['logCases'])))\\\n",
    "        .rename(columns={\n",
    "        0: 'slope',\n",
    "        1: 'intercept',\n",
    "        2: 'rvalue',\n",
    "        3: 'pvalue',\n",
    "        4: 'stderr'\n",
    "    }))\n",
    "casesPop30slopes = (cases30group.apply(lambda x: pd.Series(linregress(x['daysGT100'],x['logCasesPop'])))\\\n",
    "        .rename(columns={\n",
    "        0: 'slopePop',\n",
    "        1: 'interceptPop',\n",
    "        2: 'rvaluePop',\n",
    "        3: 'pvaluePop',\n",
    "        4: 'stderrPop'\n",
    "    }))"
   ]
  },
  {
   "cell_type": "code",
   "execution_count": null,
   "metadata": {},
   "outputs": [],
   "source": [
    "merged30 = merged_data[merged_data.daysGT100 == 30]"
   ]
  },
  {
   "cell_type": "code",
   "execution_count": null,
   "metadata": {},
   "outputs": [],
   "source": [
    "mergedcases30 = pd.merge(merged30, cases30slopes, on=[\"code\"])\n",
    "mergedcases30 = pd.merge(mergedcases30, casesPop30slopes, on=[\"code\"])"
   ]
  },
  {
   "cell_type": "code",
   "execution_count": null,
   "metadata": {},
   "outputs": [],
   "source": [
    "# Export CSV\n",
    "mergedcases30.to_csv('cases30.csv')  "
   ]
  },
  {
   "cell_type": "code",
   "execution_count": null,
   "metadata": {},
   "outputs": [],
   "source": [
    "corr30 = mergedcases30.corr()"
   ]
  },
  {
   "cell_type": "code",
   "execution_count": null,
   "metadata": {},
   "outputs": [],
   "source": [
    "# Plot the Pearson Correlation reduced matrix\n",
    "matrix = np.triu(corr30)\n",
    "fig, ax = plt.subplots(figsize=(15,9)) \n",
    "ax = sns.heatmap(corr30,   mask = matrix, cmap = 'RdYlBu')\n",
    "bottom, top = ax.get_ylim()\n",
    "ax.set_ylim(bottom + 0.5, top - 0.5)\n",
    "plt.title('Pearson Correlation matrix for Countries at 30 days since 100th Covid case')"
   ]
  },
  {
   "cell_type": "code",
   "execution_count": null,
   "metadata": {},
   "outputs": [],
   "source": [
    "corr30.to_csv('corrcases30.csv')"
   ]
  },
  {
   "cell_type": "code",
   "execution_count": null,
   "metadata": {},
   "outputs": [],
   "source": []
  },
  {
   "cell_type": "markdown",
   "metadata": {},
   "source": [
    "## Create subset of Countries that have reached 35 days > 100 cases"
   ]
  },
  {
   "cell_type": "code",
   "execution_count": null,
   "metadata": {},
   "outputs": [],
   "source": [
    "cases35 = merged_data[merged_data.groupby('code')['daysGT100'].transform(lambda x: (x == 35).sum())>0]"
   ]
  },
  {
   "cell_type": "code",
   "execution_count": null,
   "metadata": {},
   "outputs": [],
   "source": [
    "cases35 = cases35[cases35['daysGT100'] <= 35]"
   ]
  },
  {
   "cell_type": "code",
   "execution_count": null,
   "metadata": {},
   "outputs": [],
   "source": [
    "cases35group = cases35.groupby('code')"
   ]
  },
  {
   "cell_type": "code",
   "execution_count": null,
   "metadata": {},
   "outputs": [],
   "source": [
    "cases35slopes = (cases35group.apply(lambda x: pd.Series(linregress(x['daysGT100'],x['logCases'])))\\\n",
    "        .rename(columns={\n",
    "        0: 'slope',\n",
    "        1: 'intercept',\n",
    "        2: 'rvalue',\n",
    "        3: 'pvalue',\n",
    "        4: 'stderr'\n",
    "    }))\n",
    "casesPop35slopes = (cases35group.apply(lambda x: pd.Series(linregress(x['daysGT100'],x['logCasesPop'])))\\\n",
    "        .rename(columns={\n",
    "        0: 'slopePop',\n",
    "        1: 'interceptPop',\n",
    "        2: 'rvaluePop',\n",
    "        3: 'pvaluePop',\n",
    "        4: 'stderrPop'\n",
    "    }))"
   ]
  },
  {
   "cell_type": "code",
   "execution_count": null,
   "metadata": {},
   "outputs": [],
   "source": [
    "merged35 = merged_data[merged_data.daysGT100 == 35]"
   ]
  },
  {
   "cell_type": "code",
   "execution_count": null,
   "metadata": {},
   "outputs": [],
   "source": [
    "mergedcases35 = pd.merge(merged35, cases35slopes, on=[\"code\"])\n",
    "mergedcases35 = pd.merge(mergedcases35, casesPop35slopes, on=[\"code\"])"
   ]
  },
  {
   "cell_type": "code",
   "execution_count": null,
   "metadata": {},
   "outputs": [],
   "source": [
    "# Export CSV\n",
    "mergedcases35.to_csv('cases35.csv')  "
   ]
  },
  {
   "cell_type": "code",
   "execution_count": null,
   "metadata": {},
   "outputs": [],
   "source": [
    "corr35 = mergedcases35.corr()"
   ]
  },
  {
   "cell_type": "code",
   "execution_count": null,
   "metadata": {},
   "outputs": [],
   "source": [
    "# Plot the Pearson Correlation reduced matrix\n",
    "matrix = np.triu(corr35)\n",
    "fig, ax = plt.subplots(figsize=(15,9)) \n",
    "ax = sns.heatmap(corr35,   mask = matrix, cmap = 'RdYlBu')\n",
    "bottom, top = ax.get_ylim()\n",
    "ax.set_ylim(bottom + 0.5, top - 0.5)\n",
    "plt.title('Pearson Correlation matrix for Countries at 30 days since 100th Covid case')"
   ]
  },
  {
   "cell_type": "code",
   "execution_count": null,
   "metadata": {},
   "outputs": [],
   "source": [
    "corr35.to_csv('corrcases35.csv')"
   ]
  },
  {
   "cell_type": "code",
   "execution_count": null,
   "metadata": {},
   "outputs": [],
   "source": []
  },
  {
   "cell_type": "code",
   "execution_count": null,
   "metadata": {},
   "outputs": [],
   "source": []
  },
  {
   "cell_type": "markdown",
   "metadata": {},
   "source": [
    "## Create subset of Countries that have reached 40 days > 100 cases"
   ]
  },
  {
   "cell_type": "code",
   "execution_count": null,
   "metadata": {},
   "outputs": [],
   "source": [
    "cases40 = merged_data[merged_data.groupby('code')['daysGT100'].transform(lambda x: (x == 40).sum())>0]"
   ]
  },
  {
   "cell_type": "code",
   "execution_count": null,
   "metadata": {},
   "outputs": [],
   "source": [
    "cases40 = cases40[cases40['daysGT100'] <= 40]"
   ]
  },
  {
   "cell_type": "code",
   "execution_count": null,
   "metadata": {},
   "outputs": [],
   "source": [
    "#cases40.to_csv('cases40inter.csv')"
   ]
  },
  {
   "cell_type": "code",
   "execution_count": null,
   "metadata": {},
   "outputs": [],
   "source": [
    "cases40group = cases40.groupby('code')"
   ]
  },
  {
   "cell_type": "code",
   "execution_count": null,
   "metadata": {},
   "outputs": [],
   "source": [
    "cases40slopes = (cases40group.apply(lambda x: pd.Series(linregress(x['daysGT100'],x['logCases'])))\\\n",
    "        .rename(columns={\n",
    "        0: 'slope',\n",
    "        1: 'intercept',\n",
    "        2: 'rvalue',\n",
    "        3: 'pvalue',\n",
    "        4: 'stderr'\n",
    "    }))\n",
    "casesPop40slopes = (cases40group.apply(lambda x: pd.Series(linregress(x['daysGT100'],x['logCasesPop'])))\\\n",
    "        .rename(columns={\n",
    "        0: 'slopePop',\n",
    "        1: 'interceptPop',\n",
    "        2: 'rvaluePop',\n",
    "        3: 'pvaluePop',\n",
    "        4: 'stderrPop'\n",
    "    }))"
   ]
  },
  {
   "cell_type": "code",
   "execution_count": null,
   "metadata": {},
   "outputs": [],
   "source": [
    "merged40 = merged_data[merged_data.daysGT100 == 40]"
   ]
  },
  {
   "cell_type": "code",
   "execution_count": null,
   "metadata": {},
   "outputs": [],
   "source": [
    "mergedcases40 = pd.merge(merged40, cases40slopes, on=[\"code\"])\n",
    "mergedcases40 = pd.merge(mergedcases40, casesPop40slopes, on=[\"code\"])"
   ]
  },
  {
   "cell_type": "code",
   "execution_count": null,
   "metadata": {},
   "outputs": [],
   "source": [
    "# Export CSV\n",
    "mergedcases40.to_csv('cases40.csv')  "
   ]
  },
  {
   "cell_type": "code",
   "execution_count": null,
   "metadata": {},
   "outputs": [],
   "source": [
    "corr40 = mergedcases40.corr()"
   ]
  },
  {
   "cell_type": "code",
   "execution_count": null,
   "metadata": {},
   "outputs": [],
   "source": [
    "# Plot the Pearson Correlation reduced matrix\n",
    "matrix = np.triu(corr40)\n",
    "fig, ax = plt.subplots(figsize=(15,9)) \n",
    "ax = sns.heatmap(corr40,   mask = matrix, cmap = 'RdYlBu')\n",
    "bottom, top = ax.get_ylim()\n",
    "ax.set_ylim(bottom + 0.5, top - 0.5)\n",
    "plt.title('Pearson Correlation matrix for Countries at 40 days since 100th Covid case')"
   ]
  },
  {
   "cell_type": "code",
   "execution_count": null,
   "metadata": {},
   "outputs": [],
   "source": [
    "corr40.to_csv('corrcases40.csv')"
   ]
  },
  {
   "cell_type": "markdown",
   "metadata": {},
   "source": [
    "### Concatonate the dataframes back together into one dataframe"
   ]
  },
  {
   "cell_type": "code",
   "execution_count": null,
   "metadata": {},
   "outputs": [],
   "source": [
    "# Concatonate all the dataframes \n",
    "cases_df = pd.concat([mergedcases40, mergedcases35, mergedcases30, mergedcases20, mergedcases10, mergedcases5])"
   ]
  },
  {
   "cell_type": "code",
   "execution_count": null,
   "metadata": {
    "scrolled": true
   },
   "outputs": [],
   "source": [
    "cases_df.head()"
   ]
  },
  {
   "cell_type": "code",
   "execution_count": null,
   "metadata": {},
   "outputs": [],
   "source": [
    "cases_df.to_csv('cases_df.csv')"
   ]
  },
  {
   "cell_type": "code",
   "execution_count": null,
   "metadata": {},
   "outputs": [],
   "source": [
    "cases_df.columns"
   ]
  },
  {
   "cell_type": "code",
   "execution_count": null,
   "metadata": {},
   "outputs": [],
   "source": [
    "cases_df.drop(['country_y'], axis=1,inplace=True)"
   ]
  },
  {
   "cell_type": "code",
   "execution_count": null,
   "metadata": {},
   "outputs": [],
   "source": [
    "cases_df = cases_df.rename(columns={'country_x': 'country'})"
   ]
  },
  {
   "cell_type": "code",
   "execution_count": null,
   "metadata": {},
   "outputs": [],
   "source": [
    "cases_df.head()\n",
    "multi_slope = cases_df.set_index(['globalName','regionName','subRegionName','country'])\n",
    "multi_slope = multi_slope.sort_index()\n",
    "print(multi_slope.shape)\n",
    "multi_slope.head()"
   ]
  },
  {
   "cell_type": "markdown",
   "metadata": {},
   "source": [
    "### Function to easily do a panel of scatterplots easily"
   ]
  },
  {
   "cell_type": "code",
   "execution_count": null,
   "metadata": {},
   "outputs": [],
   "source": [
    "def makePanelScatterplot(data_df, x_data,y_data,color_col,split_col):\n",
    "    x_label = x_data\n",
    "    y_label = y_data\n",
    "    ylim_min = data_df[y_data].min()*1.05\n",
    "    ylim_max = data_df[y_data].max()*1.05\n",
    "    xlim_min = data_df[x_data].min()*1.05\n",
    "    xlim_max = data_df[x_data].max()*1.05\n",
    "\n",
    "    g = sns.lmplot(x=x_data, y=y_data, data=data_df,\\\n",
    "           hue=color_col, col=split_col,col_wrap=3)\n",
    "\n",
    "        \n",
    "    g = (g.set_axis_labels(x_label, y_label)\n",
    "          .set(ylim=(ylim_min, ylim_max),xlim=(xlim_min, xlim_max))\n",
    "          .fig.subplots_adjust(wspace=.02))"
   ]
  },
  {
   "cell_type": "markdown",
   "metadata": {},
   "source": [
    "# Slope of # Covid Cases vs. Power-Distance (PDI) of Culture"
   ]
  },
  {
   "cell_type": "code",
   "execution_count": null,
   "metadata": {},
   "outputs": [],
   "source": [
    "makePanelScatterplot(cases_df,\"pdi\",\"slopePop\",\"daysGT100\",\"daysGT100\")"
   ]
  },
  {
   "cell_type": "markdown",
   "metadata": {},
   "source": [
    "# Slope of # Covid Cases vs. Individualism/Collectivism of Culture"
   ]
  },
  {
   "cell_type": "code",
   "execution_count": null,
   "metadata": {},
   "outputs": [],
   "source": [
    "makePanelScatterplot(cases_df,\"idv\",\"slopePop\",\"daysGT100\",\"daysGT100\")"
   ]
  },
  {
   "cell_type": "markdown",
   "metadata": {},
   "source": [
    "# Slope of # Covid Cases vs. Indulgence (IVR) of Culture"
   ]
  },
  {
   "cell_type": "code",
   "execution_count": null,
   "metadata": {},
   "outputs": [],
   "source": [
    "makePanelScatterplot(cases_df,\"ivr\",\"slopePop\",\"daysGT100\",\"daysGT100\")"
   ]
  },
  {
   "cell_type": "markdown",
   "metadata": {},
   "source": [
    "# Slope of # Covid Cases vs. Long-term Orientation (LTOWVS) of Culture"
   ]
  },
  {
   "cell_type": "code",
   "execution_count": null,
   "metadata": {},
   "outputs": [],
   "source": [
    "makePanelScatterplot(cases_df,\"ltowvs\",\"slopePop\",\"daysGT100\",\"daysGT100\")"
   ]
  },
  {
   "cell_type": "markdown",
   "metadata": {},
   "source": [
    "# Slope of # Covid Cases vs. Masculine/Feminine (MAS) of Culture"
   ]
  },
  {
   "cell_type": "code",
   "execution_count": null,
   "metadata": {},
   "outputs": [],
   "source": [
    "makePanelScatterplot(cases_df,\"mas\",\"slope\",\"daysGT100\",\"daysGT100\")"
   ]
  },
  {
   "cell_type": "markdown",
   "metadata": {},
   "source": [
    "# Slope of # Covid Cases vs. Uncertainty Avoidance (UAI) of Culture"
   ]
  },
  {
   "cell_type": "code",
   "execution_count": null,
   "metadata": {},
   "outputs": [],
   "source": [
    "makePanelScatterplot(cases_df,\"uai\",\"slope\",\"daysGT100\",\"daysGT100\")"
   ]
  },
  {
   "cell_type": "code",
   "execution_count": null,
   "metadata": {},
   "outputs": [],
   "source": [
    "cases_df.columns"
   ]
  },
  {
   "cell_type": "code",
   "execution_count": null,
   "metadata": {},
   "outputs": [],
   "source": [
    "makePanelScatterplot(cases_df,\"lifeExpectancy\",\"medianAge\",\"daysGT100\",\"daysGT100\")"
   ]
  },
  {
   "cell_type": "markdown",
   "metadata": {},
   "source": [
    "# Change is"
   ]
  },
  {
   "cell_type": "code",
   "execution_count": null,
   "metadata": {},
   "outputs": [],
   "source": [
    "makePanelScatterplot(cases_df,\"logCasesPop\",\"slopePop\",\"daysGT100\",\"daysGT100\")"
   ]
  },
  {
   "cell_type": "code",
   "execution_count": null,
   "metadata": {},
   "outputs": [],
   "source": [
    "cases_df.columns"
   ]
  },
  {
   "cell_type": "code",
   "execution_count": null,
   "metadata": {},
   "outputs": [],
   "source": [
    "multi_slope.head()"
   ]
  },
  {
   "cell_type": "code",
   "execution_count": null,
   "metadata": {},
   "outputs": [],
   "source": [
    "multi_slope.to_csv('multi_slope_kip.csv')"
   ]
  },
  {
   "cell_type": "code",
   "execution_count": null,
   "metadata": {},
   "outputs": [],
   "source": [
    "makePanelScatterplot(cases_df,\"ivr\",\"slope\",\"daysGT100\",\"daysGT100\")"
   ]
  },
  {
   "cell_type": "code",
   "execution_count": null,
   "metadata": {},
   "outputs": [],
   "source": [
    "makePanelScatterplot(cases_df,\"idv\",\"casesPop\",\"daysGT100\",\"daysGT100\")"
   ]
  },
  {
   "cell_type": "code",
   "execution_count": null,
   "metadata": {},
   "outputs": [],
   "source": [
    "def olsRegressionAnalysis (df,df_name,dep_col,ind_col):\n",
    "    stat_dep_col = dep_col.replace(' ','_').replace('-','_').replace('(','_').replace(')','')\n",
    "    stat_ind_col = ind_col.replace(' ','_').replace('-','_').replace('(','_').replace(')','')\n",
    "    stat_col_list = [stat_dep_col,stat_ind_col]\n",
    "    #print(f'stat_dep_col: {stat_dep_col}, stat_ind_col: {stat_ind_col}')\n",
    "    col_list = [dep_col,ind_col]\n",
    "\n",
    "    col_dict = {col_list[i]: stat_col_list[i] for i in range(len(col_list))} \n",
    "    #print(col_dict)\n",
    "    stat_df = df[col_list].dropna()\n",
    "    stat_df.rename(columns=col_dict,inplace=True)\n",
    "    print(f'\\u001b[34m{dep_col}\\u001b[0m fitted against \\u001b[34m{ind_col}\\u001b[0m \\\n",
    "    using \\x1b[31m{df_name}\\x1b[0m dataframe:\\n')\n",
    "    print(f'We have {stat_df.shape[0]} rows left after dropping Null values\\n')\n",
    "    model_string = stat_dep_col + \" ~ \" + stat_ind_col\n",
    "    all_model = ols(model_string, data=stat_df).fit()\n",
    "    print(all_model.summary())"
   ]
  },
  {
   "cell_type": "code",
   "execution_count": null,
   "metadata": {},
   "outputs": [],
   "source": [
    "cases_df.columns"
   ]
  },
  {
   "cell_type": "code",
   "execution_count": null,
   "metadata": {},
   "outputs": [],
   "source": [
    "cases_df"
   ]
  },
  {
   "cell_type": "code",
   "execution_count": null,
   "metadata": {},
   "outputs": [],
   "source": [
    "# # Create tidy datasets for Country then Covid\n",
    "# country_cols = ['Entity', 'Code', 'popDensity', 'gdp', 'gapPop', 'urbanPop', 'ruralPop',\n",
    "#        'urbanPct', 'ruralPct', 'lifeExpectancy', 'globalCode', 'globalName',\n",
    "#        'regionCode', 'regionName', 'subRegionCode', 'subRegionName',\n",
    "#        'interRegionCode', 'interRegionName', 'country', 'm49', 'ldc', 'lldc',\n",
    "#        'sids', 'development', 'countryWom', 'calcPop', 'medianAge', 'pdi',\n",
    "#        'idv', 'mas', 'uai', 'ltowvs', 'ivr']\n",
    "# countries = cases_df[country_cols].drop_duplicates()\n",
    "# countries = countries.reset_index(drop=True)\n",
    "# countries = countries.set_index(['Code'])\n",
    "# countries.head()"
   ]
  },
  {
   "cell_type": "code",
   "execution_count": null,
   "metadata": {},
   "outputs": [],
   "source": [
    "countries.columns"
   ]
  },
  {
   "cell_type": "code",
   "execution_count": null,
   "metadata": {},
   "outputs": [],
   "source": [
    "cases_df.columns"
   ]
  },
  {
   "cell_type": "code",
   "execution_count": null,
   "metadata": {},
   "outputs": [],
   "source": [
    "# Create Covid cases table\n",
    "covid_vc = pd.merge(cases_df, countries, on=['globalName',\n",
    "       'regionCode', 'regionName', 'subRegionName',\n",
    "       'interRegionName', 'country', 'm49', 'development', 'pdi',\n",
    "       'idv', 'mas', 'uai', 'ltowvs', 'ivr'])\n",
    "covid_vc.columns"
   ]
  },
  {
   "cell_type": "code",
   "execution_count": null,
   "metadata": {},
   "outputs": [],
   "source": [
    "covid_vc.drop(['code_y'], axis=1,inplace=True)"
   ]
  },
  {
   "cell_type": "code",
   "execution_count": null,
   "metadata": {},
   "outputs": [],
   "source": [
    "covid_vc = covid_vc.rename(columns={'code_x': 'code'})"
   ]
  },
  {
   "cell_type": "code",
   "execution_count": null,
   "metadata": {},
   "outputs": [],
   "source": [
    "covid_vc = covid_vc[['code','date', 'cases', 'daysGT100',\n",
    "       'logCases', 'casesPop', 'logCasesPop', 'logCasesMPop', 'slope',\n",
    "       'intercept', 'rvalue', 'pvalue', 'stderr', 'slopePop', 'interceptPop',\n",
    "       'rvaluePop', 'pvaluePop', 'stderrPop']]\n",
    "covid_vc"
   ]
  },
  {
   "cell_type": "code",
   "execution_count": null,
   "metadata": {},
   "outputs": [],
   "source": [
    "tidy_df = cases_df.melt(id_vars=\"daysGT100\")"
   ]
  },
  {
   "cell_type": "code",
   "execution_count": null,
   "metadata": {},
   "outputs": [],
   "source": [
    "cases_df.head()"
   ]
  },
  {
   "cell_type": "code",
   "execution_count": null,
   "metadata": {},
   "outputs": [],
   "source": [
    "tidy_df.columns"
   ]
  },
  {
   "cell_type": "code",
   "execution_count": null,
   "metadata": {},
   "outputs": [],
   "source": [
    "df = cases_df[cases_df['daysGT100'] >= 30].sort_values(by=['casesPop'])\n",
    "\n",
    "fig = px.scatter(df, x=\"country\", y=\"casesPop\", color=\"idv\", \n",
    "              color_continuous_scale= px.colors.sequential.Inferno,\n",
    "              title=\"Confirmed Covid cases per Capita vs. Hoefstede 'Individualism' Score\",\n",
    "             hover_name=\"country\", hover_data=['cases','slope','ivr'])\n",
    "fig.update_traces(marker=dict(size=12,\n",
    "                              line=dict(width=1,\n",
    "                                        color='DarkSlateGrey')),\n",
    "                  selector=dict(mode=\"markers\"))\n",
    "\n",
    "\n",
    "fig.show()"
   ]
  },
  {
   "cell_type": "code",
   "execution_count": null,
   "metadata": {},
   "outputs": [],
   "source": [
    "df = cases_df[cases_df['daysGT100'] >= 35]\n",
    "\n",
    "fig = px.line(df, x=\"daysGT100\", y=\"slope\", color=\"country\", title=\"layout.hovermode='x unified'\",\n",
    "             hover_name=\"country\", hover_data=['country','slope','ivr'])\n",
    "fig.update_traces(mode=\"markers+lines\")\n",
    "\n",
    "\n",
    "fig.show()"
   ]
  },
  {
   "cell_type": "code",
   "execution_count": null,
   "metadata": {},
   "outputs": [],
   "source": [
    "wom.head()"
   ]
  },
  {
   "cell_type": "code",
   "execution_count": null,
   "metadata": {},
   "outputs": [],
   "source": [
    "df = wow[cases_df['totalCases'] >= 100].sort_values(by=['totalCases'])\n",
    "\n",
    "fig = px.scatter(df, x=\"countryWom\", y=\"casesMPop\", color=\"idv\", \n",
    "              color_continuous_scale= px.colors.sequential.Inferno,\n",
    "              title=\"layout.hovermode='x unified'\",\n",
    "             hover_name=\"country\", hover_data=['cases','slope','ivr'])\n",
    "fig.update_traces(marker=dict(size=12,\n",
    "                              line=dict(width=1,\n",
    "                                        color='DarkSlateGrey')),\n",
    "                  selector=dict(mode=\"markers\"))\n",
    "\n",
    "\n",
    "fig.show()"
   ]
  },
  {
   "cell_type": "code",
   "execution_count": null,
   "metadata": {},
   "outputs": [],
   "source": [
    "#olsRegressionAnalysis(cases40,\"log_cases\",\"slope\",\"Code\")"
   ]
  },
  {
   "cell_type": "code",
   "execution_count": null,
   "metadata": {},
   "outputs": [],
   "source": [
    "\n",
    "#merged_data['slope'] = merged_data.groupby('Code').diff()(lambda v: linregress(v.Date, v.cases)[0])\n",
    "merged_data['slope'] = (merged_data.groupby('code')[['date','logCases']].expanding().apply(lambda x: linregress(x['Date'],x['cases'])[0]))\n",
    "#merged_data['slope'] = (merged_data.groupby('Code')['Date','cases'].apply(lambda x,y : x.shift().expanding().apply(lambda v: linregress([0], [1])[0])))"
   ]
  },
  {
   "cell_type": "code",
   "execution_count": null,
   "metadata": {},
   "outputs": [],
   "source": [
    "#jupyter nbconvert merge_data_modified.ipynb --to html --output covidCulture.html"
   ]
  }
 ],
 "metadata": {
  "kernelspec": {
   "display_name": "Python 3",
   "language": "python",
   "name": "python3"
  },
  "language_info": {
   "codemirror_mode": {
    "name": "ipython",
    "version": 3
   },
   "file_extension": ".py",
   "mimetype": "text/x-python",
   "name": "python",
   "nbconvert_exporter": "python",
   "pygments_lexer": "ipython3",
   "version": "3.7.3"
  }
 },
 "nbformat": 4,
 "nbformat_minor": 2
}
