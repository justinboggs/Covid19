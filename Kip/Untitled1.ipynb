{
 "cells": [
  {
   "cell_type": "markdown",
   "metadata": {},
   "source": [
    "Covid 19 and Individualism/Collectivism\n",
    "TOPIC\n",
    "The purpose of this project was to analyze data about the Covid-19 infection rate, and how it is affected by cultural factors. We specifically wanted to look at how attitudes on individualism impact the Covid-19 infection rate.\n",
    "DATA\n",
    "Visual Capitalist Covid Infection Rate:\n",
    "https://www.visualcapitalist.com/infection-trajectory-flattening-the-covid19-curve/\n",
    "Hofstede Insights on Culture:\n",
    "https://geerthofstede.com/research-and-vsm/dimension-data-matrix/\n",
    "Individualism-Collectivism Score:\n",
    "https://hbdchick.wordpress.com/2013/09/07/national-individualism-collectivism-score\n",
    "s/\n",
    "Worldometer:\n",
    "https://www.worldometers.info/coronavirus/\n",
    "CIA World Factbook:\n",
    "https://www.cia.gov/library/publications/the-world-factbook/docs/one_page_summari\n",
    "es.html\n",
    "Our World Data:\n",
    "https://ourworldindata.org/urbanization\n",
    "Human Development Index:\n",
    "http://hdr.undp.org/en/content/human-development-index-hdi\n",
    "CLEANUP AND ANALYSIS\n",
    "·     Used Pandas to clean our data and load it into a SQLite database.\n",
    "·     Used python to generate Plotly graphs, and then using the dependency chart_studio.plotly we embedded html into our front end dashboard.\n",
    "·     Generated visuals with D3 and Leaflet.\n",
    "·     Loaded our data onto our front end display with Flask.\n",
    "·     Hosted our visualizations onto a front end, interactive dashboard."
   ]
  }
 ],
 "metadata": {
  "kernelspec": {
   "display_name": "Python 3",
   "language": "python",
   "name": "python3"
  },
  "language_info": {
   "codemirror_mode": {
    "name": "ipython",
    "version": 3
   },
   "file_extension": ".py",
   "mimetype": "text/x-python",
   "name": "python",
   "nbconvert_exporter": "python",
   "pygments_lexer": "ipython3",
   "version": "3.7.3"
  }
 },
 "nbformat": 4,
 "nbformat_minor": 2
}
