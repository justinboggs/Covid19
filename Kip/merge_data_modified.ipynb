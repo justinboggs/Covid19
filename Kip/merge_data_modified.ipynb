{
 "cells": [
  {
   "cell_type": "code",
   "execution_count": 1,
   "metadata": {},
   "outputs": [],
   "source": [
    "# Dependencies and Setup\n",
    "import matplotlib.pyplot as plt\n",
    "import pandas as pd\n",
    "import numpy as np\n",
    "import scipy.stats\n",
    "from scipy.stats import zscore\n",
    "from scipy.stats import stats\n",
    "from scipy.stats import linregress\n",
    "import os\n",
    "import seaborn as sns\n",
    "import re\n",
    "import datetime\n",
    "\n",
    "from statsmodels.compat import lzip\n",
    "import statsmodels.api as sm\n",
    "from statsmodels.formula.api import ols"
   ]
  },
  {
   "cell_type": "code",
   "execution_count": 93,
   "metadata": {},
   "outputs": [],
   "source": [
    "# Files to Load (csv files downloaded from the internet)\n",
    "\n",
    "file1 = \"data/population-density-vs-prosperity.csv\"\n",
    "file2 = \"data/urban-and-rural-population.csv\"\n",
    "file3 = \"data/urban-vs-rural-majority.csv\"\n",
    "file4 = \"data/life-expectancy-at-birth-total-years.csv\"\n",
    "file5 = \"data/median-age.csv\"\n",
    "file6 = \"data/six-dem_mod.csv\"\n",
    "file7 = \"data/covid-confirmed-cases-since-100th-case_hkg.csv\"\n",
    "\n",
    "# Read File and store into Pandas data frame\n",
    "\n",
    "density_vs_prosperity = pd.read_csv(file1)\n",
    "urban_rural_population = pd.read_csv(file2)\n",
    "urban_vs_rural_majority = pd.read_csv(file3)\n",
    "life_expectancy = pd.read_csv(file4)\n",
    "median_age = pd.read_csv(file5)\n",
    "hoefstede = pd.read_csv(file6)\n",
    "covid_data = pd.read_csv(file7, parse_dates=['Date'])"
   ]
  },
  {
   "cell_type": "code",
   "execution_count": 94,
   "metadata": {},
   "outputs": [
    {
     "data": {
      "text/plain": [
       "(47234, 6)"
      ]
     },
     "execution_count": 94,
     "metadata": {},
     "output_type": "execute_result"
    }
   ],
   "source": [
    "density_vs_prosperity.shape"
   ]
  },
  {
   "cell_type": "code",
   "execution_count": 95,
   "metadata": {},
   "outputs": [
    {
     "data": {
      "text/plain": [
       "(44392, 6)"
      ]
     },
     "execution_count": 95,
     "metadata": {},
     "output_type": "execute_result"
    }
   ],
   "source": [
    "density_vs_prosperity.dropna(subset=['Code'],inplace=True)\n",
    "density_vs_prosperity.shape"
   ]
  },
  {
   "cell_type": "code",
   "execution_count": 96,
   "metadata": {},
   "outputs": [
    {
     "data": {
      "text/plain": [
       "(12363, 5)"
      ]
     },
     "execution_count": 96,
     "metadata": {},
     "output_type": "execute_result"
    }
   ],
   "source": [
    "urban_rural_population.dropna(subset=['Code'],inplace=True)\n",
    "urban_rural_population.shape"
   ]
  },
  {
   "cell_type": "code",
   "execution_count": 97,
   "metadata": {},
   "outputs": [
    {
     "data": {
      "text/plain": [
       "(24019, 5)"
      ]
     },
     "execution_count": 97,
     "metadata": {},
     "output_type": "execute_result"
    }
   ],
   "source": [
    "urban_vs_rural_majority.dropna(subset=['Code'],inplace=True)\n",
    "urban_vs_rural_majority.shape"
   ]
  },
  {
   "cell_type": "code",
   "execution_count": 98,
   "metadata": {},
   "outputs": [
    {
     "data": {
      "text/plain": [
       "(11125, 4)"
      ]
     },
     "execution_count": 98,
     "metadata": {},
     "output_type": "execute_result"
    }
   ],
   "source": [
    "life_expectancy.dropna(subset=['Code'],inplace=True)\n",
    "life_expectancy.shape"
   ]
  },
  {
   "cell_type": "code",
   "execution_count": 99,
   "metadata": {},
   "outputs": [
    {
     "data": {
      "text/plain": [
       "(6324, 4)"
      ]
     },
     "execution_count": 99,
     "metadata": {},
     "output_type": "execute_result"
    }
   ],
   "source": [
    "median_age.dropna(subset=['Code'],inplace=True)\n",
    "median_age.shape"
   ]
  },
  {
   "cell_type": "code",
   "execution_count": 100,
   "metadata": {},
   "outputs": [
    {
     "data": {
      "text/plain": [
       "(127, 8)"
      ]
     },
     "execution_count": 100,
     "metadata": {},
     "output_type": "execute_result"
    }
   ],
   "source": [
    "hoefstede.shape"
   ]
  },
  {
   "cell_type": "code",
   "execution_count": 101,
   "metadata": {},
   "outputs": [],
   "source": [
    "hoefstede = hoefstede.replace('#NULL!','')"
   ]
  },
  {
   "cell_type": "code",
   "execution_count": 105,
   "metadata": {},
   "outputs": [],
   "source": [
    "hoefstede[['pdi','idv','mas','uai','ltowvs','ivr']] = hoefstede[['pdi','idv','mas','uai','ltowvs','ivr']].apply(pd.to_numeric)"
   ]
  },
  {
   "cell_type": "code",
   "execution_count": 107,
   "metadata": {},
   "outputs": [
    {
     "data": {
      "text/plain": [
       "(12768, 5)"
      ]
     },
     "execution_count": 107,
     "metadata": {},
     "output_type": "execute_result"
    }
   ],
   "source": [
    "covid_data.shape"
   ]
  },
  {
   "cell_type": "code",
   "execution_count": 108,
   "metadata": {},
   "outputs": [
    {
     "data": {
      "text/plain": [
       "(12283, 8)"
      ]
     },
     "execution_count": 108,
     "metadata": {},
     "output_type": "execute_result"
    }
   ],
   "source": [
    "# Merge data\n",
    "merged_data = pd.merge(density_vs_prosperity, urban_rural_population, on=[\"Entity\",\"Code\", \"Year\"])\n",
    "merged_data.shape"
   ]
  },
  {
   "cell_type": "code",
   "execution_count": 109,
   "metadata": {},
   "outputs": [
    {
     "data": {
      "text/plain": [
       "(12283, 10)"
      ]
     },
     "execution_count": 109,
     "metadata": {},
     "output_type": "execute_result"
    }
   ],
   "source": [
    "merged_data = pd.merge(merged_data, urban_vs_rural_majority, on=[\"Entity\", \"Code\", \"Year\"])\n",
    "merged_data.shape"
   ]
  },
  {
   "cell_type": "code",
   "execution_count": 110,
   "metadata": {},
   "outputs": [
    {
     "data": {
      "text/plain": [
       "(11007, 11)"
      ]
     },
     "execution_count": 110,
     "metadata": {},
     "output_type": "execute_result"
    }
   ],
   "source": [
    "merged_data = pd.merge(merged_data, life_expectancy, on=[\"Entity\", \"Code\", \"Year\"])\n",
    "merged_data.shape"
   ]
  },
  {
   "cell_type": "code",
   "execution_count": 111,
   "metadata": {},
   "outputs": [
    {
     "data": {
      "text/html": [
       "<div>\n",
       "<style scoped>\n",
       "    .dataframe tbody tr th:only-of-type {\n",
       "        vertical-align: middle;\n",
       "    }\n",
       "\n",
       "    .dataframe tbody tr th {\n",
       "        vertical-align: top;\n",
       "    }\n",
       "\n",
       "    .dataframe thead th {\n",
       "        text-align: right;\n",
       "    }\n",
       "</style>\n",
       "<table border=\"1\" class=\"dataframe\">\n",
       "  <thead>\n",
       "    <tr style=\"text-align: right;\">\n",
       "      <th></th>\n",
       "      <th>Entity</th>\n",
       "      <th>Code</th>\n",
       "      <th>Year</th>\n",
       "      <th>Population density (people per km² of land area)</th>\n",
       "      <th>GDP per capita (constant 2011 international $)</th>\n",
       "      <th>Total population (Gapminder)</th>\n",
       "      <th>Urban population</th>\n",
       "      <th>Rural population</th>\n",
       "      <th>Urban (%)</th>\n",
       "      <th>Rural (%)</th>\n",
       "      <th>Life expectancy at birth, total (years) (years)</th>\n",
       "    </tr>\n",
       "  </thead>\n",
       "  <tbody>\n",
       "    <tr>\n",
       "      <th>0</th>\n",
       "      <td>Afghanistan</td>\n",
       "      <td>AFG</td>\n",
       "      <td>1960</td>\n",
       "      <td>NaN</td>\n",
       "      <td>NaN</td>\n",
       "      <td>8996351.0</td>\n",
       "      <td>755783</td>\n",
       "      <td>8240568</td>\n",
       "      <td>8.401</td>\n",
       "      <td>91.598999</td>\n",
       "      <td>32.292</td>\n",
       "    </tr>\n",
       "    <tr>\n",
       "      <th>1</th>\n",
       "      <td>Afghanistan</td>\n",
       "      <td>AFG</td>\n",
       "      <td>1961</td>\n",
       "      <td>14.040934</td>\n",
       "      <td>NaN</td>\n",
       "      <td>9166764.0</td>\n",
       "      <td>796042</td>\n",
       "      <td>8370722</td>\n",
       "      <td>8.684</td>\n",
       "      <td>91.316002</td>\n",
       "      <td>32.742</td>\n",
       "    </tr>\n",
       "    <tr>\n",
       "      <th>2</th>\n",
       "      <td>Afghanistan</td>\n",
       "      <td>AFG</td>\n",
       "      <td>1962</td>\n",
       "      <td>14.315271</td>\n",
       "      <td>NaN</td>\n",
       "      <td>9345868.0</td>\n",
       "      <td>838885</td>\n",
       "      <td>8506983</td>\n",
       "      <td>8.976</td>\n",
       "      <td>91.024002</td>\n",
       "      <td>33.185</td>\n",
       "    </tr>\n",
       "    <tr>\n",
       "      <th>3</th>\n",
       "      <td>Afghanistan</td>\n",
       "      <td>AFG</td>\n",
       "      <td>1963</td>\n",
       "      <td>14.603367</td>\n",
       "      <td>NaN</td>\n",
       "      <td>9533954.0</td>\n",
       "      <td>884370</td>\n",
       "      <td>8649584</td>\n",
       "      <td>9.276</td>\n",
       "      <td>90.723999</td>\n",
       "      <td>33.624</td>\n",
       "    </tr>\n",
       "    <tr>\n",
       "      <th>4</th>\n",
       "      <td>Afghanistan</td>\n",
       "      <td>AFG</td>\n",
       "      <td>1964</td>\n",
       "      <td>14.905739</td>\n",
       "      <td>NaN</td>\n",
       "      <td>9731361.0</td>\n",
       "      <td>932848</td>\n",
       "      <td>8798513</td>\n",
       "      <td>9.586</td>\n",
       "      <td>90.414001</td>\n",
       "      <td>34.060</td>\n",
       "    </tr>\n",
       "  </tbody>\n",
       "</table>\n",
       "</div>"
      ],
      "text/plain": [
       "        Entity Code  Year  Population density (people per km² of land area)  \\\n",
       "0  Afghanistan  AFG  1960                                               NaN   \n",
       "1  Afghanistan  AFG  1961                                         14.040934   \n",
       "2  Afghanistan  AFG  1962                                         14.315271   \n",
       "3  Afghanistan  AFG  1963                                         14.603367   \n",
       "4  Afghanistan  AFG  1964                                         14.905739   \n",
       "\n",
       "   GDP per capita (constant 2011 international $)  \\\n",
       "0                                             NaN   \n",
       "1                                             NaN   \n",
       "2                                             NaN   \n",
       "3                                             NaN   \n",
       "4                                             NaN   \n",
       "\n",
       "   Total population (Gapminder)  Urban population  Rural population  \\\n",
       "0                     8996351.0            755783           8240568   \n",
       "1                     9166764.0            796042           8370722   \n",
       "2                     9345868.0            838885           8506983   \n",
       "3                     9533954.0            884370           8649584   \n",
       "4                     9731361.0            932848           8798513   \n",
       "\n",
       "   Urban (%)  Rural (%)  Life expectancy at birth, total (years) (years)  \n",
       "0      8.401  91.598999                                           32.292  \n",
       "1      8.684  91.316002                                           32.742  \n",
       "2      8.976  91.024002                                           33.185  \n",
       "3      9.276  90.723999                                           33.624  \n",
       "4      9.586  90.414001                                           34.060  "
      ]
     },
     "execution_count": 111,
     "metadata": {},
     "output_type": "execute_result"
    }
   ],
   "source": [
    "#merged_data.head()"
   ]
  },
  {
   "cell_type": "code",
   "execution_count": 112,
   "metadata": {},
   "outputs": [
    {
     "data": {
      "text/plain": [
       "(2280, 12)"
      ]
     },
     "execution_count": 112,
     "metadata": {},
     "output_type": "execute_result"
    }
   ],
   "source": [
    "merged_data = pd.merge(merged_data, median_age, on=[\"Entity\", \"Code\", \"Year\"])\n",
    "merged_data.shape"
   ]
  },
  {
   "cell_type": "code",
   "execution_count": 113,
   "metadata": {},
   "outputs": [
    {
     "data": {
      "text/html": [
       "<div>\n",
       "<style scoped>\n",
       "    .dataframe tbody tr th:only-of-type {\n",
       "        vertical-align: middle;\n",
       "    }\n",
       "\n",
       "    .dataframe tbody tr th {\n",
       "        vertical-align: top;\n",
       "    }\n",
       "\n",
       "    .dataframe thead th {\n",
       "        text-align: right;\n",
       "    }\n",
       "</style>\n",
       "<table border=\"1\" class=\"dataframe\">\n",
       "  <thead>\n",
       "    <tr style=\"text-align: right;\">\n",
       "      <th></th>\n",
       "      <th>Entity</th>\n",
       "      <th>Code</th>\n",
       "      <th>Year</th>\n",
       "      <th>pop_density</th>\n",
       "      <th>gdp</th>\n",
       "      <th>total_pop</th>\n",
       "      <th>urban_pop</th>\n",
       "      <th>rural_pop</th>\n",
       "      <th>urban_pct</th>\n",
       "      <th>rural_pct</th>\n",
       "      <th>life_expectancy</th>\n",
       "      <th>median_age</th>\n",
       "    </tr>\n",
       "  </thead>\n",
       "  <tbody>\n",
       "    <tr>\n",
       "      <th>0</th>\n",
       "      <td>Afghanistan</td>\n",
       "      <td>AFG</td>\n",
       "      <td>1960</td>\n",
       "      <td>NaN</td>\n",
       "      <td>NaN</td>\n",
       "      <td>8996351.0</td>\n",
       "      <td>755783</td>\n",
       "      <td>8240568</td>\n",
       "      <td>8.401</td>\n",
       "      <td>91.598999</td>\n",
       "      <td>32.292</td>\n",
       "      <td>18.799999</td>\n",
       "    </tr>\n",
       "    <tr>\n",
       "      <th>1</th>\n",
       "      <td>Afghanistan</td>\n",
       "      <td>AFG</td>\n",
       "      <td>1965</td>\n",
       "      <td>15.222887</td>\n",
       "      <td>NaN</td>\n",
       "      <td>9938414.0</td>\n",
       "      <td>984301</td>\n",
       "      <td>8954113</td>\n",
       "      <td>9.904</td>\n",
       "      <td>90.096001</td>\n",
       "      <td>34.495</td>\n",
       "      <td>18.400000</td>\n",
       "    </tr>\n",
       "    <tr>\n",
       "      <th>2</th>\n",
       "      <td>Afghanistan</td>\n",
       "      <td>AFG</td>\n",
       "      <td>1970</td>\n",
       "      <td>17.042127</td>\n",
       "      <td>NaN</td>\n",
       "      <td>11126123.0</td>\n",
       "      <td>1295415</td>\n",
       "      <td>9830708</td>\n",
       "      <td>11.643</td>\n",
       "      <td>88.357002</td>\n",
       "      <td>36.678</td>\n",
       "      <td>17.900000</td>\n",
       "    </tr>\n",
       "    <tr>\n",
       "      <th>3</th>\n",
       "      <td>Afghanistan</td>\n",
       "      <td>AFG</td>\n",
       "      <td>1975</td>\n",
       "      <td>19.284818</td>\n",
       "      <td>NaN</td>\n",
       "      <td>12590286.0</td>\n",
       "      <td>1717441</td>\n",
       "      <td>10872845</td>\n",
       "      <td>13.641</td>\n",
       "      <td>86.359001</td>\n",
       "      <td>39.039</td>\n",
       "      <td>17.400000</td>\n",
       "    </tr>\n",
       "    <tr>\n",
       "      <th>4</th>\n",
       "      <td>Afghanistan</td>\n",
       "      <td>AFG</td>\n",
       "      <td>1980</td>\n",
       "      <td>20.292819</td>\n",
       "      <td>NaN</td>\n",
       "      <td>13248370.0</td>\n",
       "      <td>2119077</td>\n",
       "      <td>11129293</td>\n",
       "      <td>15.995</td>\n",
       "      <td>84.004997</td>\n",
       "      <td>41.853</td>\n",
       "      <td>17.000000</td>\n",
       "    </tr>\n",
       "  </tbody>\n",
       "</table>\n",
       "</div>"
      ],
      "text/plain": [
       "        Entity Code  Year  pop_density  gdp   total_pop  urban_pop  rural_pop  \\\n",
       "0  Afghanistan  AFG  1960          NaN  NaN   8996351.0     755783    8240568   \n",
       "1  Afghanistan  AFG  1965    15.222887  NaN   9938414.0     984301    8954113   \n",
       "2  Afghanistan  AFG  1970    17.042127  NaN  11126123.0    1295415    9830708   \n",
       "3  Afghanistan  AFG  1975    19.284818  NaN  12590286.0    1717441   10872845   \n",
       "4  Afghanistan  AFG  1980    20.292819  NaN  13248370.0    2119077   11129293   \n",
       "\n",
       "   urban_pct  rural_pct  life_expectancy  median_age  \n",
       "0      8.401  91.598999           32.292   18.799999  \n",
       "1      9.904  90.096001           34.495   18.400000  \n",
       "2     11.643  88.357002           36.678   17.900000  \n",
       "3     13.641  86.359001           39.039   17.400000  \n",
       "4     15.995  84.004997           41.853   17.000000  "
      ]
     },
     "execution_count": 113,
     "metadata": {},
     "output_type": "execute_result"
    }
   ],
   "source": [
    "#Format columns\n",
    "merged_data = merged_data.rename(columns={\"Population density (people per km² of land area)\": \"pop_density\",\n",
    "                                          \"GDP per capita (constant 2011 international $)\" : \"gdp\",\n",
    "                                         \"Total population (Gapminder)\": \"total_pop\",\n",
    "                                         \"Urban population\": \"urban_pop\",\n",
    "                                         \"Rural population\": \"rural_pop\",\n",
    "                                         \"Urban (%)\":\"urban_pct\",\n",
    "                                         \"Rural (%)\": \"rural_pct\",\n",
    "                                         \"Life expectancy at birth, total (years) (years)\":\"life_expectancy\",\n",
    "                                         \"UN Population Division (Median Age) (2017) (years)\":\"median_age\"})\n",
    "#merged_data.head()"
   ]
  },
  {
   "cell_type": "code",
   "execution_count": 114,
   "metadata": {},
   "outputs": [
    {
     "data": {
      "text/plain": [
       "(127, 8)"
      ]
     },
     "execution_count": 114,
     "metadata": {},
     "output_type": "execute_result"
    }
   ],
   "source": [
    "hoefstede.shape"
   ]
  },
  {
   "cell_type": "code",
   "execution_count": 115,
   "metadata": {},
   "outputs": [
    {
     "data": {
      "text/html": [
       "<div>\n",
       "<style scoped>\n",
       "    .dataframe tbody tr th:only-of-type {\n",
       "        vertical-align: middle;\n",
       "    }\n",
       "\n",
       "    .dataframe tbody tr th {\n",
       "        vertical-align: top;\n",
       "    }\n",
       "\n",
       "    .dataframe thead th {\n",
       "        text-align: right;\n",
       "    }\n",
       "</style>\n",
       "<table border=\"1\" class=\"dataframe\">\n",
       "  <thead>\n",
       "    <tr style=\"text-align: right;\">\n",
       "      <th></th>\n",
       "      <th>ctr</th>\n",
       "      <th>country</th>\n",
       "      <th>pdi</th>\n",
       "      <th>idv</th>\n",
       "      <th>mas</th>\n",
       "      <th>uai</th>\n",
       "      <th>ltowvs</th>\n",
       "      <th>ivr</th>\n",
       "    </tr>\n",
       "  </thead>\n",
       "  <tbody>\n",
       "    <tr>\n",
       "      <th>0</th>\n",
       "      <td>GTM</td>\n",
       "      <td>Guatemala</td>\n",
       "      <td>95.0</td>\n",
       "      <td>6.0</td>\n",
       "      <td>37.0</td>\n",
       "      <td>101.0</td>\n",
       "      <td>NaN</td>\n",
       "      <td>NaN</td>\n",
       "    </tr>\n",
       "    <tr>\n",
       "      <th>1</th>\n",
       "      <td>ECU</td>\n",
       "      <td>Ecuador</td>\n",
       "      <td>78.0</td>\n",
       "      <td>8.0</td>\n",
       "      <td>63.0</td>\n",
       "      <td>67.0</td>\n",
       "      <td>NaN</td>\n",
       "      <td>NaN</td>\n",
       "    </tr>\n",
       "    <tr>\n",
       "      <th>2</th>\n",
       "      <td>PAN</td>\n",
       "      <td>Panama</td>\n",
       "      <td>95.0</td>\n",
       "      <td>11.0</td>\n",
       "      <td>44.0</td>\n",
       "      <td>86.0</td>\n",
       "      <td>NaN</td>\n",
       "      <td>NaN</td>\n",
       "    </tr>\n",
       "    <tr>\n",
       "      <th>3</th>\n",
       "      <td>VEN</td>\n",
       "      <td>Venezuela</td>\n",
       "      <td>81.0</td>\n",
       "      <td>12.0</td>\n",
       "      <td>73.0</td>\n",
       "      <td>76.0</td>\n",
       "      <td>16.0</td>\n",
       "      <td>100.0</td>\n",
       "    </tr>\n",
       "    <tr>\n",
       "      <th>4</th>\n",
       "      <td>COL</td>\n",
       "      <td>Colombia</td>\n",
       "      <td>67.0</td>\n",
       "      <td>13.0</td>\n",
       "      <td>64.0</td>\n",
       "      <td>80.0</td>\n",
       "      <td>13.0</td>\n",
       "      <td>83.0</td>\n",
       "    </tr>\n",
       "  </tbody>\n",
       "</table>\n",
       "</div>"
      ],
      "text/plain": [
       "   ctr    country   pdi   idv   mas    uai  ltowvs    ivr\n",
       "0  GTM  Guatemala  95.0   6.0  37.0  101.0     NaN    NaN\n",
       "1  ECU    Ecuador  78.0   8.0  63.0   67.0     NaN    NaN\n",
       "2  PAN     Panama  95.0  11.0  44.0   86.0     NaN    NaN\n",
       "3  VEN  Venezuela  81.0  12.0  73.0   76.0    16.0  100.0\n",
       "4  COL   Colombia  67.0  13.0  64.0   80.0    13.0   83.0"
      ]
     },
     "execution_count": 115,
     "metadata": {},
     "output_type": "execute_result"
    }
   ],
   "source": [
    "#hoefstede.head()"
   ]
  },
  {
   "cell_type": "code",
   "execution_count": 116,
   "metadata": {},
   "outputs": [
    {
     "data": {
      "text/html": [
       "<div>\n",
       "<style scoped>\n",
       "    .dataframe tbody tr th:only-of-type {\n",
       "        vertical-align: middle;\n",
       "    }\n",
       "\n",
       "    .dataframe tbody tr th {\n",
       "        vertical-align: top;\n",
       "    }\n",
       "\n",
       "    .dataframe thead th {\n",
       "        text-align: right;\n",
       "    }\n",
       "</style>\n",
       "<table border=\"1\" class=\"dataframe\">\n",
       "  <thead>\n",
       "    <tr style=\"text-align: right;\">\n",
       "      <th></th>\n",
       "      <th>Code</th>\n",
       "      <th>Entity</th>\n",
       "      <th>pdi</th>\n",
       "      <th>idv</th>\n",
       "      <th>mas</th>\n",
       "      <th>uai</th>\n",
       "      <th>ltowvs</th>\n",
       "      <th>ivr</th>\n",
       "    </tr>\n",
       "  </thead>\n",
       "  <tbody>\n",
       "    <tr>\n",
       "      <th>0</th>\n",
       "      <td>GTM</td>\n",
       "      <td>Guatemala</td>\n",
       "      <td>95.0</td>\n",
       "      <td>6.0</td>\n",
       "      <td>37.0</td>\n",
       "      <td>101.0</td>\n",
       "      <td>NaN</td>\n",
       "      <td>NaN</td>\n",
       "    </tr>\n",
       "    <tr>\n",
       "      <th>1</th>\n",
       "      <td>ECU</td>\n",
       "      <td>Ecuador</td>\n",
       "      <td>78.0</td>\n",
       "      <td>8.0</td>\n",
       "      <td>63.0</td>\n",
       "      <td>67.0</td>\n",
       "      <td>NaN</td>\n",
       "      <td>NaN</td>\n",
       "    </tr>\n",
       "    <tr>\n",
       "      <th>2</th>\n",
       "      <td>PAN</td>\n",
       "      <td>Panama</td>\n",
       "      <td>95.0</td>\n",
       "      <td>11.0</td>\n",
       "      <td>44.0</td>\n",
       "      <td>86.0</td>\n",
       "      <td>NaN</td>\n",
       "      <td>NaN</td>\n",
       "    </tr>\n",
       "    <tr>\n",
       "      <th>3</th>\n",
       "      <td>VEN</td>\n",
       "      <td>Venezuela</td>\n",
       "      <td>81.0</td>\n",
       "      <td>12.0</td>\n",
       "      <td>73.0</td>\n",
       "      <td>76.0</td>\n",
       "      <td>16.0</td>\n",
       "      <td>100.0</td>\n",
       "    </tr>\n",
       "    <tr>\n",
       "      <th>4</th>\n",
       "      <td>COL</td>\n",
       "      <td>Colombia</td>\n",
       "      <td>67.0</td>\n",
       "      <td>13.0</td>\n",
       "      <td>64.0</td>\n",
       "      <td>80.0</td>\n",
       "      <td>13.0</td>\n",
       "      <td>83.0</td>\n",
       "    </tr>\n",
       "  </tbody>\n",
       "</table>\n",
       "</div>"
      ],
      "text/plain": [
       "  Code     Entity   pdi   idv   mas    uai  ltowvs    ivr\n",
       "0  GTM  Guatemala  95.0   6.0  37.0  101.0     NaN    NaN\n",
       "1  ECU    Ecuador  78.0   8.0  63.0   67.0     NaN    NaN\n",
       "2  PAN     Panama  95.0  11.0  44.0   86.0     NaN    NaN\n",
       "3  VEN  Venezuela  81.0  12.0  73.0   76.0    16.0  100.0\n",
       "4  COL   Colombia  67.0  13.0  64.0   80.0    13.0   83.0"
      ]
     },
     "execution_count": 116,
     "metadata": {},
     "output_type": "execute_result"
    }
   ],
   "source": [
    "hoefstede = hoefstede.rename(columns={\"ctr\": \"Code\",\n",
    "                                          \"country\" : \"Entity\"})\n",
    "#hoefstede.head()"
   ]
  },
  {
   "cell_type": "code",
   "execution_count": 117,
   "metadata": {},
   "outputs": [
    {
     "data": {
      "text/plain": [
       "(12768, 5)"
      ]
     },
     "execution_count": 117,
     "metadata": {},
     "output_type": "execute_result"
    }
   ],
   "source": [
    "covid_data.shape"
   ]
  },
  {
   "cell_type": "code",
   "execution_count": 118,
   "metadata": {},
   "outputs": [
    {
     "data": {
      "text/html": [
       "<div>\n",
       "<style scoped>\n",
       "    .dataframe tbody tr th:only-of-type {\n",
       "        vertical-align: middle;\n",
       "    }\n",
       "\n",
       "    .dataframe tbody tr th {\n",
       "        vertical-align: top;\n",
       "    }\n",
       "\n",
       "    .dataframe thead th {\n",
       "        text-align: right;\n",
       "    }\n",
       "</style>\n",
       "<table border=\"1\" class=\"dataframe\">\n",
       "  <thead>\n",
       "    <tr style=\"text-align: right;\">\n",
       "      <th></th>\n",
       "      <th>Entity_x</th>\n",
       "      <th>Code</th>\n",
       "      <th>Year</th>\n",
       "      <th>pop_density</th>\n",
       "      <th>gdp</th>\n",
       "      <th>total_pop</th>\n",
       "      <th>urban_pop</th>\n",
       "      <th>rural_pop</th>\n",
       "      <th>urban_pct</th>\n",
       "      <th>rural_pct</th>\n",
       "      <th>life_expectancy</th>\n",
       "      <th>median_age</th>\n",
       "      <th>Entity_y</th>\n",
       "      <th>pdi</th>\n",
       "      <th>idv</th>\n",
       "      <th>mas</th>\n",
       "      <th>uai</th>\n",
       "      <th>ltowvs</th>\n",
       "      <th>ivr</th>\n",
       "    </tr>\n",
       "  </thead>\n",
       "  <tbody>\n",
       "    <tr>\n",
       "      <th>0</th>\n",
       "      <td>Albania</td>\n",
       "      <td>ALB</td>\n",
       "      <td>1960</td>\n",
       "      <td>NaN</td>\n",
       "      <td>NaN</td>\n",
       "      <td>1636056.0</td>\n",
       "      <td>493982</td>\n",
       "      <td>1114818</td>\n",
       "      <td>30.705</td>\n",
       "      <td>69.294998</td>\n",
       "      <td>62.279</td>\n",
       "      <td>20.200001</td>\n",
       "      <td>Albania</td>\n",
       "      <td>90.0</td>\n",
       "      <td>20.0</td>\n",
       "      <td>80.0</td>\n",
       "      <td>70.0</td>\n",
       "      <td>61.0</td>\n",
       "      <td>15.0</td>\n",
       "    </tr>\n",
       "    <tr>\n",
       "      <th>1</th>\n",
       "      <td>Albania</td>\n",
       "      <td>ALB</td>\n",
       "      <td>1965</td>\n",
       "      <td>68.058066</td>\n",
       "      <td>NaN</td>\n",
       "      <td>1896125.0</td>\n",
       "      <td>582374</td>\n",
       "      <td>1282417</td>\n",
       "      <td>31.230</td>\n",
       "      <td>68.769997</td>\n",
       "      <td>65.848</td>\n",
       "      <td>19.700001</td>\n",
       "      <td>Albania</td>\n",
       "      <td>90.0</td>\n",
       "      <td>20.0</td>\n",
       "      <td>80.0</td>\n",
       "      <td>70.0</td>\n",
       "      <td>61.0</td>\n",
       "      <td>15.0</td>\n",
       "    </tr>\n",
       "    <tr>\n",
       "      <th>2</th>\n",
       "      <td>Albania</td>\n",
       "      <td>ALB</td>\n",
       "      <td>1970</td>\n",
       "      <td>77.937190</td>\n",
       "      <td>NaN</td>\n",
       "      <td>2150598.0</td>\n",
       "      <td>677801</td>\n",
       "      <td>1457678</td>\n",
       "      <td>31.740</td>\n",
       "      <td>68.260002</td>\n",
       "      <td>66.933</td>\n",
       "      <td>19.600000</td>\n",
       "      <td>Albania</td>\n",
       "      <td>90.0</td>\n",
       "      <td>20.0</td>\n",
       "      <td>80.0</td>\n",
       "      <td>70.0</td>\n",
       "      <td>61.0</td>\n",
       "      <td>15.0</td>\n",
       "    </tr>\n",
       "    <tr>\n",
       "      <th>3</th>\n",
       "      <td>Albania</td>\n",
       "      <td>ALB</td>\n",
       "      <td>1975</td>\n",
       "      <td>87.767555</td>\n",
       "      <td>NaN</td>\n",
       "      <td>2411229.0</td>\n",
       "      <td>786668</td>\n",
       "      <td>1618163</td>\n",
       "      <td>32.712</td>\n",
       "      <td>67.288002</td>\n",
       "      <td>68.734</td>\n",
       "      <td>20.200001</td>\n",
       "      <td>Albania</td>\n",
       "      <td>90.0</td>\n",
       "      <td>20.0</td>\n",
       "      <td>80.0</td>\n",
       "      <td>70.0</td>\n",
       "      <td>61.0</td>\n",
       "      <td>15.0</td>\n",
       "    </tr>\n",
       "    <tr>\n",
       "      <th>4</th>\n",
       "      <td>Albania</td>\n",
       "      <td>ALB</td>\n",
       "      <td>1980</td>\n",
       "      <td>97.518139</td>\n",
       "      <td>NaN</td>\n",
       "      <td>2681239.0</td>\n",
       "      <td>902120</td>\n",
       "      <td>1769877</td>\n",
       "      <td>33.762</td>\n",
       "      <td>66.237999</td>\n",
       "      <td>70.207</td>\n",
       "      <td>21.400000</td>\n",
       "      <td>Albania</td>\n",
       "      <td>90.0</td>\n",
       "      <td>20.0</td>\n",
       "      <td>80.0</td>\n",
       "      <td>70.0</td>\n",
       "      <td>61.0</td>\n",
       "      <td>15.0</td>\n",
       "    </tr>\n",
       "  </tbody>\n",
       "</table>\n",
       "</div>"
      ],
      "text/plain": [
       "  Entity_x Code  Year  pop_density  gdp  total_pop  urban_pop  rural_pop  \\\n",
       "0  Albania  ALB  1960          NaN  NaN  1636056.0     493982    1114818   \n",
       "1  Albania  ALB  1965    68.058066  NaN  1896125.0     582374    1282417   \n",
       "2  Albania  ALB  1970    77.937190  NaN  2150598.0     677801    1457678   \n",
       "3  Albania  ALB  1975    87.767555  NaN  2411229.0     786668    1618163   \n",
       "4  Albania  ALB  1980    97.518139  NaN  2681239.0     902120    1769877   \n",
       "\n",
       "   urban_pct  rural_pct  life_expectancy  median_age Entity_y   pdi   idv  \\\n",
       "0     30.705  69.294998           62.279   20.200001  Albania  90.0  20.0   \n",
       "1     31.230  68.769997           65.848   19.700001  Albania  90.0  20.0   \n",
       "2     31.740  68.260002           66.933   19.600000  Albania  90.0  20.0   \n",
       "3     32.712  67.288002           68.734   20.200001  Albania  90.0  20.0   \n",
       "4     33.762  66.237999           70.207   21.400000  Albania  90.0  20.0   \n",
       "\n",
       "    mas   uai  ltowvs   ivr  \n",
       "0  80.0  70.0    61.0  15.0  \n",
       "1  80.0  70.0    61.0  15.0  \n",
       "2  80.0  70.0    61.0  15.0  \n",
       "3  80.0  70.0    61.0  15.0  \n",
       "4  80.0  70.0    61.0  15.0  "
      ]
     },
     "execution_count": 118,
     "metadata": {},
     "output_type": "execute_result"
    }
   ],
   "source": [
    "merged_data = pd.merge(merged_data, hoefstede, on=[ \"Code\"])\n",
    "#merged_data.head()"
   ]
  },
  {
   "cell_type": "code",
   "execution_count": 119,
   "metadata": {},
   "outputs": [
    {
     "data": {
      "text/plain": [
       "(1381, 19)"
      ]
     },
     "execution_count": 119,
     "metadata": {},
     "output_type": "execute_result"
    }
   ],
   "source": [
    "merged_data.shape"
   ]
  },
  {
   "cell_type": "code",
   "execution_count": 120,
   "metadata": {},
   "outputs": [
    {
     "data": {
      "text/plain": [
       "2015"
      ]
     },
     "execution_count": 120,
     "metadata": {},
     "output_type": "execute_result"
    }
   ],
   "source": [
    "merged_data['Year'].max()"
   ]
  },
  {
   "cell_type": "code",
   "execution_count": 121,
   "metadata": {},
   "outputs": [
    {
     "data": {
      "text/html": [
       "<div>\n",
       "<style scoped>\n",
       "    .dataframe tbody tr th:only-of-type {\n",
       "        vertical-align: middle;\n",
       "    }\n",
       "\n",
       "    .dataframe tbody tr th {\n",
       "        vertical-align: top;\n",
       "    }\n",
       "\n",
       "    .dataframe thead th {\n",
       "        text-align: right;\n",
       "    }\n",
       "</style>\n",
       "<table border=\"1\" class=\"dataframe\">\n",
       "  <thead>\n",
       "    <tr style=\"text-align: right;\">\n",
       "      <th></th>\n",
       "      <th>Entity_x</th>\n",
       "      <th>Code</th>\n",
       "      <th>Year</th>\n",
       "      <th>pop_density</th>\n",
       "      <th>gdp</th>\n",
       "      <th>total_pop</th>\n",
       "      <th>urban_pop</th>\n",
       "      <th>rural_pop</th>\n",
       "      <th>urban_pct</th>\n",
       "      <th>rural_pct</th>\n",
       "      <th>life_expectancy</th>\n",
       "      <th>median_age</th>\n",
       "      <th>Entity_y</th>\n",
       "      <th>pdi</th>\n",
       "      <th>idv</th>\n",
       "      <th>mas</th>\n",
       "      <th>uai</th>\n",
       "      <th>ltowvs</th>\n",
       "      <th>ivr</th>\n",
       "    </tr>\n",
       "  </thead>\n",
       "  <tbody>\n",
       "    <tr>\n",
       "      <th>11</th>\n",
       "      <td>Albania</td>\n",
       "      <td>ALB</td>\n",
       "      <td>2015</td>\n",
       "      <td>105.135146</td>\n",
       "      <td>10970.452245</td>\n",
       "      <td>2923352.0</td>\n",
       "      <td>1654503</td>\n",
       "      <td>1226200</td>\n",
       "      <td>57.434</td>\n",
       "      <td>42.566002</td>\n",
       "      <td>78.174</td>\n",
       "      <td>36.200001</td>\n",
       "      <td>Albania</td>\n",
       "      <td>90.0</td>\n",
       "      <td>20.0</td>\n",
       "      <td>80.0</td>\n",
       "      <td>70.0</td>\n",
       "      <td>61.0</td>\n",
       "      <td>15.0</td>\n",
       "    </tr>\n",
       "    <tr>\n",
       "      <th>23</th>\n",
       "      <td>Algeria</td>\n",
       "      <td>DZA</td>\n",
       "      <td>2015</td>\n",
       "      <td>16.740504</td>\n",
       "      <td>13724.723853</td>\n",
       "      <td>39871528.0</td>\n",
       "      <td>28248180</td>\n",
       "      <td>11623348</td>\n",
       "      <td>70.848</td>\n",
       "      <td>29.152000</td>\n",
       "      <td>75.860</td>\n",
       "      <td>27.500000</td>\n",
       "      <td>Algeria</td>\n",
       "      <td>NaN</td>\n",
       "      <td>NaN</td>\n",
       "      <td>NaN</td>\n",
       "      <td>NaN</td>\n",
       "      <td>26.0</td>\n",
       "      <td>32.0</td>\n",
       "    </tr>\n",
       "    <tr>\n",
       "      <th>35</th>\n",
       "      <td>Angola</td>\n",
       "      <td>AGO</td>\n",
       "      <td>2015</td>\n",
       "      <td>22.346439</td>\n",
       "      <td>6227.664689</td>\n",
       "      <td>27859305.0</td>\n",
       "      <td>17675615</td>\n",
       "      <td>10183690</td>\n",
       "      <td>63.446</td>\n",
       "      <td>36.554001</td>\n",
       "      <td>61.241</td>\n",
       "      <td>16.400000</td>\n",
       "      <td>Angola</td>\n",
       "      <td>83.0</td>\n",
       "      <td>18.0</td>\n",
       "      <td>20.0</td>\n",
       "      <td>60.0</td>\n",
       "      <td>15.0</td>\n",
       "      <td>83.0</td>\n",
       "    </tr>\n",
       "    <tr>\n",
       "      <th>47</th>\n",
       "      <td>Argentina</td>\n",
       "      <td>ARG</td>\n",
       "      <td>2015</td>\n",
       "      <td>15.865065</td>\n",
       "      <td>19116.907915</td>\n",
       "      <td>43417765.0</td>\n",
       "      <td>39728558</td>\n",
       "      <td>3689207</td>\n",
       "      <td>91.503</td>\n",
       "      <td>8.497000</td>\n",
       "      <td>76.415</td>\n",
       "      <td>30.799999</td>\n",
       "      <td>Argentina</td>\n",
       "      <td>49.0</td>\n",
       "      <td>46.0</td>\n",
       "      <td>56.0</td>\n",
       "      <td>86.0</td>\n",
       "      <td>20.0</td>\n",
       "      <td>62.0</td>\n",
       "    </tr>\n",
       "    <tr>\n",
       "      <th>59</th>\n",
       "      <td>Armenia</td>\n",
       "      <td>ARM</td>\n",
       "      <td>2015</td>\n",
       "      <td>102.456972</td>\n",
       "      <td>8195.933650</td>\n",
       "      <td>2916950.0</td>\n",
       "      <td>1840158</td>\n",
       "      <td>1076792</td>\n",
       "      <td>63.085</td>\n",
       "      <td>36.915001</td>\n",
       "      <td>74.445</td>\n",
       "      <td>33.900002</td>\n",
       "      <td>Armenia</td>\n",
       "      <td>NaN</td>\n",
       "      <td>NaN</td>\n",
       "      <td>NaN</td>\n",
       "      <td>NaN</td>\n",
       "      <td>61.0</td>\n",
       "      <td>NaN</td>\n",
       "    </tr>\n",
       "  </tbody>\n",
       "</table>\n",
       "</div>"
      ],
      "text/plain": [
       "     Entity_x Code  Year  pop_density           gdp   total_pop  urban_pop  \\\n",
       "11    Albania  ALB  2015   105.135146  10970.452245   2923352.0    1654503   \n",
       "23    Algeria  DZA  2015    16.740504  13724.723853  39871528.0   28248180   \n",
       "35     Angola  AGO  2015    22.346439   6227.664689  27859305.0   17675615   \n",
       "47  Argentina  ARG  2015    15.865065  19116.907915  43417765.0   39728558   \n",
       "59    Armenia  ARM  2015   102.456972   8195.933650   2916950.0    1840158   \n",
       "\n",
       "    rural_pop  urban_pct  rural_pct  life_expectancy  median_age   Entity_y  \\\n",
       "11    1226200     57.434  42.566002           78.174   36.200001    Albania   \n",
       "23   11623348     70.848  29.152000           75.860   27.500000    Algeria   \n",
       "35   10183690     63.446  36.554001           61.241   16.400000     Angola   \n",
       "47    3689207     91.503   8.497000           76.415   30.799999  Argentina   \n",
       "59    1076792     63.085  36.915001           74.445   33.900002    Armenia   \n",
       "\n",
       "     pdi   idv   mas   uai  ltowvs   ivr  \n",
       "11  90.0  20.0  80.0  70.0    61.0  15.0  \n",
       "23   NaN   NaN   NaN   NaN    26.0  32.0  \n",
       "35  83.0  18.0  20.0  60.0    15.0  83.0  \n",
       "47  49.0  46.0  56.0  86.0    20.0  62.0  \n",
       "59   NaN   NaN   NaN   NaN    61.0   NaN  "
      ]
     },
     "execution_count": 121,
     "metadata": {},
     "output_type": "execute_result"
    }
   ],
   "source": [
    "merged_data = merged_data[merged_data[\"Year\"] == 2015]\n",
    "#merged_data.head()"
   ]
  },
  {
   "cell_type": "code",
   "execution_count": 122,
   "metadata": {},
   "outputs": [],
   "source": [
    "merged_data.drop(['Entity_y','Year'], axis=1,inplace=True)"
   ]
  },
  {
   "cell_type": "code",
   "execution_count": 123,
   "metadata": {},
   "outputs": [],
   "source": [
    "merged_data = merged_data.rename(columns={\"Entity_x\": \"Entity\"})"
   ]
  },
  {
   "cell_type": "code",
   "execution_count": 124,
   "metadata": {},
   "outputs": [
    {
     "data": {
      "text/html": [
       "<div>\n",
       "<style scoped>\n",
       "    .dataframe tbody tr th:only-of-type {\n",
       "        vertical-align: middle;\n",
       "    }\n",
       "\n",
       "    .dataframe tbody tr th {\n",
       "        vertical-align: top;\n",
       "    }\n",
       "\n",
       "    .dataframe thead th {\n",
       "        text-align: right;\n",
       "    }\n",
       "</style>\n",
       "<table border=\"1\" class=\"dataframe\">\n",
       "  <thead>\n",
       "    <tr style=\"text-align: right;\">\n",
       "      <th></th>\n",
       "      <th>Entity</th>\n",
       "      <th>Code</th>\n",
       "      <th>pop_density</th>\n",
       "      <th>gdp</th>\n",
       "      <th>total_pop</th>\n",
       "      <th>urban_pop</th>\n",
       "      <th>rural_pop</th>\n",
       "      <th>urban_pct</th>\n",
       "      <th>rural_pct</th>\n",
       "      <th>life_expectancy</th>\n",
       "      <th>median_age</th>\n",
       "      <th>pdi</th>\n",
       "      <th>idv</th>\n",
       "      <th>mas</th>\n",
       "      <th>uai</th>\n",
       "      <th>ltowvs</th>\n",
       "      <th>ivr</th>\n",
       "    </tr>\n",
       "  </thead>\n",
       "  <tbody>\n",
       "    <tr>\n",
       "      <th>11</th>\n",
       "      <td>Albania</td>\n",
       "      <td>ALB</td>\n",
       "      <td>105.135146</td>\n",
       "      <td>10970.452245</td>\n",
       "      <td>2923352.0</td>\n",
       "      <td>1654503</td>\n",
       "      <td>1226200</td>\n",
       "      <td>57.434</td>\n",
       "      <td>42.566002</td>\n",
       "      <td>78.174</td>\n",
       "      <td>36.200001</td>\n",
       "      <td>90.0</td>\n",
       "      <td>20.0</td>\n",
       "      <td>80.0</td>\n",
       "      <td>70.0</td>\n",
       "      <td>61.0</td>\n",
       "      <td>15.0</td>\n",
       "    </tr>\n",
       "    <tr>\n",
       "      <th>23</th>\n",
       "      <td>Algeria</td>\n",
       "      <td>DZA</td>\n",
       "      <td>16.740504</td>\n",
       "      <td>13724.723853</td>\n",
       "      <td>39871528.0</td>\n",
       "      <td>28248180</td>\n",
       "      <td>11623348</td>\n",
       "      <td>70.848</td>\n",
       "      <td>29.152000</td>\n",
       "      <td>75.860</td>\n",
       "      <td>27.500000</td>\n",
       "      <td>NaN</td>\n",
       "      <td>NaN</td>\n",
       "      <td>NaN</td>\n",
       "      <td>NaN</td>\n",
       "      <td>26.0</td>\n",
       "      <td>32.0</td>\n",
       "    </tr>\n",
       "    <tr>\n",
       "      <th>35</th>\n",
       "      <td>Angola</td>\n",
       "      <td>AGO</td>\n",
       "      <td>22.346439</td>\n",
       "      <td>6227.664689</td>\n",
       "      <td>27859305.0</td>\n",
       "      <td>17675615</td>\n",
       "      <td>10183690</td>\n",
       "      <td>63.446</td>\n",
       "      <td>36.554001</td>\n",
       "      <td>61.241</td>\n",
       "      <td>16.400000</td>\n",
       "      <td>83.0</td>\n",
       "      <td>18.0</td>\n",
       "      <td>20.0</td>\n",
       "      <td>60.0</td>\n",
       "      <td>15.0</td>\n",
       "      <td>83.0</td>\n",
       "    </tr>\n",
       "    <tr>\n",
       "      <th>47</th>\n",
       "      <td>Argentina</td>\n",
       "      <td>ARG</td>\n",
       "      <td>15.865065</td>\n",
       "      <td>19116.907915</td>\n",
       "      <td>43417765.0</td>\n",
       "      <td>39728558</td>\n",
       "      <td>3689207</td>\n",
       "      <td>91.503</td>\n",
       "      <td>8.497000</td>\n",
       "      <td>76.415</td>\n",
       "      <td>30.799999</td>\n",
       "      <td>49.0</td>\n",
       "      <td>46.0</td>\n",
       "      <td>56.0</td>\n",
       "      <td>86.0</td>\n",
       "      <td>20.0</td>\n",
       "      <td>62.0</td>\n",
       "    </tr>\n",
       "    <tr>\n",
       "      <th>59</th>\n",
       "      <td>Armenia</td>\n",
       "      <td>ARM</td>\n",
       "      <td>102.456972</td>\n",
       "      <td>8195.933650</td>\n",
       "      <td>2916950.0</td>\n",
       "      <td>1840158</td>\n",
       "      <td>1076792</td>\n",
       "      <td>63.085</td>\n",
       "      <td>36.915001</td>\n",
       "      <td>74.445</td>\n",
       "      <td>33.900002</td>\n",
       "      <td>NaN</td>\n",
       "      <td>NaN</td>\n",
       "      <td>NaN</td>\n",
       "      <td>NaN</td>\n",
       "      <td>61.0</td>\n",
       "      <td>NaN</td>\n",
       "    </tr>\n",
       "  </tbody>\n",
       "</table>\n",
       "</div>"
      ],
      "text/plain": [
       "       Entity Code  pop_density           gdp   total_pop  urban_pop  \\\n",
       "11    Albania  ALB   105.135146  10970.452245   2923352.0    1654503   \n",
       "23    Algeria  DZA    16.740504  13724.723853  39871528.0   28248180   \n",
       "35     Angola  AGO    22.346439   6227.664689  27859305.0   17675615   \n",
       "47  Argentina  ARG    15.865065  19116.907915  43417765.0   39728558   \n",
       "59    Armenia  ARM   102.456972   8195.933650   2916950.0    1840158   \n",
       "\n",
       "    rural_pop  urban_pct  rural_pct  life_expectancy  median_age   pdi   idv  \\\n",
       "11    1226200     57.434  42.566002           78.174   36.200001  90.0  20.0   \n",
       "23   11623348     70.848  29.152000           75.860   27.500000   NaN   NaN   \n",
       "35   10183690     63.446  36.554001           61.241   16.400000  83.0  18.0   \n",
       "47    3689207     91.503   8.497000           76.415   30.799999  49.0  46.0   \n",
       "59    1076792     63.085  36.915001           74.445   33.900002   NaN   NaN   \n",
       "\n",
       "     mas   uai  ltowvs   ivr  \n",
       "11  80.0  70.0    61.0  15.0  \n",
       "23   NaN   NaN    26.0  32.0  \n",
       "35  20.0  60.0    15.0  83.0  \n",
       "47  56.0  86.0    20.0  62.0  \n",
       "59   NaN   NaN    61.0   NaN  "
      ]
     },
     "execution_count": 124,
     "metadata": {},
     "output_type": "execute_result"
    }
   ],
   "source": [
    "#merged_data.head()"
   ]
  },
  {
   "cell_type": "code",
   "execution_count": 125,
   "metadata": {},
   "outputs": [
    {
     "data": {
      "text/plain": [
       "(116, 17)"
      ]
     },
     "execution_count": 125,
     "metadata": {},
     "output_type": "execute_result"
    }
   ],
   "source": [
    "merged_data.shape"
   ]
  },
  {
   "cell_type": "code",
   "execution_count": 126,
   "metadata": {},
   "outputs": [
    {
     "data": {
      "text/html": [
       "<div>\n",
       "<style scoped>\n",
       "    .dataframe tbody tr th:only-of-type {\n",
       "        vertical-align: middle;\n",
       "    }\n",
       "\n",
       "    .dataframe tbody tr th {\n",
       "        vertical-align: top;\n",
       "    }\n",
       "\n",
       "    .dataframe thead th {\n",
       "        text-align: right;\n",
       "    }\n",
       "</style>\n",
       "<table border=\"1\" class=\"dataframe\">\n",
       "  <thead>\n",
       "    <tr style=\"text-align: right;\">\n",
       "      <th></th>\n",
       "      <th>Entity</th>\n",
       "      <th>Code</th>\n",
       "      <th>Date</th>\n",
       "      <th>(cases)</th>\n",
       "      <th>Number of days since the 100th confirmed case (days)</th>\n",
       "    </tr>\n",
       "  </thead>\n",
       "  <tbody>\n",
       "    <tr>\n",
       "      <th>0</th>\n",
       "      <td>Afghanistan</td>\n",
       "      <td>AFG</td>\n",
       "      <td>2019-12-31</td>\n",
       "      <td>0.0</td>\n",
       "      <td>NaN</td>\n",
       "    </tr>\n",
       "    <tr>\n",
       "      <th>1</th>\n",
       "      <td>Afghanistan</td>\n",
       "      <td>AFG</td>\n",
       "      <td>2020-01-01</td>\n",
       "      <td>0.0</td>\n",
       "      <td>NaN</td>\n",
       "    </tr>\n",
       "    <tr>\n",
       "      <th>2</th>\n",
       "      <td>Afghanistan</td>\n",
       "      <td>AFG</td>\n",
       "      <td>2020-01-02</td>\n",
       "      <td>0.0</td>\n",
       "      <td>NaN</td>\n",
       "    </tr>\n",
       "    <tr>\n",
       "      <th>3</th>\n",
       "      <td>Afghanistan</td>\n",
       "      <td>AFG</td>\n",
       "      <td>2020-01-03</td>\n",
       "      <td>0.0</td>\n",
       "      <td>NaN</td>\n",
       "    </tr>\n",
       "    <tr>\n",
       "      <th>4</th>\n",
       "      <td>Afghanistan</td>\n",
       "      <td>AFG</td>\n",
       "      <td>2020-01-04</td>\n",
       "      <td>0.0</td>\n",
       "      <td>NaN</td>\n",
       "    </tr>\n",
       "  </tbody>\n",
       "</table>\n",
       "</div>"
      ],
      "text/plain": [
       "        Entity Code       Date   (cases)  \\\n",
       "0  Afghanistan  AFG 2019-12-31       0.0   \n",
       "1  Afghanistan  AFG 2020-01-01       0.0   \n",
       "2  Afghanistan  AFG 2020-01-02       0.0   \n",
       "3  Afghanistan  AFG 2020-01-03       0.0   \n",
       "4  Afghanistan  AFG 2020-01-04       0.0   \n",
       "\n",
       "   Number of days since the 100th confirmed case (days)  \n",
       "0                                                NaN     \n",
       "1                                                NaN     \n",
       "2                                                NaN     \n",
       "3                                                NaN     \n",
       "4                                                NaN     "
      ]
     },
     "execution_count": 126,
     "metadata": {},
     "output_type": "execute_result"
    }
   ],
   "source": [
    "#covid_data.head()"
   ]
  },
  {
   "cell_type": "code",
   "execution_count": 127,
   "metadata": {},
   "outputs": [
    {
     "data": {
      "text/html": [
       "<div>\n",
       "<style scoped>\n",
       "    .dataframe tbody tr th:only-of-type {\n",
       "        vertical-align: middle;\n",
       "    }\n",
       "\n",
       "    .dataframe tbody tr th {\n",
       "        vertical-align: top;\n",
       "    }\n",
       "\n",
       "    .dataframe thead th {\n",
       "        text-align: right;\n",
       "    }\n",
       "</style>\n",
       "<table border=\"1\" class=\"dataframe\">\n",
       "  <thead>\n",
       "    <tr style=\"text-align: right;\">\n",
       "      <th></th>\n",
       "      <th>Entity_x</th>\n",
       "      <th>Code</th>\n",
       "      <th>pop_density</th>\n",
       "      <th>gdp</th>\n",
       "      <th>total_pop</th>\n",
       "      <th>urban_pop</th>\n",
       "      <th>rural_pop</th>\n",
       "      <th>urban_pct</th>\n",
       "      <th>rural_pct</th>\n",
       "      <th>life_expectancy</th>\n",
       "      <th>...</th>\n",
       "      <th>pdi</th>\n",
       "      <th>idv</th>\n",
       "      <th>mas</th>\n",
       "      <th>uai</th>\n",
       "      <th>ltowvs</th>\n",
       "      <th>ivr</th>\n",
       "      <th>Entity_y</th>\n",
       "      <th>Date</th>\n",
       "      <th>(cases)</th>\n",
       "      <th>Number of days since the 100th confirmed case (days)</th>\n",
       "    </tr>\n",
       "  </thead>\n",
       "  <tbody>\n",
       "    <tr>\n",
       "      <th>0</th>\n",
       "      <td>Albania</td>\n",
       "      <td>ALB</td>\n",
       "      <td>105.135146</td>\n",
       "      <td>10970.452245</td>\n",
       "      <td>2923352.0</td>\n",
       "      <td>1654503</td>\n",
       "      <td>1226200</td>\n",
       "      <td>57.434</td>\n",
       "      <td>42.566002</td>\n",
       "      <td>78.174</td>\n",
       "      <td>...</td>\n",
       "      <td>90.0</td>\n",
       "      <td>20.0</td>\n",
       "      <td>80.0</td>\n",
       "      <td>70.0</td>\n",
       "      <td>61.0</td>\n",
       "      <td>15.0</td>\n",
       "      <td>Albania</td>\n",
       "      <td>2020-03-09</td>\n",
       "      <td>2.0</td>\n",
       "      <td>NaN</td>\n",
       "    </tr>\n",
       "    <tr>\n",
       "      <th>1</th>\n",
       "      <td>Albania</td>\n",
       "      <td>ALB</td>\n",
       "      <td>105.135146</td>\n",
       "      <td>10970.452245</td>\n",
       "      <td>2923352.0</td>\n",
       "      <td>1654503</td>\n",
       "      <td>1226200</td>\n",
       "      <td>57.434</td>\n",
       "      <td>42.566002</td>\n",
       "      <td>78.174</td>\n",
       "      <td>...</td>\n",
       "      <td>90.0</td>\n",
       "      <td>20.0</td>\n",
       "      <td>80.0</td>\n",
       "      <td>70.0</td>\n",
       "      <td>61.0</td>\n",
       "      <td>15.0</td>\n",
       "      <td>Albania</td>\n",
       "      <td>2020-03-10</td>\n",
       "      <td>6.0</td>\n",
       "      <td>NaN</td>\n",
       "    </tr>\n",
       "    <tr>\n",
       "      <th>2</th>\n",
       "      <td>Albania</td>\n",
       "      <td>ALB</td>\n",
       "      <td>105.135146</td>\n",
       "      <td>10970.452245</td>\n",
       "      <td>2923352.0</td>\n",
       "      <td>1654503</td>\n",
       "      <td>1226200</td>\n",
       "      <td>57.434</td>\n",
       "      <td>42.566002</td>\n",
       "      <td>78.174</td>\n",
       "      <td>...</td>\n",
       "      <td>90.0</td>\n",
       "      <td>20.0</td>\n",
       "      <td>80.0</td>\n",
       "      <td>70.0</td>\n",
       "      <td>61.0</td>\n",
       "      <td>15.0</td>\n",
       "      <td>Albania</td>\n",
       "      <td>2020-03-11</td>\n",
       "      <td>10.0</td>\n",
       "      <td>NaN</td>\n",
       "    </tr>\n",
       "    <tr>\n",
       "      <th>3</th>\n",
       "      <td>Albania</td>\n",
       "      <td>ALB</td>\n",
       "      <td>105.135146</td>\n",
       "      <td>10970.452245</td>\n",
       "      <td>2923352.0</td>\n",
       "      <td>1654503</td>\n",
       "      <td>1226200</td>\n",
       "      <td>57.434</td>\n",
       "      <td>42.566002</td>\n",
       "      <td>78.174</td>\n",
       "      <td>...</td>\n",
       "      <td>90.0</td>\n",
       "      <td>20.0</td>\n",
       "      <td>80.0</td>\n",
       "      <td>70.0</td>\n",
       "      <td>61.0</td>\n",
       "      <td>15.0</td>\n",
       "      <td>Albania</td>\n",
       "      <td>2020-03-12</td>\n",
       "      <td>11.0</td>\n",
       "      <td>NaN</td>\n",
       "    </tr>\n",
       "    <tr>\n",
       "      <th>4</th>\n",
       "      <td>Albania</td>\n",
       "      <td>ALB</td>\n",
       "      <td>105.135146</td>\n",
       "      <td>10970.452245</td>\n",
       "      <td>2923352.0</td>\n",
       "      <td>1654503</td>\n",
       "      <td>1226200</td>\n",
       "      <td>57.434</td>\n",
       "      <td>42.566002</td>\n",
       "      <td>78.174</td>\n",
       "      <td>...</td>\n",
       "      <td>90.0</td>\n",
       "      <td>20.0</td>\n",
       "      <td>80.0</td>\n",
       "      <td>70.0</td>\n",
       "      <td>61.0</td>\n",
       "      <td>15.0</td>\n",
       "      <td>Albania</td>\n",
       "      <td>2020-03-13</td>\n",
       "      <td>23.0</td>\n",
       "      <td>NaN</td>\n",
       "    </tr>\n",
       "  </tbody>\n",
       "</table>\n",
       "<p>5 rows × 21 columns</p>\n",
       "</div>"
      ],
      "text/plain": [
       "  Entity_x Code  pop_density           gdp  total_pop  urban_pop  rural_pop  \\\n",
       "0  Albania  ALB   105.135146  10970.452245  2923352.0    1654503    1226200   \n",
       "1  Albania  ALB   105.135146  10970.452245  2923352.0    1654503    1226200   \n",
       "2  Albania  ALB   105.135146  10970.452245  2923352.0    1654503    1226200   \n",
       "3  Albania  ALB   105.135146  10970.452245  2923352.0    1654503    1226200   \n",
       "4  Albania  ALB   105.135146  10970.452245  2923352.0    1654503    1226200   \n",
       "\n",
       "   urban_pct  rural_pct  life_expectancy  ...   pdi   idv   mas   uai  ltowvs  \\\n",
       "0     57.434  42.566002           78.174  ...  90.0  20.0  80.0  70.0    61.0   \n",
       "1     57.434  42.566002           78.174  ...  90.0  20.0  80.0  70.0    61.0   \n",
       "2     57.434  42.566002           78.174  ...  90.0  20.0  80.0  70.0    61.0   \n",
       "3     57.434  42.566002           78.174  ...  90.0  20.0  80.0  70.0    61.0   \n",
       "4     57.434  42.566002           78.174  ...  90.0  20.0  80.0  70.0    61.0   \n",
       "\n",
       "    ivr  Entity_y       Date  (cases)  \\\n",
       "0  15.0   Albania 2020-03-09      2.0   \n",
       "1  15.0   Albania 2020-03-10      6.0   \n",
       "2  15.0   Albania 2020-03-11     10.0   \n",
       "3  15.0   Albania 2020-03-12     11.0   \n",
       "4  15.0   Albania 2020-03-13     23.0   \n",
       "\n",
       "   Number of days since the 100th confirmed case (days)  \n",
       "0                                                NaN     \n",
       "1                                                NaN     \n",
       "2                                                NaN     \n",
       "3                                                NaN     \n",
       "4                                                NaN     \n",
       "\n",
       "[5 rows x 21 columns]"
      ]
     },
     "execution_count": 127,
     "metadata": {},
     "output_type": "execute_result"
    }
   ],
   "source": [
    "merged_data = pd.merge(merged_data, covid_data, on=[ \"Code\"])\n",
    "#merged_data.head()"
   ]
  },
  {
   "cell_type": "code",
   "execution_count": 128,
   "metadata": {},
   "outputs": [],
   "source": [
    "merged_data.drop(['Entity_y'], axis=1,inplace=True)"
   ]
  },
  {
   "cell_type": "code",
   "execution_count": 129,
   "metadata": {},
   "outputs": [],
   "source": [
    "merged_data = merged_data.rename(columns={\"Entity_x\": \"Entity\",\n",
    "                                         \" (cases)\" : \"cases\",\n",
    "                                          \"Number of days since the 100th confirmed case (days)\":\"days_gt_100\"})"
   ]
  },
  {
   "cell_type": "code",
   "execution_count": 130,
   "metadata": {},
   "outputs": [
    {
     "data": {
      "text/plain": [
       "(7981, 20)"
      ]
     },
     "execution_count": 130,
     "metadata": {},
     "output_type": "execute_result"
    }
   ],
   "source": [
    "merged_data.shape"
   ]
  },
  {
   "cell_type": "code",
   "execution_count": 131,
   "metadata": {},
   "outputs": [
    {
     "data": {
      "text/html": [
       "<div>\n",
       "<style scoped>\n",
       "    .dataframe tbody tr th:only-of-type {\n",
       "        vertical-align: middle;\n",
       "    }\n",
       "\n",
       "    .dataframe tbody tr th {\n",
       "        vertical-align: top;\n",
       "    }\n",
       "\n",
       "    .dataframe thead th {\n",
       "        text-align: right;\n",
       "    }\n",
       "</style>\n",
       "<table border=\"1\" class=\"dataframe\">\n",
       "  <thead>\n",
       "    <tr style=\"text-align: right;\">\n",
       "      <th></th>\n",
       "      <th>Entity</th>\n",
       "      <th>Code</th>\n",
       "      <th>pop_density</th>\n",
       "      <th>gdp</th>\n",
       "      <th>total_pop</th>\n",
       "      <th>urban_pop</th>\n",
       "      <th>rural_pop</th>\n",
       "      <th>urban_pct</th>\n",
       "      <th>rural_pct</th>\n",
       "      <th>life_expectancy</th>\n",
       "      <th>median_age</th>\n",
       "      <th>pdi</th>\n",
       "      <th>idv</th>\n",
       "      <th>mas</th>\n",
       "      <th>uai</th>\n",
       "      <th>ltowvs</th>\n",
       "      <th>ivr</th>\n",
       "      <th>Date</th>\n",
       "      <th>cases</th>\n",
       "      <th>days_gt_100</th>\n",
       "    </tr>\n",
       "  </thead>\n",
       "  <tbody>\n",
       "    <tr>\n",
       "      <th>7976</th>\n",
       "      <td>Zimbabwe</td>\n",
       "      <td>ZWE</td>\n",
       "      <td>40.784415</td>\n",
       "      <td>1912.280261</td>\n",
       "      <td>15777451.0</td>\n",
       "      <td>5109528</td>\n",
       "      <td>10667923</td>\n",
       "      <td>32.385</td>\n",
       "      <td>67.614998</td>\n",
       "      <td>60.398</td>\n",
       "      <td>19.0</td>\n",
       "      <td>NaN</td>\n",
       "      <td>NaN</td>\n",
       "      <td>NaN</td>\n",
       "      <td>NaN</td>\n",
       "      <td>15.0</td>\n",
       "      <td>28.0</td>\n",
       "      <td>2020-04-11</td>\n",
       "      <td>11.0</td>\n",
       "      <td>NaN</td>\n",
       "    </tr>\n",
       "    <tr>\n",
       "      <th>7977</th>\n",
       "      <td>Zimbabwe</td>\n",
       "      <td>ZWE</td>\n",
       "      <td>40.784415</td>\n",
       "      <td>1912.280261</td>\n",
       "      <td>15777451.0</td>\n",
       "      <td>5109528</td>\n",
       "      <td>10667923</td>\n",
       "      <td>32.385</td>\n",
       "      <td>67.614998</td>\n",
       "      <td>60.398</td>\n",
       "      <td>19.0</td>\n",
       "      <td>NaN</td>\n",
       "      <td>NaN</td>\n",
       "      <td>NaN</td>\n",
       "      <td>NaN</td>\n",
       "      <td>15.0</td>\n",
       "      <td>28.0</td>\n",
       "      <td>2020-04-12</td>\n",
       "      <td>14.0</td>\n",
       "      <td>NaN</td>\n",
       "    </tr>\n",
       "    <tr>\n",
       "      <th>7978</th>\n",
       "      <td>Zimbabwe</td>\n",
       "      <td>ZWE</td>\n",
       "      <td>40.784415</td>\n",
       "      <td>1912.280261</td>\n",
       "      <td>15777451.0</td>\n",
       "      <td>5109528</td>\n",
       "      <td>10667923</td>\n",
       "      <td>32.385</td>\n",
       "      <td>67.614998</td>\n",
       "      <td>60.398</td>\n",
       "      <td>19.0</td>\n",
       "      <td>NaN</td>\n",
       "      <td>NaN</td>\n",
       "      <td>NaN</td>\n",
       "      <td>NaN</td>\n",
       "      <td>15.0</td>\n",
       "      <td>28.0</td>\n",
       "      <td>2020-04-13</td>\n",
       "      <td>14.0</td>\n",
       "      <td>NaN</td>\n",
       "    </tr>\n",
       "    <tr>\n",
       "      <th>7979</th>\n",
       "      <td>Zimbabwe</td>\n",
       "      <td>ZWE</td>\n",
       "      <td>40.784415</td>\n",
       "      <td>1912.280261</td>\n",
       "      <td>15777451.0</td>\n",
       "      <td>5109528</td>\n",
       "      <td>10667923</td>\n",
       "      <td>32.385</td>\n",
       "      <td>67.614998</td>\n",
       "      <td>60.398</td>\n",
       "      <td>19.0</td>\n",
       "      <td>NaN</td>\n",
       "      <td>NaN</td>\n",
       "      <td>NaN</td>\n",
       "      <td>NaN</td>\n",
       "      <td>15.0</td>\n",
       "      <td>28.0</td>\n",
       "      <td>2020-04-14</td>\n",
       "      <td>17.0</td>\n",
       "      <td>NaN</td>\n",
       "    </tr>\n",
       "    <tr>\n",
       "      <th>7980</th>\n",
       "      <td>Zimbabwe</td>\n",
       "      <td>ZWE</td>\n",
       "      <td>40.784415</td>\n",
       "      <td>1912.280261</td>\n",
       "      <td>15777451.0</td>\n",
       "      <td>5109528</td>\n",
       "      <td>10667923</td>\n",
       "      <td>32.385</td>\n",
       "      <td>67.614998</td>\n",
       "      <td>60.398</td>\n",
       "      <td>19.0</td>\n",
       "      <td>NaN</td>\n",
       "      <td>NaN</td>\n",
       "      <td>NaN</td>\n",
       "      <td>NaN</td>\n",
       "      <td>15.0</td>\n",
       "      <td>28.0</td>\n",
       "      <td>2020-04-15</td>\n",
       "      <td>17.0</td>\n",
       "      <td>NaN</td>\n",
       "    </tr>\n",
       "  </tbody>\n",
       "</table>\n",
       "</div>"
      ],
      "text/plain": [
       "        Entity Code  pop_density          gdp   total_pop  urban_pop  \\\n",
       "7976  Zimbabwe  ZWE    40.784415  1912.280261  15777451.0    5109528   \n",
       "7977  Zimbabwe  ZWE    40.784415  1912.280261  15777451.0    5109528   \n",
       "7978  Zimbabwe  ZWE    40.784415  1912.280261  15777451.0    5109528   \n",
       "7979  Zimbabwe  ZWE    40.784415  1912.280261  15777451.0    5109528   \n",
       "7980  Zimbabwe  ZWE    40.784415  1912.280261  15777451.0    5109528   \n",
       "\n",
       "      rural_pop  urban_pct  rural_pct  life_expectancy  median_age  pdi  idv  \\\n",
       "7976   10667923     32.385  67.614998           60.398        19.0  NaN  NaN   \n",
       "7977   10667923     32.385  67.614998           60.398        19.0  NaN  NaN   \n",
       "7978   10667923     32.385  67.614998           60.398        19.0  NaN  NaN   \n",
       "7979   10667923     32.385  67.614998           60.398        19.0  NaN  NaN   \n",
       "7980   10667923     32.385  67.614998           60.398        19.0  NaN  NaN   \n",
       "\n",
       "      mas  uai  ltowvs   ivr       Date  cases  days_gt_100  \n",
       "7976  NaN  NaN    15.0  28.0 2020-04-11   11.0          NaN  \n",
       "7977  NaN  NaN    15.0  28.0 2020-04-12   14.0          NaN  \n",
       "7978  NaN  NaN    15.0  28.0 2020-04-13   14.0          NaN  \n",
       "7979  NaN  NaN    15.0  28.0 2020-04-14   17.0          NaN  \n",
       "7980  NaN  NaN    15.0  28.0 2020-04-15   17.0          NaN  "
      ]
     },
     "execution_count": 131,
     "metadata": {},
     "output_type": "execute_result"
    }
   ],
   "source": [
    "#merged_data.tail()"
   ]
  },
  {
   "cell_type": "code",
   "execution_count": 132,
   "metadata": {},
   "outputs": [
    {
     "data": {
      "text/plain": [
       "(2916, 20)"
      ]
     },
     "execution_count": 132,
     "metadata": {},
     "output_type": "execute_result"
    }
   ],
   "source": [
    "# Drop rows where days_gt_100 is null\n",
    "#merged_data = merged_data[merged_data.days_gt_100 != 0]\n",
    "merged_data.dropna(subset=['days_gt_100'],inplace=True)\n",
    "merged_data.shape"
   ]
  },
  {
   "cell_type": "code",
   "execution_count": 133,
   "metadata": {},
   "outputs": [],
   "source": [
    "merged_data['log_cases'] = np.log(merged_data['cases'])"
   ]
  },
  {
   "cell_type": "code",
   "execution_count": 135,
   "metadata": {},
   "outputs": [
    {
     "name": "stdout",
     "output_type": "stream",
     "text": [
      "<class 'pandas.core.frame.DataFrame'>\n",
      "Int64Index: 2916 entries, 15 to 7926\n",
      "Data columns (total 21 columns):\n",
      "Entity             2916 non-null object\n",
      "Code               2916 non-null object\n",
      "pop_density        2916 non-null float64\n",
      "gdp                2895 non-null float64\n",
      "total_pop          2898 non-null float64\n",
      "urban_pop          2916 non-null int64\n",
      "rural_pop          2916 non-null int64\n",
      "urban_pct          2916 non-null float64\n",
      "rural_pct          2916 non-null float64\n",
      "life_expectancy    2916 non-null float64\n",
      "median_age         2916 non-null float64\n",
      "pdi                2674 non-null float64\n",
      "idv                2674 non-null float64\n",
      "mas                2674 non-null float64\n",
      "uai                2674 non-null float64\n",
      "ltowvs             2675 non-null float64\n",
      "ivr                2595 non-null float64\n",
      "Date               2916 non-null datetime64[ns]\n",
      "cases              2916 non-null float64\n",
      "days_gt_100        2916 non-null float64\n",
      "log_cases          2916 non-null float64\n",
      "dtypes: datetime64[ns](1), float64(16), int64(2), object(2)\n",
      "memory usage: 501.2+ KB\n"
     ]
    }
   ],
   "source": [
    "#merged_data.info()"
   ]
  },
  {
   "cell_type": "code",
   "execution_count": 136,
   "metadata": {},
   "outputs": [],
   "source": [
    "# Export CSV\n",
    "merged_data.to_csv('merged_data_modified.csv')  "
   ]
  },
  {
   "cell_type": "code",
   "execution_count": 137,
   "metadata": {},
   "outputs": [
    {
     "name": "stderr",
     "output_type": "stream",
     "text": [
      "C:\\ProgramData\\Anaconda3\\lib\\site-packages\\ipykernel_launcher.py:1: FutureWarning: Passing datetime64-dtype data to TimedeltaIndex is deprecated, will raise a TypeError in a future version\n",
      "  \"\"\"Entry point for launching an IPython kernel.\n"
     ]
    }
   ],
   "source": [
    "merged_data['Date'] = pd.to_timedelta(merged_data['Date']).dt.total_seconds().astype(int)\n",
    "#merged_data['Date'] = pd.to_datetime(merged_data['Date'], format='%Y-%m-%d').dt.time"
   ]
  },
  {
   "cell_type": "code",
   "execution_count": 138,
   "metadata": {},
   "outputs": [
    {
     "data": {
      "text/html": [
       "<div>\n",
       "<style scoped>\n",
       "    .dataframe tbody tr th:only-of-type {\n",
       "        vertical-align: middle;\n",
       "    }\n",
       "\n",
       "    .dataframe tbody tr th {\n",
       "        vertical-align: top;\n",
       "    }\n",
       "\n",
       "    .dataframe thead th {\n",
       "        text-align: right;\n",
       "    }\n",
       "</style>\n",
       "<table border=\"1\" class=\"dataframe\">\n",
       "  <thead>\n",
       "    <tr style=\"text-align: right;\">\n",
       "      <th></th>\n",
       "      <th>Entity</th>\n",
       "      <th>Code</th>\n",
       "      <th>pop_density</th>\n",
       "      <th>gdp</th>\n",
       "      <th>total_pop</th>\n",
       "      <th>urban_pop</th>\n",
       "      <th>rural_pop</th>\n",
       "      <th>urban_pct</th>\n",
       "      <th>rural_pct</th>\n",
       "      <th>life_expectancy</th>\n",
       "      <th>...</th>\n",
       "      <th>pdi</th>\n",
       "      <th>idv</th>\n",
       "      <th>mas</th>\n",
       "      <th>uai</th>\n",
       "      <th>ltowvs</th>\n",
       "      <th>ivr</th>\n",
       "      <th>Date</th>\n",
       "      <th>cases</th>\n",
       "      <th>days_gt_100</th>\n",
       "      <th>log_cases</th>\n",
       "    </tr>\n",
       "  </thead>\n",
       "  <tbody>\n",
       "    <tr>\n",
       "      <th>15</th>\n",
       "      <td>Albania</td>\n",
       "      <td>ALB</td>\n",
       "      <td>105.135146</td>\n",
       "      <td>10970.452245</td>\n",
       "      <td>2923352.0</td>\n",
       "      <td>1654503</td>\n",
       "      <td>1226200</td>\n",
       "      <td>57.434</td>\n",
       "      <td>42.566002</td>\n",
       "      <td>78.174</td>\n",
       "      <td>...</td>\n",
       "      <td>90.0</td>\n",
       "      <td>20.0</td>\n",
       "      <td>80.0</td>\n",
       "      <td>70.0</td>\n",
       "      <td>61.0</td>\n",
       "      <td>15.0</td>\n",
       "      <td>1585008000</td>\n",
       "      <td>100.0</td>\n",
       "      <td>0.0</td>\n",
       "      <td>4.605170</td>\n",
       "    </tr>\n",
       "    <tr>\n",
       "      <th>16</th>\n",
       "      <td>Albania</td>\n",
       "      <td>ALB</td>\n",
       "      <td>105.135146</td>\n",
       "      <td>10970.452245</td>\n",
       "      <td>2923352.0</td>\n",
       "      <td>1654503</td>\n",
       "      <td>1226200</td>\n",
       "      <td>57.434</td>\n",
       "      <td>42.566002</td>\n",
       "      <td>78.174</td>\n",
       "      <td>...</td>\n",
       "      <td>90.0</td>\n",
       "      <td>20.0</td>\n",
       "      <td>80.0</td>\n",
       "      <td>70.0</td>\n",
       "      <td>61.0</td>\n",
       "      <td>15.0</td>\n",
       "      <td>1585094400</td>\n",
       "      <td>123.0</td>\n",
       "      <td>1.0</td>\n",
       "      <td>4.812184</td>\n",
       "    </tr>\n",
       "    <tr>\n",
       "      <th>17</th>\n",
       "      <td>Albania</td>\n",
       "      <td>ALB</td>\n",
       "      <td>105.135146</td>\n",
       "      <td>10970.452245</td>\n",
       "      <td>2923352.0</td>\n",
       "      <td>1654503</td>\n",
       "      <td>1226200</td>\n",
       "      <td>57.434</td>\n",
       "      <td>42.566002</td>\n",
       "      <td>78.174</td>\n",
       "      <td>...</td>\n",
       "      <td>90.0</td>\n",
       "      <td>20.0</td>\n",
       "      <td>80.0</td>\n",
       "      <td>70.0</td>\n",
       "      <td>61.0</td>\n",
       "      <td>15.0</td>\n",
       "      <td>1585180800</td>\n",
       "      <td>146.0</td>\n",
       "      <td>2.0</td>\n",
       "      <td>4.983607</td>\n",
       "    </tr>\n",
       "    <tr>\n",
       "      <th>18</th>\n",
       "      <td>Albania</td>\n",
       "      <td>ALB</td>\n",
       "      <td>105.135146</td>\n",
       "      <td>10970.452245</td>\n",
       "      <td>2923352.0</td>\n",
       "      <td>1654503</td>\n",
       "      <td>1226200</td>\n",
       "      <td>57.434</td>\n",
       "      <td>42.566002</td>\n",
       "      <td>78.174</td>\n",
       "      <td>...</td>\n",
       "      <td>90.0</td>\n",
       "      <td>20.0</td>\n",
       "      <td>80.0</td>\n",
       "      <td>70.0</td>\n",
       "      <td>61.0</td>\n",
       "      <td>15.0</td>\n",
       "      <td>1585267200</td>\n",
       "      <td>174.0</td>\n",
       "      <td>3.0</td>\n",
       "      <td>5.159055</td>\n",
       "    </tr>\n",
       "    <tr>\n",
       "      <th>19</th>\n",
       "      <td>Albania</td>\n",
       "      <td>ALB</td>\n",
       "      <td>105.135146</td>\n",
       "      <td>10970.452245</td>\n",
       "      <td>2923352.0</td>\n",
       "      <td>1654503</td>\n",
       "      <td>1226200</td>\n",
       "      <td>57.434</td>\n",
       "      <td>42.566002</td>\n",
       "      <td>78.174</td>\n",
       "      <td>...</td>\n",
       "      <td>90.0</td>\n",
       "      <td>20.0</td>\n",
       "      <td>80.0</td>\n",
       "      <td>70.0</td>\n",
       "      <td>61.0</td>\n",
       "      <td>15.0</td>\n",
       "      <td>1585353600</td>\n",
       "      <td>186.0</td>\n",
       "      <td>4.0</td>\n",
       "      <td>5.225747</td>\n",
       "    </tr>\n",
       "  </tbody>\n",
       "</table>\n",
       "<p>5 rows × 21 columns</p>\n",
       "</div>"
      ],
      "text/plain": [
       "     Entity Code  pop_density           gdp  total_pop  urban_pop  rural_pop  \\\n",
       "15  Albania  ALB   105.135146  10970.452245  2923352.0    1654503    1226200   \n",
       "16  Albania  ALB   105.135146  10970.452245  2923352.0    1654503    1226200   \n",
       "17  Albania  ALB   105.135146  10970.452245  2923352.0    1654503    1226200   \n",
       "18  Albania  ALB   105.135146  10970.452245  2923352.0    1654503    1226200   \n",
       "19  Albania  ALB   105.135146  10970.452245  2923352.0    1654503    1226200   \n",
       "\n",
       "    urban_pct  rural_pct  life_expectancy  ...   pdi   idv   mas   uai  \\\n",
       "15     57.434  42.566002           78.174  ...  90.0  20.0  80.0  70.0   \n",
       "16     57.434  42.566002           78.174  ...  90.0  20.0  80.0  70.0   \n",
       "17     57.434  42.566002           78.174  ...  90.0  20.0  80.0  70.0   \n",
       "18     57.434  42.566002           78.174  ...  90.0  20.0  80.0  70.0   \n",
       "19     57.434  42.566002           78.174  ...  90.0  20.0  80.0  70.0   \n",
       "\n",
       "    ltowvs   ivr        Date  cases  days_gt_100  log_cases  \n",
       "15    61.0  15.0  1585008000  100.0          0.0   4.605170  \n",
       "16    61.0  15.0  1585094400  123.0          1.0   4.812184  \n",
       "17    61.0  15.0  1585180800  146.0          2.0   4.983607  \n",
       "18    61.0  15.0  1585267200  174.0          3.0   5.159055  \n",
       "19    61.0  15.0  1585353600  186.0          4.0   5.225747  \n",
       "\n",
       "[5 rows x 21 columns]"
      ]
     },
     "execution_count": 138,
     "metadata": {},
     "output_type": "execute_result"
    }
   ],
   "source": [
    "#merged_data.head()"
   ]
  },
  {
   "cell_type": "markdown",
   "metadata": {},
   "source": [
    "## Create subset of Countries that have reached 5 days > 100 cases"
   ]
  },
  {
   "cell_type": "code",
   "execution_count": 139,
   "metadata": {},
   "outputs": [],
   "source": [
    "cases5 = merged_data[merged_data.groupby('Code')['days_gt_100'].transform(lambda x: (x == 5).sum())>0]"
   ]
  },
  {
   "cell_type": "code",
   "execution_count": 140,
   "metadata": {},
   "outputs": [],
   "source": [
    "cases5group = cases5.groupby('Code')"
   ]
  },
  {
   "cell_type": "code",
   "execution_count": 141,
   "metadata": {},
   "outputs": [],
   "source": [
    "cases5slopes = (cases5group.apply(lambda x: pd.Series(linregress(x['Date'],x['log_cases'])))\\\n",
    "        .rename(columns={\n",
    "        0: 'slope',\n",
    "        1: 'intercept',\n",
    "        2: 'rvalue',\n",
    "        3: 'pvalue',\n",
    "        4: 'stderr'\n",
    "    }))"
   ]
  },
  {
   "cell_type": "code",
   "execution_count": 142,
   "metadata": {},
   "outputs": [],
   "source": [
    "merged5 = merged_data[merged_data.days_gt_100 == 5]"
   ]
  },
  {
   "cell_type": "code",
   "execution_count": 143,
   "metadata": {},
   "outputs": [],
   "source": [
    "mergedcases5 = pd.merge(merged5, cases5slopes, on=[\"Code\"])"
   ]
  },
  {
   "cell_type": "code",
   "execution_count": 144,
   "metadata": {},
   "outputs": [],
   "source": [
    "#mergedcases5.dropna(subset=['idv'],inplace=True)"
   ]
  },
  {
   "cell_type": "code",
   "execution_count": 145,
   "metadata": {},
   "outputs": [],
   "source": [
    "# Export CSV\n",
    "mergedcases5.to_csv('cases5.csv')  "
   ]
  },
  {
   "cell_type": "code",
   "execution_count": 146,
   "metadata": {},
   "outputs": [],
   "source": [
    "corr5 = mergedcases5.corr()"
   ]
  },
  {
   "cell_type": "code",
   "execution_count": 149,
   "metadata": {},
   "outputs": [
    {
     "data": {
      "text/plain": [
       "Text(0.5, 1, 'Pearson Correlation matrix for Countries at 5 days since 100th Covid case')"
      ]
     },
     "execution_count": 149,
     "metadata": {},
     "output_type": "execute_result"
    },
    {
     "data": {
      "image/png": "[encoded data removed]",
      "text/plain": [
       "<Figure size 1080x648 with 2 Axes>"
      ]
     },
     "metadata": {
      "needs_background": "light"
     },
     "output_type": "display_data"
    }
   ],
   "source": [
    "# Plot the Pearson Correlation reduced matrix\n",
    "matrix = np.triu(corr5)\n",
    "fig, ax = plt.subplots(figsize=(15,9)) \n",
    "ax = sns.heatmap(corr5,   mask = matrix, cmap = 'RdYlBu')\n",
    "bottom, top = ax.get_ylim()\n",
    "ax.set_ylim(bottom + 0.5, top - 0.5)\n",
    "plt.title('Pearson Correlation matrix for Countries at 5 days since 100th Covid case')"
   ]
  },
  {
   "cell_type": "code",
   "execution_count": 150,
   "metadata": {},
   "outputs": [],
   "source": [
    "corr5.to_csv('corrcases5.csv')"
   ]
  },
  {
   "cell_type": "markdown",
   "metadata": {},
   "source": [
    "## Create subset of Countries that have reached 10 days > 100 cases"
   ]
  },
  {
   "cell_type": "code",
   "execution_count": 151,
   "metadata": {},
   "outputs": [],
   "source": [
    "cases10 = merged_data[merged_data.groupby('Code')['days_gt_100'].transform(lambda x: (x == 10).sum())>0]"
   ]
  },
  {
   "cell_type": "code",
   "execution_count": 152,
   "metadata": {},
   "outputs": [],
   "source": [
    "cases10group = cases10.groupby('Code')"
   ]
  },
  {
   "cell_type": "code",
   "execution_count": 153,
   "metadata": {},
   "outputs": [],
   "source": [
    "cases10slopes = (cases10group.apply(lambda x: pd.Series(linregress(x['Date'],x['log_cases'])))\\\n",
    "        .rename(columns={\n",
    "        0: 'slope',\n",
    "        1: 'intercept',\n",
    "        2: 'rvalue',\n",
    "        3: 'pvalue',\n",
    "        4: 'stderr'\n",
    "    }))"
   ]
  },
  {
   "cell_type": "code",
   "execution_count": 154,
   "metadata": {},
   "outputs": [],
   "source": [
    "merged10 = merged_data[merged_data.days_gt_100 == 10]"
   ]
  },
  {
   "cell_type": "code",
   "execution_count": 155,
   "metadata": {},
   "outputs": [],
   "source": [
    "mergedcases10 = pd.merge(merged10, cases10slopes, on=[\"Code\"])"
   ]
  },
  {
   "cell_type": "code",
   "execution_count": 157,
   "metadata": {},
   "outputs": [],
   "source": [
    "# Export CSV\n",
    "mergedcases10.to_csv('cases10.csv')  "
   ]
  },
  {
   "cell_type": "code",
   "execution_count": 158,
   "metadata": {},
   "outputs": [],
   "source": [
    "corr10 = mergedcases10.corr()"
   ]
  },
  {
   "cell_type": "code",
   "execution_count": 160,
   "metadata": {},
   "outputs": [
    {
     "data": {
      "text/plain": [
       "Text(0.5, 1, 'Pearson Correlation matrix for Countries at 10 days since 100th Covid case')"
      ]
     },
     "execution_count": 160,
     "metadata": {},
     "output_type": "execute_result"
    },
    {
     "data": {
      "image/png": "[encoded data removed]",
      "text/plain": [
       "<Figure size 1080x648 with 2 Axes>"
      ]
     },
     "metadata": {
      "needs_background": "light"
     },
     "output_type": "display_data"
    }
   ],
   "source": [
    "# Plot the Pearson Correlation reduced matrix\n",
    "matrix = np.triu(corr10)\n",
    "fig, ax = plt.subplots(figsize=(15,9)) \n",
    "ax = sns.heatmap(corr10,   mask = matrix, cmap = 'RdYlBu')\n",
    "bottom, top = ax.get_ylim()\n",
    "ax.set_ylim(bottom + 0.5, top - 0.5)\n",
    "plt.title('Pearson Correlation matrix for Countries at 10 days since 100th Covid case')"
   ]
  },
  {
   "cell_type": "code",
   "execution_count": 161,
   "metadata": {},
   "outputs": [],
   "source": [
    "corr10.to_csv('corrcases10.csv')"
   ]
  },
  {
   "cell_type": "code",
   "execution_count": null,
   "metadata": {},
   "outputs": [],
   "source": []
  },
  {
   "cell_type": "markdown",
   "metadata": {},
   "source": [
    "## Create subset of Countries that have reached 20 days > 100 cases"
   ]
  },
  {
   "cell_type": "code",
   "execution_count": 162,
   "metadata": {},
   "outputs": [],
   "source": [
    "cases20 = merged_data[merged_data.groupby('Code')['days_gt_100'].transform(lambda x: (x == 20).sum())>0]"
   ]
  },
  {
   "cell_type": "code",
   "execution_count": 164,
   "metadata": {},
   "outputs": [],
   "source": [
    "cases20group = cases20.groupby('Code')"
   ]
  },
  {
   "cell_type": "code",
   "execution_count": 165,
   "metadata": {},
   "outputs": [],
   "source": [
    "cases20slopes = (cases20group.apply(lambda x: pd.Series(linregress(x['Date'],x['log_cases'])))\\\n",
    "        .rename(columns={\n",
    "        0: 'slope',\n",
    "        1: 'intercept',\n",
    "        2: 'rvalue',\n",
    "        3: 'pvalue',\n",
    "        4: 'stderr'\n",
    "    }))"
   ]
  },
  {
   "cell_type": "code",
   "execution_count": 166,
   "metadata": {},
   "outputs": [],
   "source": [
    "merged20 = merged_data[merged_data.days_gt_100 == 20]"
   ]
  },
  {
   "cell_type": "code",
   "execution_count": 167,
   "metadata": {},
   "outputs": [],
   "source": [
    "mergedcases20 = pd.merge(merged20, cases20slopes, on=[\"Code\"])"
   ]
  },
  {
   "cell_type": "code",
   "execution_count": 168,
   "metadata": {},
   "outputs": [],
   "source": [
    "# Export CSV\n",
    "mergedcases20.to_csv('cases20.csv')  "
   ]
  },
  {
   "cell_type": "code",
   "execution_count": 169,
   "metadata": {},
   "outputs": [],
   "source": [
    "corr20 = mergedcases20.corr()"
   ]
  },
  {
   "cell_type": "code",
   "execution_count": 170,
   "metadata": {},
   "outputs": [
    {
     "data": {
      "text/plain": [
       "Text(0.5, 1, 'Pearson Correlation matrix for Countries at 20 days since 100th Covid case')"
      ]
     },
     "execution_count": 170,
     "metadata": {},
     "output_type": "execute_result"
    },
    {
     "data": {
      "image/png": "[encoded data removed]",
      "text/plain": [
       "<Figure size 1080x648 with 2 Axes>"
      ]
     },
     "metadata": {
      "needs_background": "light"
     },
     "output_type": "display_data"
    }
   ],
   "source": [
    "# Plot the Pearson Correlation reduced matrix\n",
    "matrix = np.triu(corr20)\n",
    "fig, ax = plt.subplots(figsize=(15,9)) \n",
    "ax = sns.heatmap(corr20,   mask = matrix, cmap = 'RdYlBu')\n",
    "bottom, top = ax.get_ylim()\n",
    "ax.set_ylim(bottom + 0.5, top - 0.5)\n",
    "plt.title('Pearson Correlation matrix for Countries at 20 days since 100th Covid case')"
   ]
  },
  {
   "cell_type": "code",
   "execution_count": 171,
   "metadata": {},
   "outputs": [],
   "source": [
    "corr20.to_csv('corrcases20.csv')"
   ]
  },
  {
   "cell_type": "code",
   "execution_count": null,
   "metadata": {},
   "outputs": [],
   "source": []
  },
  {
   "cell_type": "markdown",
   "metadata": {},
   "source": [
    "## Create subset of Countries that have reached 30 days > 100 cases"
   ]
  },
  {
   "cell_type": "code",
   "execution_count": 172,
   "metadata": {},
   "outputs": [],
   "source": [
    "cases30 = merged_data[merged_data.groupby('Code')['days_gt_100'].transform(lambda x: (x == 30).sum())>0]"
   ]
  },
  {
   "cell_type": "code",
   "execution_count": 173,
   "metadata": {},
   "outputs": [],
   "source": [
    "cases30group = cases30.groupby('Code')"
   ]
  },
  {
   "cell_type": "code",
   "execution_count": 174,
   "metadata": {},
   "outputs": [],
   "source": [
    "cases30slopes = (cases30group.apply(lambda x: pd.Series(linregress(x['Date'],x['log_cases'])))\\\n",
    "        .rename(columns={\n",
    "        0: 'slope',\n",
    "        1: 'intercept',\n",
    "        2: 'rvalue',\n",
    "        3: 'pvalue',\n",
    "        4: 'stderr'\n",
    "    }))"
   ]
  },
  {
   "cell_type": "code",
   "execution_count": 175,
   "metadata": {},
   "outputs": [],
   "source": [
    "merged30 = merged_data[merged_data.days_gt_100 == 30]"
   ]
  },
  {
   "cell_type": "code",
   "execution_count": 176,
   "metadata": {},
   "outputs": [],
   "source": [
    "mergedcases30 = pd.merge(merged30, cases30slopes, on=[\"Code\"])"
   ]
  },
  {
   "cell_type": "code",
   "execution_count": 177,
   "metadata": {},
   "outputs": [],
   "source": [
    "# Export CSV\n",
    "mergedcases30.to_csv('cases30.csv')  "
   ]
  },
  {
   "cell_type": "code",
   "execution_count": 178,
   "metadata": {},
   "outputs": [],
   "source": [
    "corr30 = mergedcases30.corr()"
   ]
  },
  {
   "cell_type": "code",
   "execution_count": 179,
   "metadata": {},
   "outputs": [
    {
     "data": {
      "text/plain": [
       "Text(0.5, 1, 'Pearson Correlation matrix for Countries at 30 days since 100th Covid case')"
      ]
     },
     "execution_count": 179,
     "metadata": {},
     "output_type": "execute_result"
    },
    {
     "data": {
      "image/png": "[encoded data removed]",
      "text/plain": [
       "<Figure size 1080x648 with 2 Axes>"
      ]
     },
     "metadata": {
      "needs_background": "light"
     },
     "output_type": "display_data"
    }
   ],
   "source": [
    "# Plot the Pearson Correlation reduced matrix\n",
    "matrix = np.triu(corr30)\n",
    "fig, ax = plt.subplots(figsize=(15,9)) \n",
    "ax = sns.heatmap(corr30,   mask = matrix, cmap = 'RdYlBu')\n",
    "bottom, top = ax.get_ylim()\n",
    "ax.set_ylim(bottom + 0.5, top - 0.5)\n",
    "plt.title('Pearson Correlation matrix for Countries at 30 days since 100th Covid case')"
   ]
  },
  {
   "cell_type": "code",
   "execution_count": 180,
   "metadata": {},
   "outputs": [],
   "source": [
    "corr30.to_csv('corrcases30.csv')"
   ]
  },
  {
   "cell_type": "code",
   "execution_count": null,
   "metadata": {},
   "outputs": [],
   "source": []
  },
  {
   "cell_type": "markdown",
   "metadata": {},
   "source": [
    "## Create subset of Countries that have reached 40 days > 100 cases"
   ]
  },
  {
   "cell_type": "code",
   "execution_count": 181,
   "metadata": {},
   "outputs": [],
   "source": [
    "cases40 = merged_data[merged_data.groupby('Code')['days_gt_100'].transform(lambda x: (x == 40).sum())>0]"
   ]
  },
  {
   "cell_type": "code",
   "execution_count": 182,
   "metadata": {},
   "outputs": [],
   "source": [
    "cases40group = cases40.groupby('Code')"
   ]
  },
  {
   "cell_type": "code",
   "execution_count": 183,
   "metadata": {},
   "outputs": [],
   "source": [
    "cases40slopes = (cases40group.apply(lambda x: pd.Series(linregress(x['Date'],x['log_cases'])))\\\n",
    "        .rename(columns={\n",
    "        0: 'slope',\n",
    "        1: 'intercept',\n",
    "        2: 'rvalue',\n",
    "        3: 'pvalue',\n",
    "        4: 'stderr'\n",
    "    }))"
   ]
  },
  {
   "cell_type": "code",
   "execution_count": 184,
   "metadata": {},
   "outputs": [],
   "source": [
    "merged40 = merged_data[merged_data.days_gt_100 == 40]"
   ]
  },
  {
   "cell_type": "code",
   "execution_count": 185,
   "metadata": {},
   "outputs": [],
   "source": [
    "mergedcases40 = pd.merge(merged40, cases40slopes, on=[\"Code\"])"
   ]
  },
  {
   "cell_type": "code",
   "execution_count": 186,
   "metadata": {},
   "outputs": [],
   "source": [
    "# Export CSV\n",
    "mergedcases40.to_csv('cases40.csv')  "
   ]
  },
  {
   "cell_type": "code",
   "execution_count": 187,
   "metadata": {},
   "outputs": [],
   "source": [
    "corr40 = mergedcases40.corr()"
   ]
  },
  {
   "cell_type": "code",
   "execution_count": 188,
   "metadata": {},
   "outputs": [
    {
     "data": {
      "text/plain": [
       "Text(0.5, 1, 'Pearson Correlation matrix for Countries at 40 days since 100th Covid case')"
      ]
     },
     "execution_count": 188,
     "metadata": {},
     "output_type": "execute_result"
    },
    {
     "data": {
      "image/png": "[encoded data removed]",
      "text/plain": [
       "<Figure size 1080x648 with 2 Axes>"
      ]
     },
     "metadata": {
      "needs_background": "light"
     },
     "output_type": "display_data"
    }
   ],
   "source": [
    "# Plot the Pearson Correlation reduced matrix\n",
    "matrix = np.triu(corr40)\n",
    "fig, ax = plt.subplots(figsize=(15,9)) \n",
    "ax = sns.heatmap(corr40,   mask = matrix, cmap = 'RdYlBu')\n",
    "bottom, top = ax.get_ylim()\n",
    "ax.set_ylim(bottom + 0.5, top - 0.5)\n",
    "plt.title('Pearson Correlation matrix for Countries at 40 days since 100th Covid case')"
   ]
  },
  {
   "cell_type": "code",
   "execution_count": 189,
   "metadata": {},
   "outputs": [],
   "source": [
    "corr40.to_csv('corrcases40.csv')"
   ]
  },
  {
   "cell_type": "code",
   "execution_count": null,
   "metadata": {},
   "outputs": [],
   "source": []
  },
  {
   "cell_type": "code",
   "execution_count": null,
   "metadata": {},
   "outputs": [],
   "source": []
  },
  {
   "cell_type": "code",
   "execution_count": null,
   "metadata": {},
   "outputs": [],
   "source": []
  },
  {
   "cell_type": "code",
   "execution_count": null,
   "metadata": {},
   "outputs": [],
   "source": []
  },
  {
   "cell_type": "code",
   "execution_count": null,
   "metadata": {},
   "outputs": [],
   "source": []
  },
  {
   "cell_type": "code",
   "execution_count": null,
   "metadata": {},
   "outputs": [],
   "source": []
  },
  {
   "cell_type": "code",
   "execution_count": null,
   "metadata": {},
   "outputs": [],
   "source": []
  },
  {
   "cell_type": "code",
   "execution_count": null,
   "metadata": {},
   "outputs": [],
   "source": []
  },
  {
   "cell_type": "code",
   "execution_count": null,
   "metadata": {},
   "outputs": [],
   "source": []
  },
  {
   "cell_type": "code",
   "execution_count": null,
   "metadata": {},
   "outputs": [],
   "source": []
  },
  {
   "cell_type": "code",
   "execution_count": null,
   "metadata": {},
   "outputs": [],
   "source": []
  },
  {
   "cell_type": "code",
   "execution_count": null,
   "metadata": {},
   "outputs": [],
   "source": []
  },
  {
   "cell_type": "markdown",
   "metadata": {},
   "source": [
    "### Function to easily do a panel of scatterplots easily"
   ]
  },
  {
   "cell_type": "code",
   "execution_count": 67,
   "metadata": {},
   "outputs": [],
   "source": [
    "def makePanelScatterplot(data_df, x_data,y_data,color_col,split_col):\n",
    "    x_label = x_data\n",
    "    y_label = y_data\n",
    "    ylim_min = data_df[y_data].min()*1.05\n",
    "    ylim_max = data_df[y_data].max()*1.05\n",
    "    xlim_min = data_df[x_data].min()*1.05\n",
    "    xlim_max = data_df[x_data].max()*1.05\n",
    "\n",
    "    g = sns.lmplot(x=x_data, y=y_data, data=data_df,\\\n",
    "           hue=color_col, col=split_col,col_wrap=3)\n",
    "\n",
    "        \n",
    "    g = (g.set_axis_labels(x_label, y_label)\n",
    "          .set(ylim=(ylim_min, ylim_max),xlim=(xlim_min, xlim_max))\n",
    "          .fig.subplots_adjust(wspace=.02))"
   ]
  },
  {
   "cell_type": "code",
   "execution_count": 69,
   "metadata": {},
   "outputs": [
    {
     "data": {
      "image/png": "[encoded data removed]",
      "text/plain": [
       "<Figure size 1080x360 with 1 Axes>"
      ]
     },
     "metadata": {
      "needs_background": "light"
     },
     "output_type": "display_data"
    }
   ],
   "source": [
    "makePanelScatterplot(mergedcases5,\"ltowvs\",\"median_age\",\"days_gt_100\",\"days_gt_100\")"
   ]
  },
  {
   "cell_type": "code",
   "execution_count": null,
   "metadata": {},
   "outputs": [],
   "source": [
    "\n",
    "#merged_data['slope'] = merged_data.groupby('Code').diff()(lambda v: linregress(v.Date, v.cases)[0])\n",
    "#merged_data['slope'] = (merged_data.groupby('Code')['cases'].apply(lambda x: x.shift().expanding().mean()))\n",
    "#merged_data['slope'] = (merged_data.groupby('Code')['Date','cases'].apply(lambda x,y : x.shift().expanding().apply(lambda v: linregress([0], [1])[0])))"
   ]
  },
  {
   "cell_type": "code",
   "execution_count": null,
   "metadata": {},
   "outputs": [],
   "source": []
  },
  {
   "cell_type": "code",
   "execution_count": null,
   "metadata": {},
   "outputs": [],
   "source": []
  },
  {
   "cell_type": "code",
   "execution_count": null,
   "metadata": {},
   "outputs": [],
   "source": []
  },
  {
   "cell_type": "code",
   "execution_count": null,
   "metadata": {},
   "outputs": [],
   "source": []
  }
 ],
 "metadata": {
  "kernelspec": {
   "display_name": "Python 3",
   "language": "python",
   "name": "python3"
  },
  "language_info": {
   "codemirror_mode": {
    "name": "ipython",
    "version": 3
   },
   "file_extension": ".py",
   "mimetype": "text/x-python",
   "name": "python",
   "nbconvert_exporter": "python",
   "pygments_lexer": "ipython3",
   "version": "3.7.3"
  }
 },
 "nbformat": 4,
 "nbformat_minor": 2
}
