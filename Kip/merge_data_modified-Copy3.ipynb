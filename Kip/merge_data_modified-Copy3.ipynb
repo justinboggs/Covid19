{
 "cells": [
  {
   "cell_type": "code",
   "execution_count": 1,
   "metadata": {},
   "outputs": [],
   "source": [
    "# Dependencies and Setup\n",
    "import matplotlib.pyplot as plt\n",
    "import pandas as pd\n",
    "import numpy as np\n",
    "import scipy.stats\n",
    "from scipy.stats import zscore\n",
    "from scipy.stats import stats\n",
    "from scipy.stats import linregress\n",
    "import os\n",
    "import seaborn as sns\n",
    "import re\n",
    "import datetime\n",
    "import nbconvert\n",
    "import glob\n",
    "import plotly.express as px\n",
    "import plotly.graph_objects as go\n",
    "import cufflinks as cf\n",
    "import chart_studio\n",
    "\n",
    "from statsmodels.compat import lzip\n",
    "import statsmodels.api as sm\n",
    "from statsmodels.formula.api import ols"
   ]
  },
  {
   "cell_type": "code",
   "execution_count": 2,
   "metadata": {},
   "outputs": [],
   "source": [
    "# Files to Load (csv files downloaded from the internet)\n",
    "\n",
    "# Country information files\n",
    "file1 = \"data/unsd.csv\"\n",
    "file2 = \"data/six-dem_mod.csv\"\n",
    "\n",
    "# Covid Case timeseries file\n",
    "file3 = \"data/covid-confirmed-cases-since-100th-case_hkg.csv\"\n",
    "file4 = \"data/worldometer.csv\"\n",
    "\n",
    "# Country timeseries files\n",
    "file5 = \"data/population-density-vs-prosperity.csv\"\n",
    "file6 = \"data/urban-and-rural-population.csv\"\n",
    "file7 = \"data/urban-vs-rural-majority.csv\"\n",
    "file8 = \"data/life-expectancy-at-birth-total-years.csv\"\n",
    "file9 = \"data/median-age.csv\"\n",
    "\n",
    "# Read File and store into Pandas data frame\n",
    "unsd = pd.read_csv(file1)\n",
    "hoefstede = pd.read_csv(file2)\n",
    "\n",
    "covid_data = pd.read_csv(file3, parse_dates=['Date'])\n",
    "wom = pd.read_csv(file4,parse_dates=['date'])\n",
    "\n",
    "density_vs_prosperity = pd.read_csv(file5)\n",
    "urban_rural_population = pd.read_csv(file6)\n",
    "urban_vs_rural_majority = pd.read_csv(file7)\n",
    "life_expectancy = pd.read_csv(file8)\n",
    "median_age = pd.read_csv(file9)\n"
   ]
  },
  {
   "cell_type": "markdown",
   "metadata": {},
   "source": [
    "# Create 'countries' dataframe with all country information\n",
    "#### This is in Tidy format"
   ]
  },
  {
   "cell_type": "code",
   "execution_count": 3,
   "metadata": {},
   "outputs": [
    {
     "data": {
      "text/plain": [
       "Index(['Global Code', 'Global Name', 'Region Code', 'Region Name',\n",
       "       'Sub-region Code', 'Sub-region Name', 'Intermediate Region Code',\n",
       "       'Intermediate Region Name', 'Country or Area', 'M49 Code', 'Code',\n",
       "       'Least Developed Countries (LDC)',\n",
       "       'Land Locked Developing Countries (LLDC)',\n",
       "       'Small Island Developing States (SIDS)',\n",
       "       'Developed / Developing Countries'],\n",
       "      dtype='object')"
      ]
     },
     "execution_count": 3,
     "metadata": {},
     "output_type": "execute_result"
    }
   ],
   "source": [
    "unsd.columns"
   ]
  },
  {
   "cell_type": "code",
   "execution_count": 4,
   "metadata": {},
   "outputs": [],
   "source": [
    "#Format columns\n",
    "unsd = unsd.rename(columns={\"Global Code\":\"globalCode\",\n",
    "                            \"Global Name\":\"globalName\",\n",
    "                            'Region Code':\"regionCode\",\n",
    "                            'Region Name':\"regionName\",\n",
    "                            'Sub-region Code':\"subRegionCode\",\n",
    "                            'Sub-region Name':\"subRegionName\",\n",
    "                            'Intermediate Region Code':\"interRegionCode\",\n",
    "                            'Intermediate Region Name':\"interRegionName\",\n",
    "                            'Country or Area':\"country\",\n",
    "                            'M49 Code':\"m49\",\n",
    "                            'Code':\"code\",\n",
    "                            'Least Developed Countries (LDC)':\"ldc\",\n",
    "                            'Land Locked Developing Countries (LLDC)':\"lldc\",\n",
    "                            'Small Island Developing States (SIDS)':\"sids\",\n",
    "                            'Developed / Developing Countries':\"development\"\n",
    "                            })"
   ]
  },
  {
   "cell_type": "code",
   "execution_count": 5,
   "metadata": {},
   "outputs": [
    {
     "data": {
      "text/plain": [
       "Index(['ctr', 'country', 'pdi', 'idv', 'mas', 'uai', 'ltowvs', 'ivr'], dtype='object')"
      ]
     },
     "execution_count": 5,
     "metadata": {},
     "output_type": "execute_result"
    }
   ],
   "source": [
    "hoefstede.columns"
   ]
  },
  {
   "cell_type": "code",
   "execution_count": 6,
   "metadata": {},
   "outputs": [],
   "source": [
    "#Format columns\n",
    "hoefstede = hoefstede.rename(columns={\"ctr\":\"code\"\n",
    "                            })"
   ]
  },
  {
   "cell_type": "code",
   "execution_count": 7,
   "metadata": {},
   "outputs": [],
   "source": [
    "hoefstede = hoefstede.replace('#NULL!','')"
   ]
  },
  {
   "cell_type": "code",
   "execution_count": 8,
   "metadata": {},
   "outputs": [],
   "source": [
    "hoefstede[['pdi','idv','mas','uai','ltowvs','ivr']] = hoefstede[['pdi','idv','mas','uai','ltowvs','ivr']].apply(pd.to_numeric)"
   ]
  },
  {
   "cell_type": "code",
   "execution_count": 9,
   "metadata": {},
   "outputs": [
    {
     "data": {
      "text/html": [
       "<div>\n",
       "<style scoped>\n",
       "    .dataframe tbody tr th:only-of-type {\n",
       "        vertical-align: middle;\n",
       "    }\n",
       "\n",
       "    .dataframe tbody tr th {\n",
       "        vertical-align: top;\n",
       "    }\n",
       "\n",
       "    .dataframe thead th {\n",
       "        text-align: right;\n",
       "    }\n",
       "</style>\n",
       "<table border=\"1\" class=\"dataframe\">\n",
       "  <thead>\n",
       "    <tr style=\"text-align: right;\">\n",
       "      <th></th>\n",
       "      <th>code</th>\n",
       "      <th>country</th>\n",
       "      <th>pdi</th>\n",
       "      <th>idv</th>\n",
       "      <th>mas</th>\n",
       "      <th>uai</th>\n",
       "      <th>ltowvs</th>\n",
       "      <th>ivr</th>\n",
       "    </tr>\n",
       "  </thead>\n",
       "  <tbody>\n",
       "    <tr>\n",
       "      <th>0</th>\n",
       "      <td>GTM</td>\n",
       "      <td>Guatemala</td>\n",
       "      <td>95.0</td>\n",
       "      <td>6.0</td>\n",
       "      <td>37.0</td>\n",
       "      <td>101.0</td>\n",
       "      <td>NaN</td>\n",
       "      <td>NaN</td>\n",
       "    </tr>\n",
       "    <tr>\n",
       "      <th>1</th>\n",
       "      <td>ECU</td>\n",
       "      <td>Ecuador</td>\n",
       "      <td>78.0</td>\n",
       "      <td>8.0</td>\n",
       "      <td>63.0</td>\n",
       "      <td>67.0</td>\n",
       "      <td>NaN</td>\n",
       "      <td>NaN</td>\n",
       "    </tr>\n",
       "    <tr>\n",
       "      <th>2</th>\n",
       "      <td>PAN</td>\n",
       "      <td>Panama</td>\n",
       "      <td>95.0</td>\n",
       "      <td>11.0</td>\n",
       "      <td>44.0</td>\n",
       "      <td>86.0</td>\n",
       "      <td>NaN</td>\n",
       "      <td>NaN</td>\n",
       "    </tr>\n",
       "    <tr>\n",
       "      <th>3</th>\n",
       "      <td>VEN</td>\n",
       "      <td>Venezuela</td>\n",
       "      <td>81.0</td>\n",
       "      <td>12.0</td>\n",
       "      <td>73.0</td>\n",
       "      <td>76.0</td>\n",
       "      <td>16.0</td>\n",
       "      <td>100.0</td>\n",
       "    </tr>\n",
       "    <tr>\n",
       "      <th>4</th>\n",
       "      <td>COL</td>\n",
       "      <td>Colombia</td>\n",
       "      <td>67.0</td>\n",
       "      <td>13.0</td>\n",
       "      <td>64.0</td>\n",
       "      <td>80.0</td>\n",
       "      <td>13.0</td>\n",
       "      <td>83.0</td>\n",
       "    </tr>\n",
       "  </tbody>\n",
       "</table>\n",
       "</div>"
      ],
      "text/plain": [
       "  code    country   pdi   idv   mas    uai  ltowvs    ivr\n",
       "0  GTM  Guatemala  95.0   6.0  37.0  101.0     NaN    NaN\n",
       "1  ECU    Ecuador  78.0   8.0  63.0   67.0     NaN    NaN\n",
       "2  PAN     Panama  95.0  11.0  44.0   86.0     NaN    NaN\n",
       "3  VEN  Venezuela  81.0  12.0  73.0   76.0    16.0  100.0\n",
       "4  COL   Colombia  67.0  13.0  64.0   80.0    13.0   83.0"
      ]
     },
     "execution_count": 9,
     "metadata": {},
     "output_type": "execute_result"
    }
   ],
   "source": [
    "hoefstede.head()"
   ]
  },
  {
   "cell_type": "code",
   "execution_count": 10,
   "metadata": {},
   "outputs": [
    {
     "data": {
      "text/plain": [
       "(118, 22)"
      ]
     },
     "execution_count": 10,
     "metadata": {},
     "output_type": "execute_result"
    }
   ],
   "source": [
    "# Merge data\n",
    "countries = pd.merge(unsd, hoefstede, on=[\"code\"])\n",
    "countries.shape"
   ]
  },
  {
   "cell_type": "code",
   "execution_count": 11,
   "metadata": {},
   "outputs": [
    {
     "data": {
      "text/plain": [
       "Index(['globalCode', 'globalName', 'regionCode', 'regionName', 'subRegionCode',\n",
       "       'subRegionName', 'interRegionCode', 'interRegionName', 'country_x',\n",
       "       'm49', 'code', 'ldc', 'lldc', 'sids', 'development', 'country_y', 'pdi',\n",
       "       'idv', 'mas', 'uai', 'ltowvs', 'ivr'],\n",
       "      dtype='object')"
      ]
     },
     "execution_count": 11,
     "metadata": {},
     "output_type": "execute_result"
    }
   ],
   "source": [
    "countries.columns"
   ]
  },
  {
   "cell_type": "code",
   "execution_count": 12,
   "metadata": {},
   "outputs": [],
   "source": [
    "countries.drop(['country_y'], axis=1,inplace=True)"
   ]
  },
  {
   "cell_type": "code",
   "execution_count": 13,
   "metadata": {},
   "outputs": [],
   "source": [
    "countries = countries.rename(columns={'country_x': 'country'})"
   ]
  },
  {
   "cell_type": "code",
   "execution_count": 14,
   "metadata": {},
   "outputs": [
    {
     "name": "stdout",
     "output_type": "stream",
     "text": [
      "<class 'pandas.core.frame.DataFrame'>\n",
      "Int64Index: 118 entries, 0 to 117\n",
      "Data columns (total 21 columns):\n",
      "globalCode         118 non-null int64\n",
      "globalName         118 non-null object\n",
      "regionCode         118 non-null int64\n",
      "regionName         118 non-null object\n",
      "subRegionCode      118 non-null int64\n",
      "subRegionName      118 non-null object\n",
      "interRegionCode    38 non-null float64\n",
      "interRegionName    36 non-null object\n",
      "country            118 non-null object\n",
      "m49                118 non-null int64\n",
      "code               118 non-null object\n",
      "ldc                17 non-null float64\n",
      "lldc               15 non-null float64\n",
      "sids               7 non-null float64\n",
      "development        118 non-null object\n",
      "pdi                102 non-null float64\n",
      "idv                102 non-null float64\n",
      "mas                102 non-null float64\n",
      "uai                102 non-null float64\n",
      "ltowvs             97 non-null float64\n",
      "ivr                95 non-null float64\n",
      "dtypes: float64(10), int64(4), object(7)\n",
      "memory usage: 20.3+ KB\n"
     ]
    }
   ],
   "source": [
    "countries.info()"
   ]
  },
  {
   "cell_type": "code",
   "execution_count": 15,
   "metadata": {},
   "outputs": [],
   "source": [
    "# Export CSV\n",
    "countries.to_csv('countries.csv')  "
   ]
  },
  {
   "cell_type": "code",
   "execution_count": 16,
   "metadata": {},
   "outputs": [],
   "source": [
    "# Create multiindex using unsd naming conventions\n",
    "countries = countries.set_index(['globalName','regionName','subRegionName','code'])"
   ]
  },
  {
   "cell_type": "code",
   "execution_count": 17,
   "metadata": {},
   "outputs": [
    {
     "data": {
      "text/html": [
       "<div>\n",
       "<style scoped>\n",
       "    .dataframe tbody tr th:only-of-type {\n",
       "        vertical-align: middle;\n",
       "    }\n",
       "\n",
       "    .dataframe tbody tr th {\n",
       "        vertical-align: top;\n",
       "    }\n",
       "\n",
       "    .dataframe thead th {\n",
       "        text-align: right;\n",
       "    }\n",
       "</style>\n",
       "<table border=\"1\" class=\"dataframe\">\n",
       "  <thead>\n",
       "    <tr style=\"text-align: right;\">\n",
       "      <th></th>\n",
       "      <th></th>\n",
       "      <th></th>\n",
       "      <th></th>\n",
       "      <th>globalCode</th>\n",
       "      <th>regionCode</th>\n",
       "      <th>subRegionCode</th>\n",
       "      <th>interRegionCode</th>\n",
       "      <th>interRegionName</th>\n",
       "      <th>country</th>\n",
       "      <th>m49</th>\n",
       "      <th>ldc</th>\n",
       "      <th>lldc</th>\n",
       "      <th>sids</th>\n",
       "      <th>development</th>\n",
       "      <th>pdi</th>\n",
       "      <th>idv</th>\n",
       "      <th>mas</th>\n",
       "      <th>uai</th>\n",
       "      <th>ltowvs</th>\n",
       "      <th>ivr</th>\n",
       "    </tr>\n",
       "    <tr>\n",
       "      <th>globalName</th>\n",
       "      <th>regionName</th>\n",
       "      <th>subRegionName</th>\n",
       "      <th>code</th>\n",
       "      <th></th>\n",
       "      <th></th>\n",
       "      <th></th>\n",
       "      <th></th>\n",
       "      <th></th>\n",
       "      <th></th>\n",
       "      <th></th>\n",
       "      <th></th>\n",
       "      <th></th>\n",
       "      <th></th>\n",
       "      <th></th>\n",
       "      <th></th>\n",
       "      <th></th>\n",
       "      <th></th>\n",
       "      <th></th>\n",
       "      <th></th>\n",
       "      <th></th>\n",
       "    </tr>\n",
       "  </thead>\n",
       "  <tbody>\n",
       "    <tr>\n",
       "      <th rowspan=\"5\" valign=\"top\">World</th>\n",
       "      <th>Europe</th>\n",
       "      <th>Southern Europe</th>\n",
       "      <th>ALB</th>\n",
       "      <td>1</td>\n",
       "      <td>150</td>\n",
       "      <td>39</td>\n",
       "      <td>NaN</td>\n",
       "      <td>NaN</td>\n",
       "      <td>Albania</td>\n",
       "      <td>8</td>\n",
       "      <td>NaN</td>\n",
       "      <td>NaN</td>\n",
       "      <td>NaN</td>\n",
       "      <td>Developed</td>\n",
       "      <td>90.0</td>\n",
       "      <td>20.0</td>\n",
       "      <td>80.0</td>\n",
       "      <td>70.0</td>\n",
       "      <td>61.0</td>\n",
       "      <td>15.0</td>\n",
       "    </tr>\n",
       "    <tr>\n",
       "      <th>Africa</th>\n",
       "      <th>Northern Africa</th>\n",
       "      <th>DZA</th>\n",
       "      <td>1</td>\n",
       "      <td>2</td>\n",
       "      <td>15</td>\n",
       "      <td>NaN</td>\n",
       "      <td>NaN</td>\n",
       "      <td>Algeria</td>\n",
       "      <td>12</td>\n",
       "      <td>NaN</td>\n",
       "      <td>NaN</td>\n",
       "      <td>NaN</td>\n",
       "      <td>Developing</td>\n",
       "      <td>NaN</td>\n",
       "      <td>NaN</td>\n",
       "      <td>NaN</td>\n",
       "      <td>NaN</td>\n",
       "      <td>26.0</td>\n",
       "      <td>32.0</td>\n",
       "    </tr>\n",
       "    <tr>\n",
       "      <th>Europe</th>\n",
       "      <th>Southern Europe</th>\n",
       "      <th>AND</th>\n",
       "      <td>1</td>\n",
       "      <td>150</td>\n",
       "      <td>39</td>\n",
       "      <td>NaN</td>\n",
       "      <td>NaN</td>\n",
       "      <td>Andorra</td>\n",
       "      <td>20</td>\n",
       "      <td>NaN</td>\n",
       "      <td>NaN</td>\n",
       "      <td>NaN</td>\n",
       "      <td>Developed</td>\n",
       "      <td>NaN</td>\n",
       "      <td>NaN</td>\n",
       "      <td>NaN</td>\n",
       "      <td>NaN</td>\n",
       "      <td>NaN</td>\n",
       "      <td>65.0</td>\n",
       "    </tr>\n",
       "    <tr>\n",
       "      <th>Africa</th>\n",
       "      <th>Sub-Saharan Africa</th>\n",
       "      <th>AGO</th>\n",
       "      <td>1</td>\n",
       "      <td>2</td>\n",
       "      <td>202</td>\n",
       "      <td>17.0</td>\n",
       "      <td>Middle Africa</td>\n",
       "      <td>Angola</td>\n",
       "      <td>24</td>\n",
       "      <td>1.0</td>\n",
       "      <td>NaN</td>\n",
       "      <td>NaN</td>\n",
       "      <td>Developing</td>\n",
       "      <td>83.0</td>\n",
       "      <td>18.0</td>\n",
       "      <td>20.0</td>\n",
       "      <td>60.0</td>\n",
       "      <td>15.0</td>\n",
       "      <td>83.0</td>\n",
       "    </tr>\n",
       "    <tr>\n",
       "      <th>Americas</th>\n",
       "      <th>Latin America and the Caribbean</th>\n",
       "      <th>ARG</th>\n",
       "      <td>1</td>\n",
       "      <td>19</td>\n",
       "      <td>419</td>\n",
       "      <td>5.0</td>\n",
       "      <td>South America</td>\n",
       "      <td>Argentina</td>\n",
       "      <td>32</td>\n",
       "      <td>NaN</td>\n",
       "      <td>NaN</td>\n",
       "      <td>NaN</td>\n",
       "      <td>Developing</td>\n",
       "      <td>49.0</td>\n",
       "      <td>46.0</td>\n",
       "      <td>56.0</td>\n",
       "      <td>86.0</td>\n",
       "      <td>20.0</td>\n",
       "      <td>62.0</td>\n",
       "    </tr>\n",
       "  </tbody>\n",
       "</table>\n",
       "</div>"
      ],
      "text/plain": [
       "                                                            globalCode  \\\n",
       "globalName regionName subRegionName                   code               \n",
       "World      Europe     Southern Europe                 ALB            1   \n",
       "           Africa     Northern Africa                 DZA            1   \n",
       "           Europe     Southern Europe                 AND            1   \n",
       "           Africa     Sub-Saharan Africa              AGO            1   \n",
       "           Americas   Latin America and the Caribbean ARG            1   \n",
       "\n",
       "                                                            regionCode  \\\n",
       "globalName regionName subRegionName                   code               \n",
       "World      Europe     Southern Europe                 ALB          150   \n",
       "           Africa     Northern Africa                 DZA            2   \n",
       "           Europe     Southern Europe                 AND          150   \n",
       "           Africa     Sub-Saharan Africa              AGO            2   \n",
       "           Americas   Latin America and the Caribbean ARG           19   \n",
       "\n",
       "                                                            subRegionCode  \\\n",
       "globalName regionName subRegionName                   code                  \n",
       "World      Europe     Southern Europe                 ALB              39   \n",
       "           Africa     Northern Africa                 DZA              15   \n",
       "           Europe     Southern Europe                 AND              39   \n",
       "           Africa     Sub-Saharan Africa              AGO             202   \n",
       "           Americas   Latin America and the Caribbean ARG             419   \n",
       "\n",
       "                                                            interRegionCode  \\\n",
       "globalName regionName subRegionName                   code                    \n",
       "World      Europe     Southern Europe                 ALB               NaN   \n",
       "           Africa     Northern Africa                 DZA               NaN   \n",
       "           Europe     Southern Europe                 AND               NaN   \n",
       "           Africa     Sub-Saharan Africa              AGO              17.0   \n",
       "           Americas   Latin America and the Caribbean ARG               5.0   \n",
       "\n",
       "                                                           interRegionName  \\\n",
       "globalName regionName subRegionName                   code                   \n",
       "World      Europe     Southern Europe                 ALB              NaN   \n",
       "           Africa     Northern Africa                 DZA              NaN   \n",
       "           Europe     Southern Europe                 AND              NaN   \n",
       "           Africa     Sub-Saharan Africa              AGO    Middle Africa   \n",
       "           Americas   Latin America and the Caribbean ARG    South America   \n",
       "\n",
       "                                                              country  m49  \\\n",
       "globalName regionName subRegionName                   code                   \n",
       "World      Europe     Southern Europe                 ALB     Albania    8   \n",
       "           Africa     Northern Africa                 DZA     Algeria   12   \n",
       "           Europe     Southern Europe                 AND     Andorra   20   \n",
       "           Africa     Sub-Saharan Africa              AGO      Angola   24   \n",
       "           Americas   Latin America and the Caribbean ARG   Argentina   32   \n",
       "\n",
       "                                                            ldc  lldc  sids  \\\n",
       "globalName regionName subRegionName                   code                    \n",
       "World      Europe     Southern Europe                 ALB   NaN   NaN   NaN   \n",
       "           Africa     Northern Africa                 DZA   NaN   NaN   NaN   \n",
       "           Europe     Southern Europe                 AND   NaN   NaN   NaN   \n",
       "           Africa     Sub-Saharan Africa              AGO   1.0   NaN   NaN   \n",
       "           Americas   Latin America and the Caribbean ARG   NaN   NaN   NaN   \n",
       "\n",
       "                                                           development   pdi  \\\n",
       "globalName regionName subRegionName                   code                     \n",
       "World      Europe     Southern Europe                 ALB    Developed  90.0   \n",
       "           Africa     Northern Africa                 DZA   Developing   NaN   \n",
       "           Europe     Southern Europe                 AND    Developed   NaN   \n",
       "           Africa     Sub-Saharan Africa              AGO   Developing  83.0   \n",
       "           Americas   Latin America and the Caribbean ARG   Developing  49.0   \n",
       "\n",
       "                                                             idv   mas   uai  \\\n",
       "globalName regionName subRegionName                   code                     \n",
       "World      Europe     Southern Europe                 ALB   20.0  80.0  70.0   \n",
       "           Africa     Northern Africa                 DZA    NaN   NaN   NaN   \n",
       "           Europe     Southern Europe                 AND    NaN   NaN   NaN   \n",
       "           Africa     Sub-Saharan Africa              AGO   18.0  20.0  60.0   \n",
       "           Americas   Latin America and the Caribbean ARG   46.0  56.0  86.0   \n",
       "\n",
       "                                                            ltowvs   ivr  \n",
       "globalName regionName subRegionName                   code                \n",
       "World      Europe     Southern Europe                 ALB     61.0  15.0  \n",
       "           Africa     Northern Africa                 DZA     26.0  32.0  \n",
       "           Europe     Southern Europe                 AND      NaN  65.0  \n",
       "           Africa     Sub-Saharan Africa              AGO     15.0  83.0  \n",
       "           Americas   Latin America and the Caribbean ARG     20.0  62.0  "
      ]
     },
     "execution_count": 17,
     "metadata": {},
     "output_type": "execute_result"
    }
   ],
   "source": [
    "countries.head()"
   ]
  },
  {
   "cell_type": "code",
   "execution_count": null,
   "metadata": {},
   "outputs": [],
   "source": []
  },
  {
   "cell_type": "markdown",
   "metadata": {},
   "source": [
    "# Create 'covid' dataframe with timeseries & confirmed cases"
   ]
  },
  {
   "cell_type": "code",
   "execution_count": 18,
   "metadata": {},
   "outputs": [
    {
     "data": {
      "text/plain": [
       "Index(['Entity', 'Code', 'Date', ' (cases)',\n",
       "       'Number of days since the 100th confirmed case (days)'],\n",
       "      dtype='object')"
      ]
     },
     "execution_count": 18,
     "metadata": {},
     "output_type": "execute_result"
    }
   ],
   "source": [
    "covid_data.columns"
   ]
  },
  {
   "cell_type": "code",
   "execution_count": 19,
   "metadata": {},
   "outputs": [
    {
     "data": {
      "text/html": [
       "<div>\n",
       "<style scoped>\n",
       "    .dataframe tbody tr th:only-of-type {\n",
       "        vertical-align: middle;\n",
       "    }\n",
       "\n",
       "    .dataframe tbody tr th {\n",
       "        vertical-align: top;\n",
       "    }\n",
       "\n",
       "    .dataframe thead th {\n",
       "        text-align: right;\n",
       "    }\n",
       "</style>\n",
       "<table border=\"1\" class=\"dataframe\">\n",
       "  <thead>\n",
       "    <tr style=\"text-align: right;\">\n",
       "      <th></th>\n",
       "      <th>Entity</th>\n",
       "      <th>Code</th>\n",
       "      <th>Date</th>\n",
       "      <th>(cases)</th>\n",
       "      <th>Number of days since the 100th confirmed case (days)</th>\n",
       "    </tr>\n",
       "  </thead>\n",
       "  <tbody>\n",
       "    <tr>\n",
       "      <th>0</th>\n",
       "      <td>Afghanistan</td>\n",
       "      <td>AFG</td>\n",
       "      <td>2019-12-31</td>\n",
       "      <td>0.0</td>\n",
       "      <td>NaN</td>\n",
       "    </tr>\n",
       "    <tr>\n",
       "      <th>1</th>\n",
       "      <td>Afghanistan</td>\n",
       "      <td>AFG</td>\n",
       "      <td>2020-01-01</td>\n",
       "      <td>0.0</td>\n",
       "      <td>NaN</td>\n",
       "    </tr>\n",
       "    <tr>\n",
       "      <th>2</th>\n",
       "      <td>Afghanistan</td>\n",
       "      <td>AFG</td>\n",
       "      <td>2020-01-02</td>\n",
       "      <td>0.0</td>\n",
       "      <td>NaN</td>\n",
       "    </tr>\n",
       "    <tr>\n",
       "      <th>3</th>\n",
       "      <td>Afghanistan</td>\n",
       "      <td>AFG</td>\n",
       "      <td>2020-01-03</td>\n",
       "      <td>0.0</td>\n",
       "      <td>NaN</td>\n",
       "    </tr>\n",
       "    <tr>\n",
       "      <th>4</th>\n",
       "      <td>Afghanistan</td>\n",
       "      <td>AFG</td>\n",
       "      <td>2020-01-04</td>\n",
       "      <td>0.0</td>\n",
       "      <td>NaN</td>\n",
       "    </tr>\n",
       "  </tbody>\n",
       "</table>\n",
       "</div>"
      ],
      "text/plain": [
       "        Entity Code       Date   (cases)  \\\n",
       "0  Afghanistan  AFG 2019-12-31       0.0   \n",
       "1  Afghanistan  AFG 2020-01-01       0.0   \n",
       "2  Afghanistan  AFG 2020-01-02       0.0   \n",
       "3  Afghanistan  AFG 2020-01-03       0.0   \n",
       "4  Afghanistan  AFG 2020-01-04       0.0   \n",
       "\n",
       "   Number of days since the 100th confirmed case (days)  \n",
       "0                                                NaN     \n",
       "1                                                NaN     \n",
       "2                                                NaN     \n",
       "3                                                NaN     \n",
       "4                                                NaN     "
      ]
     },
     "execution_count": 19,
     "metadata": {},
     "output_type": "execute_result"
    }
   ],
   "source": [
    "covid_data.head()"
   ]
  },
  {
   "cell_type": "code",
   "execution_count": 20,
   "metadata": {},
   "outputs": [],
   "source": [
    "#Format columns\n",
    "covid = covid_data.rename(columns={'Entity': \"country\",\n",
    "                              'Code' : \"code\",\n",
    "                              'Date': \"date\",\n",
    "                              ' (cases)' : \"cases\",\n",
    "                              'Number of days since the 100th confirmed case (days)':\"daysGT100\"\n",
    "                                         })\n",
    "covid = covid[['code','date','cases','daysGT100']]"
   ]
  },
  {
   "cell_type": "code",
   "execution_count": 21,
   "metadata": {},
   "outputs": [
    {
     "name": "stdout",
     "output_type": "stream",
     "text": [
      "<class 'pandas.core.frame.DataFrame'>\n",
      "RangeIndex: 12768 entries, 0 to 12767\n",
      "Data columns (total 4 columns):\n",
      "code         11092 non-null object\n",
      "date         12768 non-null datetime64[ns]\n",
      "cases        12761 non-null float64\n",
      "daysGT100    4459 non-null float64\n",
      "dtypes: datetime64[ns](1), float64(2), object(1)\n",
      "memory usage: 399.1+ KB\n"
     ]
    }
   ],
   "source": [
    "covid.info()"
   ]
  },
  {
   "cell_type": "code",
   "execution_count": 22,
   "metadata": {},
   "outputs": [
    {
     "name": "stdout",
     "output_type": "stream",
     "text": [
      "<class 'pandas.core.frame.DataFrame'>\n",
      "RangeIndex: 47234 entries, 0 to 47233\n",
      "Data columns (total 6 columns):\n",
      "Entity                                              47234 non-null object\n",
      "Code                                                44392 non-null object\n",
      "Year                                                47234 non-null int64\n",
      "Population density (people per km² of land area)    14600 non-null float64\n",
      "GDP per capita (constant 2011 international $)      6407 non-null float64\n",
      "Total population (Gapminder)                        43340 non-null float64\n",
      "dtypes: float64(3), int64(1), object(2)\n",
      "memory usage: 2.2+ MB\n"
     ]
    }
   ],
   "source": [
    "density_vs_prosperity.info()"
   ]
  },
  {
   "cell_type": "code",
   "execution_count": 23,
   "metadata": {},
   "outputs": [
    {
     "name": "stdout",
     "output_type": "stream",
     "text": [
      "<class 'pandas.core.frame.DataFrame'>\n",
      "Int64Index: 44392 entries, 0 to 47233\n",
      "Data columns (total 6 columns):\n",
      "Entity                                              44392 non-null object\n",
      "Code                                                44392 non-null object\n",
      "Year                                                44392 non-null int64\n",
      "Population density (people per km² of land area)    11978 non-null float64\n",
      "GDP per capita (constant 2011 international $)      5167 non-null float64\n",
      "Total population (Gapminder)                        43120 non-null float64\n",
      "dtypes: float64(3), int64(1), object(2)\n",
      "memory usage: 2.4+ MB\n"
     ]
    }
   ],
   "source": [
    "density_vs_prosperity.dropna(subset=['Code'],inplace=True)\n",
    "density_vs_prosperity.info()"
   ]
  },
  {
   "cell_type": "code",
   "execution_count": 24,
   "metadata": {},
   "outputs": [
    {
     "name": "stdout",
     "output_type": "stream",
     "text": [
      "<class 'pandas.core.frame.DataFrame'>\n",
      "Int64Index: 12363 entries, 0 to 15030\n",
      "Data columns (total 5 columns):\n",
      "Entity              12363 non-null object\n",
      "Code                12363 non-null object\n",
      "Year                12363 non-null int64\n",
      "Urban population    12363 non-null int64\n",
      "Rural population    12363 non-null int64\n",
      "dtypes: int64(3), object(2)\n",
      "memory usage: 579.5+ KB\n"
     ]
    }
   ],
   "source": [
    "urban_rural_population.dropna(subset=['Code'],inplace=True)\n",
    "urban_rural_population.info()"
   ]
  },
  {
   "cell_type": "code",
   "execution_count": 25,
   "metadata": {},
   "outputs": [
    {
     "name": "stdout",
     "output_type": "stream",
     "text": [
      "<class 'pandas.core.frame.DataFrame'>\n",
      "Int64Index: 24019 entries, 0 to 27976\n",
      "Data columns (total 5 columns):\n",
      "Entity       24019 non-null object\n",
      "Code         24019 non-null object\n",
      "Year         24019 non-null int64\n",
      "Urban (%)    24019 non-null float64\n",
      "Rural (%)    24019 non-null float64\n",
      "dtypes: float64(2), int64(1), object(2)\n",
      "memory usage: 1.1+ MB\n"
     ]
    }
   ],
   "source": [
    "urban_vs_rural_majority.dropna(subset=['Code'],inplace=True)\n",
    "urban_vs_rural_majority.info()"
   ]
  },
  {
   "cell_type": "code",
   "execution_count": 26,
   "metadata": {},
   "outputs": [],
   "source": [
    "#urban_vs_rural_majority['Year'] = pd.to_datetime(urban_vs_rural_majority['Year'])"
   ]
  },
  {
   "cell_type": "code",
   "execution_count": 27,
   "metadata": {},
   "outputs": [
    {
     "name": "stdout",
     "output_type": "stream",
     "text": [
      "<class 'pandas.core.frame.DataFrame'>\n",
      "Int64Index: 11125 entries, 0 to 13746\n",
      "Data columns (total 4 columns):\n",
      "Entity                                             11125 non-null object\n",
      "Code                                               11125 non-null object\n",
      "Year                                               11125 non-null int64\n",
      "Life expectancy at birth, total (years) (years)    11125 non-null float64\n",
      "dtypes: float64(1), int64(1), object(2)\n",
      "memory usage: 434.6+ KB\n"
     ]
    }
   ],
   "source": [
    "life_expectancy.dropna(subset=['Code'],inplace=True)\n",
    "life_expectancy.info()"
   ]
  },
  {
   "cell_type": "code",
   "execution_count": 28,
   "metadata": {},
   "outputs": [
    {
     "data": {
      "text/plain": [
       "(6324, 4)"
      ]
     },
     "execution_count": 28,
     "metadata": {},
     "output_type": "execute_result"
    }
   ],
   "source": [
    "median_age.dropna(subset=['Code'],inplace=True)\n",
    "median_age.shape"
   ]
  },
  {
   "cell_type": "code",
   "execution_count": 29,
   "metadata": {},
   "outputs": [
    {
     "data": {
      "text/plain": [
       "(12768, 5)"
      ]
     },
     "execution_count": 29,
     "metadata": {},
     "output_type": "execute_result"
    }
   ],
   "source": [
    "covid_data.shape"
   ]
  },
  {
   "cell_type": "code",
   "execution_count": 30,
   "metadata": {},
   "outputs": [
    {
     "data": {
      "text/plain": [
       "(12283, 8)"
      ]
     },
     "execution_count": 30,
     "metadata": {},
     "output_type": "execute_result"
    }
   ],
   "source": [
    "# Merge data\n",
    "merged_data = pd.merge(density_vs_prosperity, urban_rural_population, on=[\"Entity\",\"Code\", \"Year\"])\n",
    "merged_data.shape"
   ]
  },
  {
   "cell_type": "code",
   "execution_count": 31,
   "metadata": {},
   "outputs": [
    {
     "data": {
      "text/html": [
       "<div>\n",
       "<style scoped>\n",
       "    .dataframe tbody tr th:only-of-type {\n",
       "        vertical-align: middle;\n",
       "    }\n",
       "\n",
       "    .dataframe tbody tr th {\n",
       "        vertical-align: top;\n",
       "    }\n",
       "\n",
       "    .dataframe thead th {\n",
       "        text-align: right;\n",
       "    }\n",
       "</style>\n",
       "<table border=\"1\" class=\"dataframe\">\n",
       "  <thead>\n",
       "    <tr style=\"text-align: right;\">\n",
       "      <th></th>\n",
       "      <th>Entity</th>\n",
       "      <th>Code</th>\n",
       "      <th>Year</th>\n",
       "      <th>Population density (people per km² of land area)</th>\n",
       "      <th>GDP per capita (constant 2011 international $)</th>\n",
       "      <th>Total population (Gapminder)</th>\n",
       "      <th>Urban population</th>\n",
       "      <th>Rural population</th>\n",
       "    </tr>\n",
       "  </thead>\n",
       "  <tbody>\n",
       "    <tr>\n",
       "      <th>0</th>\n",
       "      <td>Afghanistan</td>\n",
       "      <td>AFG</td>\n",
       "      <td>1960</td>\n",
       "      <td>NaN</td>\n",
       "      <td>NaN</td>\n",
       "      <td>8996351.0</td>\n",
       "      <td>755783</td>\n",
       "      <td>8240568</td>\n",
       "    </tr>\n",
       "    <tr>\n",
       "      <th>1</th>\n",
       "      <td>Afghanistan</td>\n",
       "      <td>AFG</td>\n",
       "      <td>1961</td>\n",
       "      <td>14.040934</td>\n",
       "      <td>NaN</td>\n",
       "      <td>9166764.0</td>\n",
       "      <td>796042</td>\n",
       "      <td>8370722</td>\n",
       "    </tr>\n",
       "    <tr>\n",
       "      <th>2</th>\n",
       "      <td>Afghanistan</td>\n",
       "      <td>AFG</td>\n",
       "      <td>1962</td>\n",
       "      <td>14.315271</td>\n",
       "      <td>NaN</td>\n",
       "      <td>9345868.0</td>\n",
       "      <td>838885</td>\n",
       "      <td>8506983</td>\n",
       "    </tr>\n",
       "    <tr>\n",
       "      <th>3</th>\n",
       "      <td>Afghanistan</td>\n",
       "      <td>AFG</td>\n",
       "      <td>1963</td>\n",
       "      <td>14.603367</td>\n",
       "      <td>NaN</td>\n",
       "      <td>9533954.0</td>\n",
       "      <td>884370</td>\n",
       "      <td>8649584</td>\n",
       "    </tr>\n",
       "    <tr>\n",
       "      <th>4</th>\n",
       "      <td>Afghanistan</td>\n",
       "      <td>AFG</td>\n",
       "      <td>1964</td>\n",
       "      <td>14.905739</td>\n",
       "      <td>NaN</td>\n",
       "      <td>9731361.0</td>\n",
       "      <td>932848</td>\n",
       "      <td>8798513</td>\n",
       "    </tr>\n",
       "  </tbody>\n",
       "</table>\n",
       "</div>"
      ],
      "text/plain": [
       "        Entity Code  Year  Population density (people per km² of land area)  \\\n",
       "0  Afghanistan  AFG  1960                                               NaN   \n",
       "1  Afghanistan  AFG  1961                                         14.040934   \n",
       "2  Afghanistan  AFG  1962                                         14.315271   \n",
       "3  Afghanistan  AFG  1963                                         14.603367   \n",
       "4  Afghanistan  AFG  1964                                         14.905739   \n",
       "\n",
       "   GDP per capita (constant 2011 international $)  \\\n",
       "0                                             NaN   \n",
       "1                                             NaN   \n",
       "2                                             NaN   \n",
       "3                                             NaN   \n",
       "4                                             NaN   \n",
       "\n",
       "   Total population (Gapminder)  Urban population  Rural population  \n",
       "0                     8996351.0            755783           8240568  \n",
       "1                     9166764.0            796042           8370722  \n",
       "2                     9345868.0            838885           8506983  \n",
       "3                     9533954.0            884370           8649584  \n",
       "4                     9731361.0            932848           8798513  "
      ]
     },
     "execution_count": 31,
     "metadata": {},
     "output_type": "execute_result"
    }
   ],
   "source": [
    "merged_data.head()"
   ]
  },
  {
   "cell_type": "code",
   "execution_count": 32,
   "metadata": {},
   "outputs": [
    {
     "name": "stdout",
     "output_type": "stream",
     "text": [
      "<class 'pandas.core.frame.DataFrame'>\n",
      "Int64Index: 24019 entries, 0 to 27976\n",
      "Data columns (total 5 columns):\n",
      "Entity       24019 non-null object\n",
      "Code         24019 non-null object\n",
      "Year         24019 non-null int64\n",
      "Urban (%)    24019 non-null float64\n",
      "Rural (%)    24019 non-null float64\n",
      "dtypes: float64(2), int64(1), object(2)\n",
      "memory usage: 1.1+ MB\n"
     ]
    }
   ],
   "source": [
    "urban_vs_rural_majority.info()"
   ]
  },
  {
   "cell_type": "code",
   "execution_count": 33,
   "metadata": {},
   "outputs": [
    {
     "data": {
      "text/plain": [
       "(12283, 10)"
      ]
     },
     "execution_count": 33,
     "metadata": {},
     "output_type": "execute_result"
    }
   ],
   "source": [
    "merged_data = pd.merge(merged_data, urban_vs_rural_majority, on=[\"Entity\", \"Code\", \"Year\"])\n",
    "merged_data.shape"
   ]
  },
  {
   "cell_type": "code",
   "execution_count": 34,
   "metadata": {},
   "outputs": [
    {
     "data": {
      "text/plain": [
       "(11007, 11)"
      ]
     },
     "execution_count": 34,
     "metadata": {},
     "output_type": "execute_result"
    }
   ],
   "source": [
    "merged_data = pd.merge(merged_data, life_expectancy, on=[\"Entity\", \"Code\", \"Year\"])\n",
    "merged_data.shape"
   ]
  },
  {
   "cell_type": "code",
   "execution_count": 38,
   "metadata": {},
   "outputs": [
    {
     "data": {
      "text/plain": [
       "Index(['Entity', 'Code', 'Year',\n",
       "       'Population density (people per km² of land area)',\n",
       "       'GDP per capita (constant 2011 international $)',\n",
       "       'Total population (Gapminder)', 'Urban population', 'Rural population',\n",
       "       'Urban (%)', 'Rural (%)',\n",
       "       'Life expectancy at birth, total (years) (years)'],\n",
       "      dtype='object')"
      ]
     },
     "execution_count": 38,
     "metadata": {},
     "output_type": "execute_result"
    }
   ],
   "source": [
    "merged_data.columns"
   ]
  },
  {
   "cell_type": "code",
   "execution_count": 35,
   "metadata": {},
   "outputs": [
    {
     "ename": "KeyError",
     "evalue": "'Code'",
     "output_type": "error",
     "traceback": [
      "\u001b[1;31m---------------------------------------------------------------------------\u001b[0m",
      "\u001b[1;31mKeyError\u001b[0m                                  Traceback (most recent call last)",
      "\u001b[1;32m<ipython-input-35-051eb6feb003>\u001b[0m in \u001b[0;36m<module>\u001b[1;34m\u001b[0m\n\u001b[1;32m----> 1\u001b[1;33m \u001b[0mmerged_data\u001b[0m \u001b[1;33m=\u001b[0m \u001b[0mpd\u001b[0m\u001b[1;33m.\u001b[0m\u001b[0mmerge\u001b[0m\u001b[1;33m(\u001b[0m\u001b[0mmerged_data\u001b[0m\u001b[1;33m,\u001b[0m \u001b[0munsd\u001b[0m\u001b[1;33m,\u001b[0m \u001b[0mon\u001b[0m\u001b[1;33m=\u001b[0m\u001b[1;33m[\u001b[0m\u001b[1;34m\"Code\"\u001b[0m\u001b[1;33m]\u001b[0m\u001b[1;33m)\u001b[0m\u001b[1;33m\u001b[0m\u001b[1;33m\u001b[0m\u001b[0m\n\u001b[0m\u001b[0;32m      2\u001b[0m \u001b[0mmerged_data\u001b[0m\u001b[1;33m.\u001b[0m\u001b[0mshape\u001b[0m\u001b[1;33m\u001b[0m\u001b[1;33m\u001b[0m\u001b[0m\n",
      "\u001b[1;32mC:\\ProgramData\\Anaconda3\\lib\\site-packages\\pandas\\core\\reshape\\merge.py\u001b[0m in \u001b[0;36mmerge\u001b[1;34m(left, right, how, on, left_on, right_on, left_index, right_index, sort, suffixes, copy, indicator, validate)\u001b[0m\n\u001b[0;32m     45\u001b[0m                          \u001b[0mright_index\u001b[0m\u001b[1;33m=\u001b[0m\u001b[0mright_index\u001b[0m\u001b[1;33m,\u001b[0m \u001b[0msort\u001b[0m\u001b[1;33m=\u001b[0m\u001b[0msort\u001b[0m\u001b[1;33m,\u001b[0m \u001b[0msuffixes\u001b[0m\u001b[1;33m=\u001b[0m\u001b[0msuffixes\u001b[0m\u001b[1;33m,\u001b[0m\u001b[1;33m\u001b[0m\u001b[1;33m\u001b[0m\u001b[0m\n\u001b[0;32m     46\u001b[0m                          \u001b[0mcopy\u001b[0m\u001b[1;33m=\u001b[0m\u001b[0mcopy\u001b[0m\u001b[1;33m,\u001b[0m \u001b[0mindicator\u001b[0m\u001b[1;33m=\u001b[0m\u001b[0mindicator\u001b[0m\u001b[1;33m,\u001b[0m\u001b[1;33m\u001b[0m\u001b[1;33m\u001b[0m\u001b[0m\n\u001b[1;32m---> 47\u001b[1;33m                          validate=validate)\n\u001b[0m\u001b[0;32m     48\u001b[0m     \u001b[1;32mreturn\u001b[0m \u001b[0mop\u001b[0m\u001b[1;33m.\u001b[0m\u001b[0mget_result\u001b[0m\u001b[1;33m(\u001b[0m\u001b[1;33m)\u001b[0m\u001b[1;33m\u001b[0m\u001b[1;33m\u001b[0m\u001b[0m\n\u001b[0;32m     49\u001b[0m \u001b[1;33m\u001b[0m\u001b[0m\n",
      "\u001b[1;32mC:\\ProgramData\\Anaconda3\\lib\\site-packages\\pandas\\core\\reshape\\merge.py\u001b[0m in \u001b[0;36m__init__\u001b[1;34m(self, left, right, how, on, left_on, right_on, axis, left_index, right_index, sort, suffixes, copy, indicator, validate)\u001b[0m\n\u001b[0;32m    527\u001b[0m         (self.left_join_keys,\n\u001b[0;32m    528\u001b[0m          \u001b[0mself\u001b[0m\u001b[1;33m.\u001b[0m\u001b[0mright_join_keys\u001b[0m\u001b[1;33m,\u001b[0m\u001b[1;33m\u001b[0m\u001b[1;33m\u001b[0m\u001b[0m\n\u001b[1;32m--> 529\u001b[1;33m          self.join_names) = self._get_merge_keys()\n\u001b[0m\u001b[0;32m    530\u001b[0m \u001b[1;33m\u001b[0m\u001b[0m\n\u001b[0;32m    531\u001b[0m         \u001b[1;31m# validate the merge keys dtypes. We may need to coerce\u001b[0m\u001b[1;33m\u001b[0m\u001b[1;33m\u001b[0m\u001b[1;33m\u001b[0m\u001b[0m\n",
      "\u001b[1;32mC:\\ProgramData\\Anaconda3\\lib\\site-packages\\pandas\\core\\reshape\\merge.py\u001b[0m in \u001b[0;36m_get_merge_keys\u001b[1;34m(self)\u001b[0m\n\u001b[0;32m    831\u001b[0m                         \u001b[1;32mif\u001b[0m \u001b[0mrk\u001b[0m \u001b[1;32mis\u001b[0m \u001b[1;32mnot\u001b[0m \u001b[1;32mNone\u001b[0m\u001b[1;33m:\u001b[0m\u001b[1;33m\u001b[0m\u001b[1;33m\u001b[0m\u001b[0m\n\u001b[0;32m    832\u001b[0m                             right_keys.append(\n\u001b[1;32m--> 833\u001b[1;33m                                 right._get_label_or_level_values(rk))\n\u001b[0m\u001b[0;32m    834\u001b[0m                         \u001b[1;32melse\u001b[0m\u001b[1;33m:\u001b[0m\u001b[1;33m\u001b[0m\u001b[1;33m\u001b[0m\u001b[0m\n\u001b[0;32m    835\u001b[0m                             \u001b[1;31m# work-around for merge_asof(right_index=True)\u001b[0m\u001b[1;33m\u001b[0m\u001b[1;33m\u001b[0m\u001b[1;33m\u001b[0m\u001b[0m\n",
      "\u001b[1;32mC:\\ProgramData\\Anaconda3\\lib\\site-packages\\pandas\\core\\generic.py\u001b[0m in \u001b[0;36m_get_label_or_level_values\u001b[1;34m(self, key, axis)\u001b[0m\n\u001b[0;32m   1704\u001b[0m             \u001b[0mvalues\u001b[0m \u001b[1;33m=\u001b[0m \u001b[0mself\u001b[0m\u001b[1;33m.\u001b[0m\u001b[0maxes\u001b[0m\u001b[1;33m[\u001b[0m\u001b[0maxis\u001b[0m\u001b[1;33m]\u001b[0m\u001b[1;33m.\u001b[0m\u001b[0mget_level_values\u001b[0m\u001b[1;33m(\u001b[0m\u001b[0mkey\u001b[0m\u001b[1;33m)\u001b[0m\u001b[1;33m.\u001b[0m\u001b[0m_values\u001b[0m\u001b[1;33m\u001b[0m\u001b[1;33m\u001b[0m\u001b[0m\n\u001b[0;32m   1705\u001b[0m         \u001b[1;32melse\u001b[0m\u001b[1;33m:\u001b[0m\u001b[1;33m\u001b[0m\u001b[1;33m\u001b[0m\u001b[0m\n\u001b[1;32m-> 1706\u001b[1;33m             \u001b[1;32mraise\u001b[0m \u001b[0mKeyError\u001b[0m\u001b[1;33m(\u001b[0m\u001b[0mkey\u001b[0m\u001b[1;33m)\u001b[0m\u001b[1;33m\u001b[0m\u001b[1;33m\u001b[0m\u001b[0m\n\u001b[0m\u001b[0;32m   1707\u001b[0m \u001b[1;33m\u001b[0m\u001b[0m\n\u001b[0;32m   1708\u001b[0m         \u001b[1;31m# Check for duplicates\u001b[0m\u001b[1;33m\u001b[0m\u001b[1;33m\u001b[0m\u001b[1;33m\u001b[0m\u001b[0m\n",
      "\u001b[1;31mKeyError\u001b[0m: 'Code'"
     ]
    }
   ],
   "source": [
    "merged_data = pd.merge(merged_data, unsd, on=[\"Code\"])\n",
    "merged_data.shape"
   ]
  },
  {
   "cell_type": "code",
   "execution_count": null,
   "metadata": {},
   "outputs": [],
   "source": [
    "merged_data = pd.merge(merged_data, wom, on=[\"Code\"])\n",
    "merged_data.shape"
   ]
  },
  {
   "cell_type": "code",
   "execution_count": null,
   "metadata": {},
   "outputs": [],
   "source": [
    "merged_data.head()"
   ]
  },
  {
   "cell_type": "code",
   "execution_count": null,
   "metadata": {},
   "outputs": [],
   "source": [
    "merged_data = pd.merge(merged_data, median_age, on=[\"Entity\", \"Code\", \"Year\"])\n",
    "merged_data.shape"
   ]
  },
  {
   "cell_type": "code",
   "execution_count": null,
   "metadata": {},
   "outputs": [],
   "source": [
    "merged_data.head()"
   ]
  },
  {
   "cell_type": "code",
   "execution_count": null,
   "metadata": {},
   "outputs": [],
   "source": [
    "merged_data.columns"
   ]
  },
  {
   "cell_type": "code",
   "execution_count": null,
   "metadata": {},
   "outputs": [],
   "source": [
    "#Format columns\n",
    "merged_data = merged_data.rename(columns={\"Population density (people per km² of land area)\": \"popDensity\",\n",
    "                                          \"GDP per capita (constant 2011 international $)\" : \"gdp\",\n",
    "                                         \"Total population (Gapminder)\": \"gapPop\",\n",
    "                                         \"Urban population\": \"urbanPop\",\n",
    "                                         \"Rural population\": \"ruralPop\",\n",
    "                                         \"Urban (%)\":\"urbanPct\",\n",
    "                                         \"Rural (%)\": \"ruralPct\",\n",
    "                                         \"Life expectancy at birth, total (years) (years)\":\"lifeExpectancy\",\n",
    "                                         \"UN Population Division (Median Age) (2017) (years)\":\"medianAge\",\n",
    "                                         \"Global Code\":\"globalCode\",\n",
    "                                         \"Global Name\":\"globalName\",\n",
    "                                         'Region Code':\"regionCode\",\n",
    "                                          'Region Name':\"regionName\",\n",
    "                                          'Sub-region Code':\"subRegionCode\",\n",
    "                                          'Sub-region Name':\"subRegionName\",\n",
    "                                          'Intermediate Region Code':\"interRegionCode\",\n",
    "                                          'Intermediate Region Name':\"interRegionName\",\n",
    "                                          'Country or Area':\"country\",\n",
    "                                          'M49 Code':\"m49\",\n",
    "                                          'Least Developed Countries (LDC)':\"ldc\",\n",
    "                                          'Land Locked Developing Countries (LLDC)':\"lldc\",\n",
    "                                          'Small Island Developing States (SIDS)':\"sids\",\n",
    "                                          'Developed / Developing Countries':\"development\",\n",
    "                                          'UN Population Division (Median Age) (2017) (years)_y': 'medianAge'\n",
    "                                         })"
   ]
  },
  {
   "cell_type": "code",
   "execution_count": null,
   "metadata": {},
   "outputs": [],
   "source": [
    "merged_data.columns"
   ]
  },
  {
   "cell_type": "code",
   "execution_count": null,
   "metadata": {},
   "outputs": [],
   "source": [
    "merged_data.head()"
   ]
  },
  {
   "cell_type": "code",
   "execution_count": null,
   "metadata": {},
   "outputs": [],
   "source": [
    "hoefstede.shape"
   ]
  },
  {
   "cell_type": "code",
   "execution_count": null,
   "metadata": {},
   "outputs": [],
   "source": [
    "#hoefstede.head()"
   ]
  },
  {
   "cell_type": "code",
   "execution_count": null,
   "metadata": {},
   "outputs": [],
   "source": [
    "hoefstede = hoefstede.rename(columns={\"ctr\": \"Code\",\n",
    "                                          \"country\" : \"Entity\"})\n",
    "#hoefstede.head()"
   ]
  },
  {
   "cell_type": "code",
   "execution_count": null,
   "metadata": {},
   "outputs": [],
   "source": [
    "covid_data.shape"
   ]
  },
  {
   "cell_type": "code",
   "execution_count": null,
   "metadata": {},
   "outputs": [],
   "source": [
    "merged_data = pd.merge(merged_data, hoefstede, on=[ \"Code\"])\n",
    "#merged_data.head()"
   ]
  },
  {
   "cell_type": "code",
   "execution_count": null,
   "metadata": {},
   "outputs": [],
   "source": [
    "merged_data.shape"
   ]
  },
  {
   "cell_type": "code",
   "execution_count": null,
   "metadata": {},
   "outputs": [],
   "source": [
    "merged_data['Year'].max()"
   ]
  },
  {
   "cell_type": "code",
   "execution_count": null,
   "metadata": {},
   "outputs": [],
   "source": [
    "merged_data = merged_data[merged_data[\"Year\"] == 2015]\n",
    "#merged_data.head()"
   ]
  },
  {
   "cell_type": "code",
   "execution_count": null,
   "metadata": {},
   "outputs": [],
   "source": [
    "merged_data.drop(['Entity_y','Year'], axis=1,inplace=True)"
   ]
  },
  {
   "cell_type": "code",
   "execution_count": null,
   "metadata": {},
   "outputs": [],
   "source": [
    "merged_data = merged_data.rename(columns={\"Entity_x\": \"Entity\"})"
   ]
  },
  {
   "cell_type": "code",
   "execution_count": null,
   "metadata": {},
   "outputs": [],
   "source": [
    "merged_data.head()"
   ]
  },
  {
   "cell_type": "code",
   "execution_count": null,
   "metadata": {},
   "outputs": [],
   "source": [
    "merged_data.shape"
   ]
  },
  {
   "cell_type": "code",
   "execution_count": null,
   "metadata": {},
   "outputs": [],
   "source": [
    "#covid_data.head()"
   ]
  },
  {
   "cell_type": "code",
   "execution_count": null,
   "metadata": {},
   "outputs": [],
   "source": [
    "merged_data = pd.merge(merged_data, covid_data, on=[ \"Code\"])\n",
    "#merged_data.head()"
   ]
  },
  {
   "cell_type": "code",
   "execution_count": null,
   "metadata": {},
   "outputs": [],
   "source": [
    "merged_data.drop(['Entity_y'], axis=1,inplace=True)"
   ]
  },
  {
   "cell_type": "code",
   "execution_count": null,
   "metadata": {},
   "outputs": [],
   "source": [
    "merged_data = merged_data.rename(columns={\"Entity_x\": \"Entity\",\n",
    "                                         \" (cases)\" : \"cases\",\n",
    "                                          \"Number of days since the 100th confirmed case (days)\":\"days_gt_100\"})"
   ]
  },
  {
   "cell_type": "code",
   "execution_count": null,
   "metadata": {},
   "outputs": [],
   "source": [
    "merged_data.shape"
   ]
  },
  {
   "cell_type": "code",
   "execution_count": null,
   "metadata": {},
   "outputs": [],
   "source": [
    "merged_data.tail()"
   ]
  },
  {
   "cell_type": "code",
   "execution_count": null,
   "metadata": {},
   "outputs": [],
   "source": [
    "# Drop rows where days_gt_100 is null\n",
    "#merged_data = merged_data[merged_data.days_gt_100 != 0]\n",
    "merged_data.dropna(subset=['days_gt_100'],inplace=True)\n",
    "merged_data.shape"
   ]
  },
  {
   "cell_type": "code",
   "execution_count": null,
   "metadata": {},
   "outputs": [],
   "source": [
    "merged_data['log_cases'] = np.log(merged_data['cases'])\n",
    "merged_data['casesPop'] = (merged_data['cases']/merged_data['calcPop'])\n",
    "merged_data['logcasesPop'] = np.log(merged_data['cases']/merged_data['calcPop'])\n",
    "merged_data['logcasesMPop'] = np.log(merged_data['casesMPop'])\n",
    "# merged_data['log_cases'] = np.log(merged_data['cases'])\n",
    "# merged_data['log_cases'] = np.log(merged_data['cases'])"
   ]
  },
  {
   "cell_type": "code",
   "execution_count": null,
   "metadata": {},
   "outputs": [],
   "source": [
    "merged_data.info()"
   ]
  },
  {
   "cell_type": "code",
   "execution_count": null,
   "metadata": {},
   "outputs": [],
   "source": [
    "# Export CSV\n",
    "merged_data.to_csv('merged_data_modified.csv')  "
   ]
  },
  {
   "cell_type": "code",
   "execution_count": null,
   "metadata": {},
   "outputs": [],
   "source": [
    "merged_data['Date'] = pd.to_timedelta(merged_data['Date']).dt.total_seconds().astype(int)\n",
    "#merged_data['Date'] = pd.to_datetime(merged_data['Date'], format='%Y-%m-%d').dt.time"
   ]
  },
  {
   "cell_type": "code",
   "execution_count": null,
   "metadata": {},
   "outputs": [],
   "source": [
    "#merged_data.head()"
   ]
  },
  {
   "cell_type": "markdown",
   "metadata": {},
   "source": [
    "## Create subset of Countries that have reached 5 days > 100 cases"
   ]
  },
  {
   "cell_type": "code",
   "execution_count": null,
   "metadata": {},
   "outputs": [],
   "source": [
    "cases5 = merged_data[merged_data.groupby('Code')['days_gt_100'].transform(lambda x: (x == 5).sum())>0]"
   ]
  },
  {
   "cell_type": "code",
   "execution_count": null,
   "metadata": {},
   "outputs": [],
   "source": [
    "cases5group = cases5.groupby('Code')"
   ]
  },
  {
   "cell_type": "code",
   "execution_count": null,
   "metadata": {},
   "outputs": [],
   "source": [
    "cases5slopes = (cases5group.apply(lambda x: pd.Series(linregress(x['Date'],x['log_cases'])))\\\n",
    "        .rename(columns={\n",
    "        0: 'slope',\n",
    "        1: 'intercept',\n",
    "        2: 'rvalue',\n",
    "        3: 'pvalue',\n",
    "        4: 'stderr'\n",
    "    }))\n",
    "casesPop5slopes = (cases5group.apply(lambda x: pd.Series(linregress(x['Date'],x['logcasesPop'])))\\\n",
    "        .rename(columns={\n",
    "        0: 'slopePop',\n",
    "        1: 'interceptPop',\n",
    "        2: 'rvaluePop',\n",
    "        3: 'pvaluePop',\n",
    "        4: 'stderrPop'\n",
    "    }))"
   ]
  },
  {
   "cell_type": "code",
   "execution_count": null,
   "metadata": {},
   "outputs": [],
   "source": [
    "merged5 = merged_data[merged_data.days_gt_100 == 5]"
   ]
  },
  {
   "cell_type": "code",
   "execution_count": null,
   "metadata": {},
   "outputs": [],
   "source": [
    "mergedcases5 = pd.merge(merged5, cases5slopes, on=[\"Code\"])\n",
    "mergedcases5 = pd.merge(mergedcases5, casesPop5slopes, on=[\"Code\"])"
   ]
  },
  {
   "cell_type": "code",
   "execution_count": null,
   "metadata": {},
   "outputs": [],
   "source": [
    "#mergedcases5.dropna(subset=['idv'],inplace=True)"
   ]
  },
  {
   "cell_type": "code",
   "execution_count": null,
   "metadata": {},
   "outputs": [],
   "source": [
    "# Export CSV\n",
    "mergedcases5.to_csv('cases5.csv')  "
   ]
  },
  {
   "cell_type": "code",
   "execution_count": null,
   "metadata": {},
   "outputs": [],
   "source": [
    "corr5 = mergedcases5.corr()"
   ]
  },
  {
   "cell_type": "code",
   "execution_count": null,
   "metadata": {},
   "outputs": [],
   "source": [
    "# Plot the Pearson Correlation reduced matrix\n",
    "matrix = np.triu(corr5)\n",
    "fig, ax = plt.subplots(figsize=(15,9)) \n",
    "ax = sns.heatmap(corr5,   mask = matrix, cmap = 'RdYlBu')\n",
    "bottom, top = ax.get_ylim()\n",
    "ax.set_ylim(bottom + 0.5, top - 0.5)\n",
    "plt.title('Pearson Correlation matrix for Countries at 5 days since 100th Covid case')"
   ]
  },
  {
   "cell_type": "code",
   "execution_count": null,
   "metadata": {},
   "outputs": [],
   "source": [
    "corr5.to_csv('corrcases5.csv')"
   ]
  },
  {
   "cell_type": "markdown",
   "metadata": {},
   "source": [
    "## Create subset of Countries that have reached 10 days > 100 cases"
   ]
  },
  {
   "cell_type": "code",
   "execution_count": null,
   "metadata": {},
   "outputs": [],
   "source": [
    "cases10 = merged_data[merged_data.groupby('Code')['days_gt_100'].transform(lambda x: (x == 10).sum())>0]"
   ]
  },
  {
   "cell_type": "code",
   "execution_count": null,
   "metadata": {},
   "outputs": [],
   "source": [
    "cases10group = cases10.groupby('Code')"
   ]
  },
  {
   "cell_type": "code",
   "execution_count": null,
   "metadata": {},
   "outputs": [],
   "source": [
    "cases10slopes = (cases10group.apply(lambda x: pd.Series(linregress(x['Date'],x['log_cases'])))\\\n",
    "        .rename(columns={\n",
    "        0: 'slope',\n",
    "        1: 'intercept',\n",
    "        2: 'rvalue',\n",
    "        3: 'pvalue',\n",
    "        4: 'stderr'\n",
    "    }))\n",
    "casesPop10slopes = (cases10group.apply(lambda x: pd.Series(linregress(x['Date'],x['logcasesPop'])))\\\n",
    "        .rename(columns={\n",
    "        0: 'slopePop',\n",
    "        1: 'interceptPop',\n",
    "        2: 'rvaluePop',\n",
    "        3: 'pvaluePop',\n",
    "        4: 'stderrPop'\n",
    "    }))"
   ]
  },
  {
   "cell_type": "code",
   "execution_count": null,
   "metadata": {},
   "outputs": [],
   "source": [
    "merged10 = merged_data[merged_data.days_gt_100 == 10]"
   ]
  },
  {
   "cell_type": "code",
   "execution_count": null,
   "metadata": {},
   "outputs": [],
   "source": [
    "mergedcases10 = pd.merge(merged10, cases10slopes, on=[\"Code\"])\n",
    "mergedcases10 = pd.merge(mergedcases10, casesPop10slopes, on=[\"Code\"])"
   ]
  },
  {
   "cell_type": "code",
   "execution_count": null,
   "metadata": {},
   "outputs": [],
   "source": [
    "# Export CSV\n",
    "mergedcases10.to_csv('cases10.csv')  "
   ]
  },
  {
   "cell_type": "code",
   "execution_count": null,
   "metadata": {},
   "outputs": [],
   "source": [
    "corr10 = mergedcases10.corr()"
   ]
  },
  {
   "cell_type": "code",
   "execution_count": null,
   "metadata": {},
   "outputs": [],
   "source": [
    "# Plot the Pearson Correlation reduced matrix\n",
    "matrix = np.triu(corr10)\n",
    "fig, ax = plt.subplots(figsize=(15,9)) \n",
    "ax = sns.heatmap(corr10,   mask = matrix, cmap = 'RdYlBu')\n",
    "bottom, top = ax.get_ylim()\n",
    "ax.set_ylim(bottom + 0.5, top - 0.5)\n",
    "plt.title('Pearson Correlation matrix for Countries at 10 days since 100th Covid case')"
   ]
  },
  {
   "cell_type": "code",
   "execution_count": null,
   "metadata": {},
   "outputs": [],
   "source": [
    "corr10.to_csv('corrcases10.csv')"
   ]
  },
  {
   "cell_type": "code",
   "execution_count": null,
   "metadata": {},
   "outputs": [],
   "source": []
  },
  {
   "cell_type": "markdown",
   "metadata": {},
   "source": [
    "## Create subset of Countries that have reached 20 days > 100 cases"
   ]
  },
  {
   "cell_type": "code",
   "execution_count": null,
   "metadata": {},
   "outputs": [],
   "source": [
    "cases20 = merged_data[merged_data.groupby('Code')['days_gt_100'].transform(lambda x: (x == 20).sum())>0]"
   ]
  },
  {
   "cell_type": "code",
   "execution_count": null,
   "metadata": {},
   "outputs": [],
   "source": [
    "cases20group = cases20.groupby('Code')"
   ]
  },
  {
   "cell_type": "code",
   "execution_count": null,
   "metadata": {},
   "outputs": [],
   "source": [
    "cases20slopes = (cases20group.apply(lambda x: pd.Series(linregress(x['Date'],x['log_cases'])))\\\n",
    "        .rename(columns={\n",
    "        0: 'slope',\n",
    "        1: 'intercept',\n",
    "        2: 'rvalue',\n",
    "        3: 'pvalue',\n",
    "        4: 'stderr'\n",
    "    }))\n",
    "casesPop20slopes = (cases20group.apply(lambda x: pd.Series(linregress(x['Date'],x['logcasesPop'])))\\\n",
    "        .rename(columns={\n",
    "        0: 'slopePop',\n",
    "        1: 'interceptPop',\n",
    "        2: 'rvaluePop',\n",
    "        3: 'pvaluePop',\n",
    "        4: 'stderrPop'\n",
    "    }))"
   ]
  },
  {
   "cell_type": "code",
   "execution_count": null,
   "metadata": {},
   "outputs": [],
   "source": [
    "merged20 = merged_data[merged_data.days_gt_100 == 20]"
   ]
  },
  {
   "cell_type": "code",
   "execution_count": null,
   "metadata": {},
   "outputs": [],
   "source": [
    "mergedcases20 = pd.merge(merged20, cases20slopes, on=[\"Code\"])\n",
    "mergedcases20 = pd.merge(mergedcases20, casesPop20slopes, on=[\"Code\"])"
   ]
  },
  {
   "cell_type": "code",
   "execution_count": null,
   "metadata": {},
   "outputs": [],
   "source": [
    "# Export CSV\n",
    "mergedcases20.to_csv('cases20.csv')  "
   ]
  },
  {
   "cell_type": "code",
   "execution_count": null,
   "metadata": {},
   "outputs": [],
   "source": [
    "corr20 = mergedcases20.corr()"
   ]
  },
  {
   "cell_type": "code",
   "execution_count": null,
   "metadata": {},
   "outputs": [],
   "source": [
    "# Plot the Pearson Correlation reduced matrix\n",
    "matrix = np.triu(corr20)\n",
    "fig, ax = plt.subplots(figsize=(15,9)) \n",
    "ax = sns.heatmap(corr20,   mask = matrix, cmap = 'RdYlBu')\n",
    "bottom, top = ax.get_ylim()\n",
    "ax.set_ylim(bottom + 0.5, top - 0.5)\n",
    "plt.title('Pearson Correlation matrix for Countries at 20 days since 100th Covid case')"
   ]
  },
  {
   "cell_type": "code",
   "execution_count": null,
   "metadata": {},
   "outputs": [],
   "source": [
    "corr20.to_csv('corrcases20.csv')"
   ]
  },
  {
   "cell_type": "code",
   "execution_count": null,
   "metadata": {},
   "outputs": [],
   "source": []
  },
  {
   "cell_type": "markdown",
   "metadata": {},
   "source": [
    "## Create subset of Countries that have reached 30 days > 100 cases"
   ]
  },
  {
   "cell_type": "code",
   "execution_count": null,
   "metadata": {},
   "outputs": [],
   "source": [
    "cases30 = merged_data[merged_data.groupby('Code')['days_gt_100'].transform(lambda x: (x == 30).sum())>0]"
   ]
  },
  {
   "cell_type": "code",
   "execution_count": null,
   "metadata": {},
   "outputs": [],
   "source": [
    "cases30group = cases30.groupby('Code')"
   ]
  },
  {
   "cell_type": "code",
   "execution_count": null,
   "metadata": {},
   "outputs": [],
   "source": [
    "cases30slopes = (cases30group.apply(lambda x: pd.Series(linregress(x['Date'],x['log_cases'])))\\\n",
    "        .rename(columns={\n",
    "        0: 'slope',\n",
    "        1: 'intercept',\n",
    "        2: 'rvalue',\n",
    "        3: 'pvalue',\n",
    "        4: 'stderr'\n",
    "    }))\n",
    "casesPop30slopes = (cases30group.apply(lambda x: pd.Series(linregress(x['Date'],x['logcasesPop'])))\\\n",
    "        .rename(columns={\n",
    "        0: 'slopePop',\n",
    "        1: 'interceptPop',\n",
    "        2: 'rvaluePop',\n",
    "        3: 'pvaluePop',\n",
    "        4: 'stderrPop'\n",
    "    }))"
   ]
  },
  {
   "cell_type": "code",
   "execution_count": null,
   "metadata": {},
   "outputs": [],
   "source": [
    "merged30 = merged_data[merged_data.days_gt_100 == 30]"
   ]
  },
  {
   "cell_type": "code",
   "execution_count": null,
   "metadata": {},
   "outputs": [],
   "source": [
    "mergedcases30 = pd.merge(merged30, cases30slopes, on=[\"Code\"])\n",
    "mergedcases30 = pd.merge(mergedcases30, casesPop30slopes, on=[\"Code\"])"
   ]
  },
  {
   "cell_type": "code",
   "execution_count": null,
   "metadata": {},
   "outputs": [],
   "source": [
    "# Export CSV\n",
    "mergedcases30.to_csv('cases30.csv')  "
   ]
  },
  {
   "cell_type": "code",
   "execution_count": null,
   "metadata": {},
   "outputs": [],
   "source": [
    "corr30 = mergedcases30.corr()"
   ]
  },
  {
   "cell_type": "code",
   "execution_count": null,
   "metadata": {},
   "outputs": [],
   "source": [
    "# Plot the Pearson Correlation reduced matrix\n",
    "matrix = np.triu(corr30)\n",
    "fig, ax = plt.subplots(figsize=(15,9)) \n",
    "ax = sns.heatmap(corr30,   mask = matrix, cmap = 'RdYlBu')\n",
    "bottom, top = ax.get_ylim()\n",
    "ax.set_ylim(bottom + 0.5, top - 0.5)\n",
    "plt.title('Pearson Correlation matrix for Countries at 30 days since 100th Covid case')"
   ]
  },
  {
   "cell_type": "code",
   "execution_count": null,
   "metadata": {},
   "outputs": [],
   "source": [
    "corr30.to_csv('corrcases30.csv')"
   ]
  },
  {
   "cell_type": "code",
   "execution_count": null,
   "metadata": {},
   "outputs": [],
   "source": []
  },
  {
   "cell_type": "markdown",
   "metadata": {},
   "source": [
    "## Create subset of Countries that have reached 35 days > 100 cases"
   ]
  },
  {
   "cell_type": "code",
   "execution_count": null,
   "metadata": {},
   "outputs": [],
   "source": [
    "cases35 = merged_data[merged_data.groupby('Code')['days_gt_100'].transform(lambda x: (x == 35).sum())>0]"
   ]
  },
  {
   "cell_type": "code",
   "execution_count": null,
   "metadata": {},
   "outputs": [],
   "source": [
    "cases35group = cases35.groupby('Code')"
   ]
  },
  {
   "cell_type": "code",
   "execution_count": null,
   "metadata": {},
   "outputs": [],
   "source": [
    "cases35slopes = (cases35group.apply(lambda x: pd.Series(linregress(x['Date'],x['log_cases'])))\\\n",
    "        .rename(columns={\n",
    "        0: 'slope',\n",
    "        1: 'intercept',\n",
    "        2: 'rvalue',\n",
    "        3: 'pvalue',\n",
    "        4: 'stderr'\n",
    "    }))\n",
    "casesPop35slopes = (cases35group.apply(lambda x: pd.Series(linregress(x['Date'],x['logcasesPop'])))\\\n",
    "        .rename(columns={\n",
    "        0: 'slopePop',\n",
    "        1: 'interceptPop',\n",
    "        2: 'rvaluePop',\n",
    "        3: 'pvaluePop',\n",
    "        4: 'stderrPop'\n",
    "    }))"
   ]
  },
  {
   "cell_type": "code",
   "execution_count": null,
   "metadata": {},
   "outputs": [],
   "source": [
    "merged35 = merged_data[merged_data.days_gt_100 == 35]"
   ]
  },
  {
   "cell_type": "code",
   "execution_count": null,
   "metadata": {},
   "outputs": [],
   "source": [
    "mergedcases35 = pd.merge(merged35, cases35slopes, on=[\"Code\"])\n",
    "mergedcases35 = pd.merge(mergedcases35, casesPop35slopes, on=[\"Code\"])"
   ]
  },
  {
   "cell_type": "code",
   "execution_count": null,
   "metadata": {},
   "outputs": [],
   "source": [
    "# Export CSV\n",
    "mergedcases35.to_csv('cases35.csv')  "
   ]
  },
  {
   "cell_type": "code",
   "execution_count": null,
   "metadata": {},
   "outputs": [],
   "source": [
    "corr35 = mergedcases35.corr()"
   ]
  },
  {
   "cell_type": "code",
   "execution_count": null,
   "metadata": {},
   "outputs": [],
   "source": [
    "# Plot the Pearson Correlation reduced matrix\n",
    "matrix = np.triu(corr35)\n",
    "fig, ax = plt.subplots(figsize=(15,9)) \n",
    "ax = sns.heatmap(corr35,   mask = matrix, cmap = 'RdYlBu')\n",
    "bottom, top = ax.get_ylim()\n",
    "ax.set_ylim(bottom + 0.5, top - 0.5)\n",
    "plt.title('Pearson Correlation matrix for Countries at 30 days since 100th Covid case')"
   ]
  },
  {
   "cell_type": "code",
   "execution_count": null,
   "metadata": {},
   "outputs": [],
   "source": [
    "corr35.to_csv('corrcases35.csv')"
   ]
  },
  {
   "cell_type": "code",
   "execution_count": null,
   "metadata": {},
   "outputs": [],
   "source": []
  },
  {
   "cell_type": "code",
   "execution_count": null,
   "metadata": {},
   "outputs": [],
   "source": []
  },
  {
   "cell_type": "markdown",
   "metadata": {},
   "source": [
    "## Create subset of Countries that have reached 40 days > 100 cases"
   ]
  },
  {
   "cell_type": "code",
   "execution_count": null,
   "metadata": {},
   "outputs": [],
   "source": [
    "cases40 = merged_data[merged_data.groupby('Code')['days_gt_100'].transform(lambda x: (x == 40).sum())>0]"
   ]
  },
  {
   "cell_type": "code",
   "execution_count": null,
   "metadata": {},
   "outputs": [],
   "source": [
    "cases40group = cases40.groupby('Code')"
   ]
  },
  {
   "cell_type": "code",
   "execution_count": null,
   "metadata": {},
   "outputs": [],
   "source": [
    "cases40slopes = (cases40group.apply(lambda x: pd.Series(linregress(x['Date'],x['log_cases'])))\\\n",
    "        .rename(columns={\n",
    "        0: 'slope',\n",
    "        1: 'intercept',\n",
    "        2: 'rvalue',\n",
    "        3: 'pvalue',\n",
    "        4: 'stderr'\n",
    "    }))\n",
    "casesPop40slopes = (cases40group.apply(lambda x: pd.Series(linregress(x['Date'],x['logcasesPop'])))\\\n",
    "        .rename(columns={\n",
    "        0: 'slopePop',\n",
    "        1: 'interceptPop',\n",
    "        2: 'rvaluePop',\n",
    "        3: 'pvaluePop',\n",
    "        4: 'stderrPop'\n",
    "    }))"
   ]
  },
  {
   "cell_type": "code",
   "execution_count": null,
   "metadata": {},
   "outputs": [],
   "source": [
    "merged40 = merged_data[merged_data.days_gt_100 == 40]"
   ]
  },
  {
   "cell_type": "code",
   "execution_count": null,
   "metadata": {},
   "outputs": [],
   "source": [
    "mergedcases40 = pd.merge(merged40, cases40slopes, on=[\"Code\"])\n",
    "mergedcases40 = pd.merge(mergedcases40, casesPop40slopes, on=[\"Code\"])"
   ]
  },
  {
   "cell_type": "code",
   "execution_count": null,
   "metadata": {},
   "outputs": [],
   "source": [
    "# Export CSV\n",
    "mergedcases40.to_csv('cases40.csv')  "
   ]
  },
  {
   "cell_type": "code",
   "execution_count": null,
   "metadata": {},
   "outputs": [],
   "source": [
    "corr40 = mergedcases40.corr()"
   ]
  },
  {
   "cell_type": "code",
   "execution_count": null,
   "metadata": {},
   "outputs": [],
   "source": [
    "# Plot the Pearson Correlation reduced matrix\n",
    "matrix = np.triu(corr40)\n",
    "fig, ax = plt.subplots(figsize=(15,9)) \n",
    "ax = sns.heatmap(corr40,   mask = matrix, cmap = 'RdYlBu')\n",
    "bottom, top = ax.get_ylim()\n",
    "ax.set_ylim(bottom + 0.5, top - 0.5)\n",
    "plt.title('Pearson Correlation matrix for Countries at 40 days since 100th Covid case')"
   ]
  },
  {
   "cell_type": "code",
   "execution_count": null,
   "metadata": {},
   "outputs": [],
   "source": [
    "corr40.to_csv('corrcases40.csv')"
   ]
  },
  {
   "cell_type": "markdown",
   "metadata": {},
   "source": [
    "### Concatonate the dataframes back together into one dataframe"
   ]
  },
  {
   "cell_type": "code",
   "execution_count": null,
   "metadata": {},
   "outputs": [],
   "source": [
    "# Concatonate all the dataframes \n",
    "cases_df = pd.concat([mergedcases40, mergedcases35, mergedcases30, mergedcases20, mergedcases10, mergedcases5])"
   ]
  },
  {
   "cell_type": "code",
   "execution_count": null,
   "metadata": {
    "scrolled": true
   },
   "outputs": [],
   "source": [
    "cases_df.head()"
   ]
  },
  {
   "cell_type": "code",
   "execution_count": null,
   "metadata": {},
   "outputs": [],
   "source": [
    "cases_df.to_csv('cases_df.csv')"
   ]
  },
  {
   "cell_type": "code",
   "execution_count": null,
   "metadata": {},
   "outputs": [],
   "source": [
    "cases_df.columns"
   ]
  },
  {
   "cell_type": "code",
   "execution_count": null,
   "metadata": {},
   "outputs": [],
   "source": [
    "cases_df.head()\n",
    "multi_slope = cases_df.set_index(['globalName','regionName','subRegionName','country'])\n",
    "multi_slope = multi_slope.sort_index()\n",
    "print(multi_slope.shape)\n",
    "multi_slope.head()"
   ]
  },
  {
   "cell_type": "markdown",
   "metadata": {},
   "source": [
    "### Function to easily do a panel of scatterplots easily"
   ]
  },
  {
   "cell_type": "code",
   "execution_count": null,
   "metadata": {},
   "outputs": [],
   "source": [
    "def makePanelScatterplot(data_df, x_data,y_data,color_col,split_col):\n",
    "    x_label = x_data\n",
    "    y_label = y_data\n",
    "    ylim_min = data_df[y_data].min()*1.05\n",
    "    ylim_max = data_df[y_data].max()*1.05\n",
    "    xlim_min = data_df[x_data].min()*1.05\n",
    "    xlim_max = data_df[x_data].max()*1.05\n",
    "\n",
    "    g = sns.lmplot(x=x_data, y=y_data, data=data_df,\\\n",
    "           hue=color_col, col=split_col,col_wrap=3)\n",
    "\n",
    "        \n",
    "    g = (g.set_axis_labels(x_label, y_label)\n",
    "          .set(ylim=(ylim_min, ylim_max),xlim=(xlim_min, xlim_max))\n",
    "          .fig.subplots_adjust(wspace=.02))"
   ]
  },
  {
   "cell_type": "markdown",
   "metadata": {},
   "source": [
    "# Slope of # Covid Cases vs. Power-Distance (PDI) of Culture"
   ]
  },
  {
   "cell_type": "code",
   "execution_count": null,
   "metadata": {},
   "outputs": [],
   "source": [
    "makePanelScatterplot(cases_df,\"pdi\",\"slopePop\",\"days_gt_100\",\"days_gt_100\")"
   ]
  },
  {
   "cell_type": "markdown",
   "metadata": {},
   "source": [
    "# Slope of # Covid Cases vs. Individualism/Collectivism of Culture"
   ]
  },
  {
   "cell_type": "code",
   "execution_count": null,
   "metadata": {},
   "outputs": [],
   "source": [
    "makePanelScatterplot(cases_df,\"ivr\",\"slopePop\",\"days_gt_100\",\"days_gt_100\")"
   ]
  },
  {
   "cell_type": "markdown",
   "metadata": {},
   "source": [
    "# Slope of # Covid Cases vs. Indulgence (IVR) of Culture"
   ]
  },
  {
   "cell_type": "code",
   "execution_count": null,
   "metadata": {},
   "outputs": [],
   "source": [
    "makePanelScatterplot(cases_df,\"ivr\",\"slopePop\",\"days_gt_100\",\"days_gt_100\")"
   ]
  },
  {
   "cell_type": "markdown",
   "metadata": {},
   "source": [
    "# Slope of # Covid Cases vs. Long-term Orientation (LTOWVS) of Culture"
   ]
  },
  {
   "cell_type": "code",
   "execution_count": null,
   "metadata": {},
   "outputs": [],
   "source": [
    "makePanelScatterplot(cases_df,\"ltowvs\",\"slopePop\",\"days_gt_100\",\"days_gt_100\")"
   ]
  },
  {
   "cell_type": "markdown",
   "metadata": {},
   "source": [
    "# Slope of # Covid Cases vs. Masculine/Feminine (MAS) of Culture"
   ]
  },
  {
   "cell_type": "code",
   "execution_count": null,
   "metadata": {},
   "outputs": [],
   "source": [
    "makePanelScatterplot(cases_df,\"mas\",\"slope\",\"days_gt_100\",\"days_gt_100\")"
   ]
  },
  {
   "cell_type": "markdown",
   "metadata": {},
   "source": [
    "# Slope of # Covid Cases vs. Uncertainty Avoidance (UAI) of Culture"
   ]
  },
  {
   "cell_type": "code",
   "execution_count": null,
   "metadata": {},
   "outputs": [],
   "source": [
    "makePanelScatterplot(cases_df,\"uai\",\"slope\",\"days_gt_100\",\"days_gt_100\")"
   ]
  },
  {
   "cell_type": "code",
   "execution_count": null,
   "metadata": {},
   "outputs": [],
   "source": [
    "cases_df.columns"
   ]
  },
  {
   "cell_type": "code",
   "execution_count": null,
   "metadata": {},
   "outputs": [],
   "source": [
    "makePanelScatterplot(cases_df,\"lifeExpectancy\",\"medianAge\",\"days_gt_100\",\"days_gt_100\")"
   ]
  },
  {
   "cell_type": "markdown",
   "metadata": {},
   "source": [
    "# Change is"
   ]
  },
  {
   "cell_type": "code",
   "execution_count": null,
   "metadata": {},
   "outputs": [],
   "source": [
    "makePanelScatterplot(cases_df,\"logcasesPop\",\"slopePop\",\"days_gt_100\",\"days_gt_100\")"
   ]
  },
  {
   "cell_type": "code",
   "execution_count": null,
   "metadata": {},
   "outputs": [],
   "source": [
    "cases_df.columns"
   ]
  },
  {
   "cell_type": "code",
   "execution_count": null,
   "metadata": {},
   "outputs": [],
   "source": [
    "multi_slope.head()"
   ]
  },
  {
   "cell_type": "code",
   "execution_count": null,
   "metadata": {},
   "outputs": [],
   "source": [
    "makePanelScatterplot(cases_df,\"ivr\",\"slopePop\",\"days_gt_100\",\"days_gt_100\")"
   ]
  },
  {
   "cell_type": "code",
   "execution_count": null,
   "metadata": {},
   "outputs": [],
   "source": []
  },
  {
   "cell_type": "code",
   "execution_count": null,
   "metadata": {},
   "outputs": [],
   "source": [
    "def olsRegressionAnalysis (df,df_name,dep_col,ind_col):\n",
    "    stat_dep_col = dep_col.replace(' ','_').replace('-','_').replace('(','_').replace(')','')\n",
    "    stat_ind_col = ind_col.replace(' ','_').replace('-','_').replace('(','_').replace(')','')\n",
    "    stat_col_list = [stat_dep_col,stat_ind_col]\n",
    "    #print(f'stat_dep_col: {stat_dep_col}, stat_ind_col: {stat_ind_col}')\n",
    "    col_list = [dep_col,ind_col]\n",
    "\n",
    "    col_dict = {col_list[i]: stat_col_list[i] for i in range(len(col_list))} \n",
    "    #print(col_dict)\n",
    "    stat_df = df[col_list].dropna()\n",
    "    stat_df.rename(columns=col_dict,inplace=True)\n",
    "    print(f'\\u001b[34m{dep_col}\\u001b[0m fitted against \\u001b[34m{ind_col}\\u001b[0m \\\n",
    "    using \\x1b[31m{df_name}\\x1b[0m dataframe:\\n')\n",
    "    print(f'We have {stat_df.shape[0]} rows left after dropping Null values\\n')\n",
    "    model_string = stat_dep_col + \" ~ \" + stat_ind_col\n",
    "    all_model = ols(model_string, data=stat_df).fit()\n",
    "    print(all_model.summary())"
   ]
  },
  {
   "cell_type": "code",
   "execution_count": null,
   "metadata": {},
   "outputs": [],
   "source": [
    "cases_df.columns"
   ]
  },
  {
   "cell_type": "code",
   "execution_count": null,
   "metadata": {},
   "outputs": [],
   "source": [
    "# Create tidy datasets for Country then Covid\n",
    "country_cols = ['Entity', 'Code', 'popDensity', 'gdp', 'gapPop', 'urbanPop', 'ruralPop',\n",
    "       'urbanPct', 'ruralPct', 'lifeExpectancy', 'globalCode', 'globalName',\n",
    "       'regionCode', 'regionName', 'subRegionCode', 'subRegionName',\n",
    "       'interRegionCode', 'interRegionName', 'country', 'm49', 'ldc', 'lldc',\n",
    "       'sids', 'development', 'countryWom', 'calcPop', 'medianAge', 'pdi',\n",
    "       'idv', 'mas', 'uai', 'ltowvs', 'ivr']\n",
    "countries = cases_df[country_cols].drop_duplicates()\n",
    "countries = countries.reset_index(drop=True)\n",
    "countries = countries.set_index(['Code'])\n",
    "countries.head()"
   ]
  },
  {
   "cell_type": "code",
   "execution_count": null,
   "metadata": {},
   "outputs": [],
   "source": [
    "countries.columns"
   ]
  },
  {
   "cell_type": "code",
   "execution_count": null,
   "metadata": {},
   "outputs": [],
   "source": [
    "# Create Covid cases table\n",
    "covid_vc = pd.merge(cases_df, countries, on=['Entity', 'popDensity', 'gdp', 'gapPop', 'urbanPop', 'ruralPop',\n",
    "       'urbanPct', 'ruralPct', 'lifeExpectancy', 'globalCode', 'globalName',\n",
    "       'regionCode', 'regionName', 'subRegionCode', 'subRegionName',\n",
    "       'interRegionCode', 'interRegionName', 'country', 'm49', 'ldc', 'lldc',\n",
    "       'sids', 'development', 'countryWom', 'calcPop', 'medianAge', 'pdi',\n",
    "       'idv', 'mas', 'uai', 'ltowvs', 'ivr'])\n",
    "covid_vc.columns"
   ]
  },
  {
   "cell_type": "code",
   "execution_count": null,
   "metadata": {},
   "outputs": [],
   "source": [
    "covid_vc = covid_vc[['Code','Date', 'cases', 'days_gt_100',\n",
    "       'log_cases', 'casesPop', 'logcasesPop', 'logcasesMPop', 'slope',\n",
    "       'intercept', 'rvalue', 'pvalue', 'stderr', 'slopePop', 'interceptPop',\n",
    "       'rvaluePop', 'pvaluePop', 'stderrPop']]\n",
    "covid_vc.head()"
   ]
  },
  {
   "cell_type": "code",
   "execution_count": null,
   "metadata": {},
   "outputs": [],
   "source": [
    "tidy_df = cases_df.melt(id_vars=\"days_gt_100\")"
   ]
  },
  {
   "cell_type": "code",
   "execution_count": null,
   "metadata": {},
   "outputs": [],
   "source": [
    "cases_df.head()"
   ]
  },
  {
   "cell_type": "code",
   "execution_count": null,
   "metadata": {},
   "outputs": [],
   "source": [
    "px.line(cases_df, x='days_gt_100',y='log_cases')"
   ]
  },
  {
   "cell_type": "code",
   "execution_count": null,
   "metadata": {},
   "outputs": [],
   "source": [
    "tidy_df.columns"
   ]
  },
  {
   "cell_type": "code",
   "execution_count": null,
   "metadata": {},
   "outputs": [],
   "source": [
    "import plotly.graph_objects as go\n",
    "fig = go.FigureWidget(data=go.Bar(y=[2, 3, 1]))\n",
    "fig.write_image('figure.png')"
   ]
  },
  {
   "cell_type": "code",
   "execution_count": null,
   "metadata": {},
   "outputs": [],
   "source": [
    "merged_data = px.data.gapminder().query(\"continent != 'Asia'\") # remove Asia for visibility\n",
    "fig = px.line(df, x=\"year\", y=\"lifeExp\", color=\"continent\",\n",
    "              line_group=\"country\", hover_name=\"country\")\n",
    "fig.show()"
   ]
  },
  {
   "cell_type": "code",
   "execution_count": null,
   "metadata": {},
   "outputs": [],
   "source": [
    "import plotly.express as px\n",
    "df = cases_df.query(\"rangeName == 'Asia'\")\n",
    "fig = px.line(df, x='days_gt_100', y='slope', color='country')\n",
    "fig.show()"
   ]
  },
  {
   "cell_type": "code",
   "execution_count": null,
   "metadata": {},
   "outputs": [],
   "source": [
    "#olsRegressionAnalysis(cases40,\"log_cases\",\"slope\",\"Code\")"
   ]
  },
  {
   "cell_type": "code",
   "execution_count": null,
   "metadata": {},
   "outputs": [],
   "source": [
    "\n",
    "#merged_data['slope'] = merged_data.groupby('Code').diff()(lambda v: linregress(v.Date, v.cases)[0])\n",
    "#merged_data['slope'] = (merged_data.groupby('Code')['cases'].apply(lambda x: x.shift().expanding().mean()))\n",
    "#merged_data['slope'] = (merged_data.groupby('Code')['Date','cases'].apply(lambda x,y : x.shift().expanding().apply(lambda v: linregress([0], [1])[0])))"
   ]
  },
  {
   "cell_type": "code",
   "execution_count": null,
   "metadata": {},
   "outputs": [],
   "source": [
    "#jupyter nbconvert merge_data_modified.ipynb --to html --output covidCulture.html"
   ]
  }
 ],
 "metadata": {
  "kernelspec": {
   "display_name": "Python 3",
   "language": "python",
   "name": "python3"
  },
  "language_info": {
   "codemirror_mode": {
    "name": "ipython",
    "version": 3
   },
   "file_extension": ".py",
   "mimetype": "text/x-python",
   "name": "python",
   "nbconvert_exporter": "python",
   "pygments_lexer": "ipython3",
   "version": "3.7.3"
  }
 },
 "nbformat": 4,
 "nbformat_minor": 2
}
